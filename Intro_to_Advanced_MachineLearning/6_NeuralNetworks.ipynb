{
  "nbformat": 4,
  "nbformat_minor": 0,
  "metadata": {
    "colab": {
      "name": "Neural Networks - Intro to Advanced ML.ipynb",
      "provenance": [],
      "collapsed_sections": [],
      "toc_visible": true
    },
    "kernelspec": {
      "name": "python3",
      "display_name": "Python 3"
    }
  },
  "cells": [
    {
      "cell_type": "markdown",
      "metadata": {
        "id": "-kooSgX-5Ip2"
      },
      "source": [
        "# Neural Networks"
      ]
    },
    {
      "cell_type": "markdown",
      "metadata": {
        "id": "crUHG_UP5HAH"
      },
      "source": [
        "Dataset Information: https://www.kaggle.com/c/zillow-prize-1/data\n",
        "\n",
        "Dataset Link: https://drive.google.com/file/d/1GfvKA0qznNVknghV4botnNxyH-KvODOC/view?usp=sharing\n",
        "\n",
        "Dataset Description: modified from Zillow's Home Value Prediction Kaggle competition data\n"
      ]
    },
    {
      "cell_type": "markdown",
      "metadata": {
        "id": "Ei_bFSakHBmE"
      },
      "source": [
        "**Steps to access, download, and use the dataset:**\n",
        "\n",
        "* Access the above link to the dataset download \"housepricedata.csv\".\n",
        "* Once downloaded, click on the file and save the file in a folder that is easily accessible - E.g. \"Documents\"\n",
        "* Open a Google Colab Notebook\n",
        "  * In the left pane of the Google Colab, click on \"Files\" and select the upload icon (Icon hover text: \"Upload to session storage\")\n",
        "  * You are now ready to start using the data in the Colab Notebook!\n"
      ]
    },
    {
      "cell_type": "markdown",
      "metadata": {
        "id": "oT2_w-C2HYk3"
      },
      "source": [
        "Data location within Colab: '/content/housepricedata.csv'"
      ]
    },
    {
      "cell_type": "markdown",
      "metadata": {
        "id": "KIKZdDvMHCLQ"
      },
      "source": [
        "Check whick folder in the Google Colab notebook we are currently in?\n"
      ]
    },
    {
      "cell_type": "code",
      "metadata": {
        "id": "tZdVE3KNHCdu",
        "outputId": "28cd9b3a-6831-4ffe-bae7-a371b69fc89a",
        "colab": {
          "base_uri": "https://localhost:8080/",
          "height": 35
        }
      },
      "source": [
        "pwd"
      ],
      "execution_count": null,
      "outputs": [
        {
          "output_type": "execute_result",
          "data": {
            "application/vnd.google.colaboratory.intrinsic+json": {
              "type": "string"
            },
            "text/plain": [
              "'/content'"
            ]
          },
          "metadata": {
            "tags": []
          },
          "execution_count": 1
        }
      ]
    },
    {
      "cell_type": "markdown",
      "metadata": {
        "id": "ppmI5kLsHC6n"
      },
      "source": [
        "Now that we know which folder we are in, how do we see if the data we loaded is correctly loaded or not?"
      ]
    },
    {
      "cell_type": "code",
      "metadata": {
        "id": "rwMHNk5CHDPu",
        "outputId": "6f717f7b-0dc0-4bd0-f018-601315f97cbf",
        "colab": {
          "base_uri": "https://localhost:8080/",
          "height": 35
        }
      },
      "source": [
        "ls"
      ],
      "execution_count": null,
      "outputs": [
        {
          "output_type": "stream",
          "text": [
            "housepricedata.csv  \u001b[0m\u001b[01;34msample_data\u001b[0m/\n"
          ],
          "name": "stdout"
        }
      ]
    },
    {
      "cell_type": "markdown",
      "metadata": {
        "id": "i5_izKKEHcl6"
      },
      "source": [
        "## Load dataset"
      ]
    },
    {
      "cell_type": "code",
      "metadata": {
        "id": "phBam_uHH_GM"
      },
      "source": [
        "import pandas as pd"
      ],
      "execution_count": null,
      "outputs": []
    },
    {
      "cell_type": "code",
      "metadata": {
        "id": "B3mYlZNNIGHY"
      },
      "source": [
        "house = pd.read_csv('housepricedata.csv')"
      ],
      "execution_count": null,
      "outputs": []
    },
    {
      "cell_type": "code",
      "metadata": {
        "id": "fsiOWKXIIIeF",
        "outputId": "7c816120-fb41-42f0-9921-b765aefa2480",
        "colab": {
          "base_uri": "https://localhost:8080/",
          "height": 218
        }
      },
      "source": [
        "house.head()"
      ],
      "execution_count": null,
      "outputs": [
        {
          "output_type": "execute_result",
          "data": {
            "text/html": [
              "<div>\n",
              "<style scoped>\n",
              "    .dataframe tbody tr th:only-of-type {\n",
              "        vertical-align: middle;\n",
              "    }\n",
              "\n",
              "    .dataframe tbody tr th {\n",
              "        vertical-align: top;\n",
              "    }\n",
              "\n",
              "    .dataframe thead th {\n",
              "        text-align: right;\n",
              "    }\n",
              "</style>\n",
              "<table border=\"1\" class=\"dataframe\">\n",
              "  <thead>\n",
              "    <tr style=\"text-align: right;\">\n",
              "      <th></th>\n",
              "      <th>LotArea</th>\n",
              "      <th>OverallQual</th>\n",
              "      <th>OverallCond</th>\n",
              "      <th>TotalBsmtSF</th>\n",
              "      <th>FullBath</th>\n",
              "      <th>HalfBath</th>\n",
              "      <th>BedroomAbvGr</th>\n",
              "      <th>TotRmsAbvGrd</th>\n",
              "      <th>Fireplaces</th>\n",
              "      <th>GarageArea</th>\n",
              "      <th>AboveMedianPrice</th>\n",
              "    </tr>\n",
              "  </thead>\n",
              "  <tbody>\n",
              "    <tr>\n",
              "      <th>0</th>\n",
              "      <td>8450</td>\n",
              "      <td>7</td>\n",
              "      <td>5</td>\n",
              "      <td>856</td>\n",
              "      <td>2</td>\n",
              "      <td>1</td>\n",
              "      <td>3</td>\n",
              "      <td>8</td>\n",
              "      <td>0</td>\n",
              "      <td>548</td>\n",
              "      <td>1</td>\n",
              "    </tr>\n",
              "    <tr>\n",
              "      <th>1</th>\n",
              "      <td>9600</td>\n",
              "      <td>6</td>\n",
              "      <td>8</td>\n",
              "      <td>1262</td>\n",
              "      <td>2</td>\n",
              "      <td>0</td>\n",
              "      <td>3</td>\n",
              "      <td>6</td>\n",
              "      <td>1</td>\n",
              "      <td>460</td>\n",
              "      <td>1</td>\n",
              "    </tr>\n",
              "    <tr>\n",
              "      <th>2</th>\n",
              "      <td>11250</td>\n",
              "      <td>7</td>\n",
              "      <td>5</td>\n",
              "      <td>920</td>\n",
              "      <td>2</td>\n",
              "      <td>1</td>\n",
              "      <td>3</td>\n",
              "      <td>6</td>\n",
              "      <td>1</td>\n",
              "      <td>608</td>\n",
              "      <td>1</td>\n",
              "    </tr>\n",
              "    <tr>\n",
              "      <th>3</th>\n",
              "      <td>9550</td>\n",
              "      <td>7</td>\n",
              "      <td>5</td>\n",
              "      <td>756</td>\n",
              "      <td>1</td>\n",
              "      <td>0</td>\n",
              "      <td>3</td>\n",
              "      <td>7</td>\n",
              "      <td>1</td>\n",
              "      <td>642</td>\n",
              "      <td>0</td>\n",
              "    </tr>\n",
              "    <tr>\n",
              "      <th>4</th>\n",
              "      <td>14260</td>\n",
              "      <td>8</td>\n",
              "      <td>5</td>\n",
              "      <td>1145</td>\n",
              "      <td>2</td>\n",
              "      <td>1</td>\n",
              "      <td>4</td>\n",
              "      <td>9</td>\n",
              "      <td>1</td>\n",
              "      <td>836</td>\n",
              "      <td>1</td>\n",
              "    </tr>\n",
              "  </tbody>\n",
              "</table>\n",
              "</div>"
            ],
            "text/plain": [
              "   LotArea  OverallQual  OverallCond  ...  Fireplaces  GarageArea  AboveMedianPrice\n",
              "0     8450            7            5  ...           0         548                 1\n",
              "1     9600            6            8  ...           1         460                 1\n",
              "2    11250            7            5  ...           1         608                 1\n",
              "3     9550            7            5  ...           1         642                 0\n",
              "4    14260            8            5  ...           1         836                 1\n",
              "\n",
              "[5 rows x 11 columns]"
            ]
          },
          "metadata": {
            "tags": []
          },
          "execution_count": 3
        }
      ]
    },
    {
      "cell_type": "code",
      "metadata": {
        "id": "leaWuGsYkiAV"
      },
      "source": [
        "house"
      ],
      "execution_count": null,
      "outputs": []
    },
    {
      "cell_type": "markdown",
      "metadata": {
        "id": "6FBB3xtKIMpw"
      },
      "source": [
        "Convert dataframe to array:"
      ]
    },
    {
      "cell_type": "code",
      "metadata": {
        "id": "Ej5NOtHxIQ0h",
        "outputId": "16db20a7-4c8f-49d1-e5ac-05ba63314786",
        "colab": {
          "base_uri": "https://localhost:8080/",
          "height": 138
        }
      },
      "source": [
        "dataset = house.values\n",
        "dataset"
      ],
      "execution_count": null,
      "outputs": [
        {
          "output_type": "execute_result",
          "data": {
            "text/plain": [
              "array([[ 8450,     7,     5, ...,     0,   548,     1],\n",
              "       [ 9600,     6,     8, ...,     1,   460,     1],\n",
              "       [11250,     7,     5, ...,     1,   608,     1],\n",
              "       ...,\n",
              "       [ 9042,     7,     9, ...,     2,   252,     1],\n",
              "       [ 9717,     5,     6, ...,     0,   240,     0],\n",
              "       [ 9937,     5,     6, ...,     0,   276,     0]])"
            ]
          },
          "metadata": {
            "tags": []
          },
          "execution_count": 4
        }
      ]
    },
    {
      "cell_type": "markdown",
      "metadata": {
        "id": "FcAkufv_HjZt"
      },
      "source": [
        "## Dataset description & info"
      ]
    },
    {
      "cell_type": "code",
      "metadata": {
        "id": "Pdhe7WUsIgHQ",
        "outputId": "45dfc345-c0bb-4313-a1e4-3681c2cfe877",
        "colab": {
          "base_uri": "https://localhost:8080/",
          "height": 35
        }
      },
      "source": [
        "nRow, nCol = house.shape\n",
        "print(f'There are {nRow} rows and {nCol} columns in this dataset')"
      ],
      "execution_count": null,
      "outputs": [
        {
          "output_type": "stream",
          "text": [
            "There are 1460 rows and 11 columns in this dataset\n"
          ],
          "name": "stdout"
        }
      ]
    },
    {
      "cell_type": "code",
      "metadata": {
        "id": "Q0BpRgNkHg9u",
        "outputId": "13061109-1e4f-4104-c9a4-3fd3b94327f2",
        "colab": {
          "base_uri": "https://localhost:8080/",
          "height": 308
        }
      },
      "source": [
        "house.describe()"
      ],
      "execution_count": null,
      "outputs": [
        {
          "output_type": "execute_result",
          "data": {
            "text/html": [
              "<div>\n",
              "<style scoped>\n",
              "    .dataframe tbody tr th:only-of-type {\n",
              "        vertical-align: middle;\n",
              "    }\n",
              "\n",
              "    .dataframe tbody tr th {\n",
              "        vertical-align: top;\n",
              "    }\n",
              "\n",
              "    .dataframe thead th {\n",
              "        text-align: right;\n",
              "    }\n",
              "</style>\n",
              "<table border=\"1\" class=\"dataframe\">\n",
              "  <thead>\n",
              "    <tr style=\"text-align: right;\">\n",
              "      <th></th>\n",
              "      <th>LotArea</th>\n",
              "      <th>OverallQual</th>\n",
              "      <th>OverallCond</th>\n",
              "      <th>TotalBsmtSF</th>\n",
              "      <th>FullBath</th>\n",
              "      <th>HalfBath</th>\n",
              "      <th>BedroomAbvGr</th>\n",
              "      <th>TotRmsAbvGrd</th>\n",
              "      <th>Fireplaces</th>\n",
              "      <th>GarageArea</th>\n",
              "      <th>AboveMedianPrice</th>\n",
              "    </tr>\n",
              "  </thead>\n",
              "  <tbody>\n",
              "    <tr>\n",
              "      <th>count</th>\n",
              "      <td>1460.000000</td>\n",
              "      <td>1460.000000</td>\n",
              "      <td>1460.000000</td>\n",
              "      <td>1460.000000</td>\n",
              "      <td>1460.000000</td>\n",
              "      <td>1460.000000</td>\n",
              "      <td>1460.000000</td>\n",
              "      <td>1460.000000</td>\n",
              "      <td>1460.000000</td>\n",
              "      <td>1460.000000</td>\n",
              "      <td>1460.000000</td>\n",
              "    </tr>\n",
              "    <tr>\n",
              "      <th>mean</th>\n",
              "      <td>10516.828082</td>\n",
              "      <td>6.099315</td>\n",
              "      <td>5.575342</td>\n",
              "      <td>1057.429452</td>\n",
              "      <td>1.565068</td>\n",
              "      <td>0.382877</td>\n",
              "      <td>2.866438</td>\n",
              "      <td>6.517808</td>\n",
              "      <td>0.613014</td>\n",
              "      <td>472.980137</td>\n",
              "      <td>0.498630</td>\n",
              "    </tr>\n",
              "    <tr>\n",
              "      <th>std</th>\n",
              "      <td>9981.264932</td>\n",
              "      <td>1.382997</td>\n",
              "      <td>1.112799</td>\n",
              "      <td>438.705324</td>\n",
              "      <td>0.550916</td>\n",
              "      <td>0.502885</td>\n",
              "      <td>0.815778</td>\n",
              "      <td>1.625393</td>\n",
              "      <td>0.644666</td>\n",
              "      <td>213.804841</td>\n",
              "      <td>0.500169</td>\n",
              "    </tr>\n",
              "    <tr>\n",
              "      <th>min</th>\n",
              "      <td>1300.000000</td>\n",
              "      <td>1.000000</td>\n",
              "      <td>1.000000</td>\n",
              "      <td>0.000000</td>\n",
              "      <td>0.000000</td>\n",
              "      <td>0.000000</td>\n",
              "      <td>0.000000</td>\n",
              "      <td>2.000000</td>\n",
              "      <td>0.000000</td>\n",
              "      <td>0.000000</td>\n",
              "      <td>0.000000</td>\n",
              "    </tr>\n",
              "    <tr>\n",
              "      <th>25%</th>\n",
              "      <td>7553.500000</td>\n",
              "      <td>5.000000</td>\n",
              "      <td>5.000000</td>\n",
              "      <td>795.750000</td>\n",
              "      <td>1.000000</td>\n",
              "      <td>0.000000</td>\n",
              "      <td>2.000000</td>\n",
              "      <td>5.000000</td>\n",
              "      <td>0.000000</td>\n",
              "      <td>334.500000</td>\n",
              "      <td>0.000000</td>\n",
              "    </tr>\n",
              "    <tr>\n",
              "      <th>50%</th>\n",
              "      <td>9478.500000</td>\n",
              "      <td>6.000000</td>\n",
              "      <td>5.000000</td>\n",
              "      <td>991.500000</td>\n",
              "      <td>2.000000</td>\n",
              "      <td>0.000000</td>\n",
              "      <td>3.000000</td>\n",
              "      <td>6.000000</td>\n",
              "      <td>1.000000</td>\n",
              "      <td>480.000000</td>\n",
              "      <td>0.000000</td>\n",
              "    </tr>\n",
              "    <tr>\n",
              "      <th>75%</th>\n",
              "      <td>11601.500000</td>\n",
              "      <td>7.000000</td>\n",
              "      <td>6.000000</td>\n",
              "      <td>1298.250000</td>\n",
              "      <td>2.000000</td>\n",
              "      <td>1.000000</td>\n",
              "      <td>3.000000</td>\n",
              "      <td>7.000000</td>\n",
              "      <td>1.000000</td>\n",
              "      <td>576.000000</td>\n",
              "      <td>1.000000</td>\n",
              "    </tr>\n",
              "    <tr>\n",
              "      <th>max</th>\n",
              "      <td>215245.000000</td>\n",
              "      <td>10.000000</td>\n",
              "      <td>9.000000</td>\n",
              "      <td>6110.000000</td>\n",
              "      <td>3.000000</td>\n",
              "      <td>2.000000</td>\n",
              "      <td>8.000000</td>\n",
              "      <td>14.000000</td>\n",
              "      <td>3.000000</td>\n",
              "      <td>1418.000000</td>\n",
              "      <td>1.000000</td>\n",
              "    </tr>\n",
              "  </tbody>\n",
              "</table>\n",
              "</div>"
            ],
            "text/plain": [
              "             LotArea  OverallQual  ...   GarageArea  AboveMedianPrice\n",
              "count    1460.000000  1460.000000  ...  1460.000000       1460.000000\n",
              "mean    10516.828082     6.099315  ...   472.980137          0.498630\n",
              "std      9981.264932     1.382997  ...   213.804841          0.500169\n",
              "min      1300.000000     1.000000  ...     0.000000          0.000000\n",
              "25%      7553.500000     5.000000  ...   334.500000          0.000000\n",
              "50%      9478.500000     6.000000  ...   480.000000          0.000000\n",
              "75%     11601.500000     7.000000  ...   576.000000          1.000000\n",
              "max    215245.000000    10.000000  ...  1418.000000          1.000000\n",
              "\n",
              "[8 rows x 11 columns]"
            ]
          },
          "metadata": {
            "tags": []
          },
          "execution_count": 6
        }
      ]
    },
    {
      "cell_type": "code",
      "metadata": {
        "id": "OQZlc4NiIZpi",
        "outputId": "f7b4fec9-2aa6-4d2d-ff20-2eff0b55c37b",
        "colab": {
          "base_uri": "https://localhost:8080/",
          "height": 328
        }
      },
      "source": [
        "house.info()"
      ],
      "execution_count": null,
      "outputs": [
        {
          "output_type": "stream",
          "text": [
            "<class 'pandas.core.frame.DataFrame'>\n",
            "RangeIndex: 1460 entries, 0 to 1459\n",
            "Data columns (total 11 columns):\n",
            " #   Column            Non-Null Count  Dtype\n",
            "---  ------            --------------  -----\n",
            " 0   LotArea           1460 non-null   int64\n",
            " 1   OverallQual       1460 non-null   int64\n",
            " 2   OverallCond       1460 non-null   int64\n",
            " 3   TotalBsmtSF       1460 non-null   int64\n",
            " 4   FullBath          1460 non-null   int64\n",
            " 5   HalfBath          1460 non-null   int64\n",
            " 6   BedroomAbvGr      1460 non-null   int64\n",
            " 7   TotRmsAbvGrd      1460 non-null   int64\n",
            " 8   Fireplaces        1460 non-null   int64\n",
            " 9   GarageArea        1460 non-null   int64\n",
            " 10  AboveMedianPrice  1460 non-null   int64\n",
            "dtypes: int64(11)\n",
            "memory usage: 125.6 KB\n"
          ],
          "name": "stdout"
        }
      ]
    },
    {
      "cell_type": "code",
      "metadata": {
        "id": "0SwyC5fGIan0",
        "outputId": "aa02c80d-1790-4bf0-ff80-815add535e04",
        "colab": {
          "base_uri": "https://localhost:8080/",
          "height": 225
        }
      },
      "source": [
        "house.isnull().sum()"
      ],
      "execution_count": null,
      "outputs": [
        {
          "output_type": "execute_result",
          "data": {
            "text/plain": [
              "LotArea             0\n",
              "OverallQual         0\n",
              "OverallCond         0\n",
              "TotalBsmtSF         0\n",
              "FullBath            0\n",
              "HalfBath            0\n",
              "BedroomAbvGr        0\n",
              "TotRmsAbvGrd        0\n",
              "Fireplaces          0\n",
              "GarageArea          0\n",
              "AboveMedianPrice    0\n",
              "dtype: int64"
            ]
          },
          "metadata": {
            "tags": []
          },
          "execution_count": 8
        }
      ]
    },
    {
      "cell_type": "markdown",
      "metadata": {
        "id": "n5Kw8oW0IsM8"
      },
      "source": [
        "## Pre-Processing the Data"
      ]
    },
    {
      "cell_type": "markdown",
      "metadata": {
        "id": "b8OXoPoTI3sV"
      },
      "source": [
        "Now, we split the dataset into our input features and the label we wish to predict."
      ]
    },
    {
      "cell_type": "code",
      "metadata": {
        "id": "aPO3XzWEIvJj"
      },
      "source": [
        "X = dataset[:,0:10]\n",
        "Y = dataset[:,10]"
      ],
      "execution_count": null,
      "outputs": []
    },
    {
      "cell_type": "markdown",
      "metadata": {
        "id": "_H3SuwyRI7IA"
      },
      "source": [
        "Normalizing our data is very important, as we want the input features to be on the same order of magnitude to make our training easier. We'll use a min-max scaler from scikit-learn which scales our data to be between 0 and 1."
      ]
    },
    {
      "cell_type": "code",
      "metadata": {
        "id": "TEHW3TAbI3Oi"
      },
      "source": [
        "from sklearn import preprocessing"
      ],
      "execution_count": null,
      "outputs": []
    },
    {
      "cell_type": "code",
      "metadata": {
        "id": "UtuPKPjmI9Bs"
      },
      "source": [
        "min_max_scaler = preprocessing.MinMaxScaler()\n",
        "X_scale = min_max_scaler.fit_transform(X)"
      ],
      "execution_count": null,
      "outputs": []
    },
    {
      "cell_type": "code",
      "metadata": {
        "id": "9s2y2hEOI-7O",
        "outputId": "56a56a20-7c9d-4cf2-ddba-fe47bf2ad79a",
        "colab": {
          "base_uri": "https://localhost:8080/",
          "height": 242
        }
      },
      "source": [
        "X_scale"
      ],
      "execution_count": null,
      "outputs": [
        {
          "output_type": "execute_result",
          "data": {
            "text/plain": [
              "array([[0.0334198 , 0.66666667, 0.5       , ..., 0.5       , 0.        ,\n",
              "        0.3864598 ],\n",
              "       [0.03879502, 0.55555556, 0.875     , ..., 0.33333333, 0.33333333,\n",
              "        0.32440056],\n",
              "       [0.04650728, 0.66666667, 0.5       , ..., 0.33333333, 0.33333333,\n",
              "        0.42877292],\n",
              "       ...,\n",
              "       [0.03618687, 0.66666667, 1.        , ..., 0.58333333, 0.66666667,\n",
              "        0.17771509],\n",
              "       [0.03934189, 0.44444444, 0.625     , ..., 0.25      , 0.        ,\n",
              "        0.16925247],\n",
              "       [0.04037019, 0.44444444, 0.625     , ..., 0.33333333, 0.        ,\n",
              "        0.19464034]])"
            ]
          },
          "metadata": {
            "tags": []
          },
          "execution_count": 12
        }
      ]
    },
    {
      "cell_type": "markdown",
      "metadata": {
        "id": "-l5c_FHwJFHV"
      },
      "source": [
        "Lastly, we wish to set aside some parts of our dataset for a validation set and a test set. We use the function train_test_split from scikit-learn to do that."
      ]
    },
    {
      "cell_type": "code",
      "metadata": {
        "id": "pfaEqOezJDMH"
      },
      "source": [
        "from sklearn.model_selection import train_test_split"
      ],
      "execution_count": null,
      "outputs": []
    },
    {
      "cell_type": "code",
      "metadata": {
        "id": "V6FWAR2GJGzo"
      },
      "source": [
        "X_train, X_val_and_test, Y_train, Y_val_and_test = train_test_split(X_scale, Y, test_size=0.3)"
      ],
      "execution_count": null,
      "outputs": []
    },
    {
      "cell_type": "code",
      "metadata": {
        "id": "NNE-600ZJIIP"
      },
      "source": [
        "X_val, X_test, Y_val, Y_test = train_test_split(X_val_and_test, Y_val_and_test, test_size=0.5)"
      ],
      "execution_count": null,
      "outputs": []
    },
    {
      "cell_type": "code",
      "metadata": {
        "id": "J0OJsphzJJ_n",
        "outputId": "318b9519-fb60-4678-eecd-b43fefd7ee12",
        "colab": {
          "base_uri": "https://localhost:8080/",
          "height": 35
        }
      },
      "source": [
        "print(X_train.shape, X_val.shape, X_test.shape, Y_train.shape, Y_val.shape, Y_test.shape)"
      ],
      "execution_count": null,
      "outputs": [
        {
          "output_type": "stream",
          "text": [
            "(1022, 10) (219, 10) (219, 10) (1022,) (219,) (219,)\n"
          ],
          "name": "stdout"
        }
      ]
    },
    {
      "cell_type": "markdown",
      "metadata": {
        "id": "z82BK0RXJNbs"
      },
      "source": [
        "## Build and Train the Neural Network"
      ]
    },
    {
      "cell_type": "markdown",
      "metadata": {
        "id": "4uRG4aNhJRlF"
      },
      "source": [
        "We will be using Keras to build our architecture. Let's import the code from Keras that we will need to use:"
      ]
    },
    {
      "cell_type": "code",
      "metadata": {
        "id": "75bG6sYuJLzC"
      },
      "source": [
        "from keras.layers import Dense\n",
        "from keras.models import Sequential"
      ],
      "execution_count": null,
      "outputs": []
    },
    {
      "cell_type": "markdown",
      "metadata": {
        "id": "7CA-R0l7JW_c"
      },
      "source": [
        "We will be using the Sequential model, which means that we merely need to describe the layers above in sequence. Our neural network has three layers:\n",
        "\n",
        "* Hidden layer 1: 30 neurons, ReLU activation\n",
        "* Hidden layer 2: 30 neurons, ReLU activation\n",
        "* Output Layer: 1 neuron, Sigmoid activation"
      ]
    },
    {
      "cell_type": "markdown",
      "metadata": {
        "id": "3E_spCFPkmpB"
      },
      "source": [
        "![Neural Network Architecture](https://cdn-media-1.freecodecamp.org/images/H3eAYjXcA2asaCjCYrVT7lc2IIBQGQWzQlPG)"
      ]
    },
    {
      "cell_type": "code",
      "metadata": {
        "id": "frKHX4ddJTdn"
      },
      "source": [
        "model = Sequential([\n",
        "    Dense(32, activation='relu', input_shape=(10,)),\n",
        "    Dense(32, activation='relu'),\n",
        "    Dense(1, activation='sigmoid'),\n",
        "])"
      ],
      "execution_count": null,
      "outputs": []
    },
    {
      "cell_type": "markdown",
      "metadata": {
        "id": "3W58Kp_1JdbK"
      },
      "source": [
        "Now that we've got our architecture specified, we need to find the best numbers for it. Before we start our training, we have to configure the model by\n",
        "\n",
        "* Telling it what algorithm you want to use to do the optimization (we'll use stochastic gradient descent)\n",
        "* Telling it what loss function to use (for binary classification, we will use binary cross entropy)\n",
        "* Telling it what other metrics you want to track apart from the loss function (we want to track accuracy as well)"
      ]
    },
    {
      "cell_type": "markdown",
      "metadata": {
        "id": "tMtKK4o2Jg5R"
      },
      "source": [
        "We do so below:"
      ]
    },
    {
      "cell_type": "code",
      "metadata": {
        "id": "VpU_IIhwJbnf"
      },
      "source": [
        "model.compile(optimizer='sgd',\n",
        "              loss='binary_crossentropy',\n",
        "              metrics=['accuracy'])"
      ],
      "execution_count": null,
      "outputs": []
    },
    {
      "cell_type": "markdown",
      "metadata": {
        "id": "FHRhRsAlJpMq"
      },
      "source": [
        "Training on the data is pretty straightforward and requires us to write one line of code. The function is called 'fit' as we are fitting the parameters to the data. We specify:\n",
        "\n",
        "* what data we are training on, which is X_train and Y_train\n",
        "* the size of our mini-batch\n",
        "* how long we want to train it for (epochs)\n",
        "what our validation data is so that the model will tell us how we are doing on the validation data at each point."
      ]
    },
    {
      "cell_type": "markdown",
      "metadata": {
        "id": "9HZw_mY4JtzQ"
      },
      "source": [
        "This function will output a history, which we save under the variable hist. We'll use this variable a little later."
      ]
    },
    {
      "cell_type": "code",
      "metadata": {
        "id": "JcZ1dweZJizf",
        "outputId": "00b33aad-a4cc-4647-d199-0f1f1f34191a",
        "colab": {
          "base_uri": "https://localhost:8080/",
          "height": 1000
        }
      },
      "source": [
        "hist = model.fit(X_train, Y_train,\n",
        "          batch_size=32, epochs=100,\n",
        "          validation_data=(X_val, Y_val))"
      ],
      "execution_count": null,
      "outputs": [
        {
          "output_type": "stream",
          "text": [
            "Epoch 1/100\n",
            "32/32 [==============================] - 0s 6ms/step - loss: 0.6915 - accuracy: 0.5059 - val_loss: 0.6860 - val_accuracy: 0.5479\n",
            "Epoch 2/100\n",
            "32/32 [==============================] - 0s 2ms/step - loss: 0.6848 - accuracy: 0.5744 - val_loss: 0.6808 - val_accuracy: 0.6119\n",
            "Epoch 3/100\n",
            "32/32 [==============================] - 0s 1ms/step - loss: 0.6795 - accuracy: 0.6947 - val_loss: 0.6764 - val_accuracy: 0.6849\n",
            "Epoch 4/100\n",
            "32/32 [==============================] - 0s 2ms/step - loss: 0.6746 - accuracy: 0.7104 - val_loss: 0.6724 - val_accuracy: 0.6895\n",
            "Epoch 5/100\n",
            "32/32 [==============================] - 0s 2ms/step - loss: 0.6701 - accuracy: 0.7123 - val_loss: 0.6685 - val_accuracy: 0.6804\n",
            "Epoch 6/100\n",
            "32/32 [==============================] - 0s 1ms/step - loss: 0.6656 - accuracy: 0.7192 - val_loss: 0.6646 - val_accuracy: 0.6712\n",
            "Epoch 7/100\n",
            "32/32 [==============================] - 0s 2ms/step - loss: 0.6610 - accuracy: 0.7221 - val_loss: 0.6606 - val_accuracy: 0.6712\n",
            "Epoch 8/100\n",
            "32/32 [==============================] - 0s 1ms/step - loss: 0.6564 - accuracy: 0.7329 - val_loss: 0.6565 - val_accuracy: 0.6758\n",
            "Epoch 9/100\n",
            "32/32 [==============================] - 0s 2ms/step - loss: 0.6516 - accuracy: 0.7397 - val_loss: 0.6520 - val_accuracy: 0.6895\n",
            "Epoch 10/100\n",
            "32/32 [==============================] - 0s 1ms/step - loss: 0.6466 - accuracy: 0.7505 - val_loss: 0.6472 - val_accuracy: 0.6895\n",
            "Epoch 11/100\n",
            "32/32 [==============================] - 0s 2ms/step - loss: 0.6412 - accuracy: 0.7603 - val_loss: 0.6421 - val_accuracy: 0.6986\n",
            "Epoch 12/100\n",
            "32/32 [==============================] - 0s 2ms/step - loss: 0.6355 - accuracy: 0.7622 - val_loss: 0.6368 - val_accuracy: 0.6895\n",
            "Epoch 13/100\n",
            "32/32 [==============================] - 0s 2ms/step - loss: 0.6295 - accuracy: 0.7632 - val_loss: 0.6311 - val_accuracy: 0.7032\n",
            "Epoch 14/100\n",
            "32/32 [==============================] - 0s 2ms/step - loss: 0.6232 - accuracy: 0.7750 - val_loss: 0.6253 - val_accuracy: 0.6986\n",
            "Epoch 15/100\n",
            "32/32 [==============================] - 0s 2ms/step - loss: 0.6165 - accuracy: 0.7759 - val_loss: 0.6192 - val_accuracy: 0.7169\n",
            "Epoch 16/100\n",
            "32/32 [==============================] - 0s 2ms/step - loss: 0.6093 - accuracy: 0.7896 - val_loss: 0.6128 - val_accuracy: 0.7169\n",
            "Epoch 17/100\n",
            "32/32 [==============================] - 0s 2ms/step - loss: 0.6019 - accuracy: 0.7926 - val_loss: 0.6061 - val_accuracy: 0.7260\n",
            "Epoch 18/100\n",
            "32/32 [==============================] - 0s 2ms/step - loss: 0.5940 - accuracy: 0.8023 - val_loss: 0.5991 - val_accuracy: 0.7260\n",
            "Epoch 19/100\n",
            "32/32 [==============================] - 0s 2ms/step - loss: 0.5861 - accuracy: 0.8053 - val_loss: 0.5918 - val_accuracy: 0.7443\n",
            "Epoch 20/100\n",
            "32/32 [==============================] - 0s 1ms/step - loss: 0.5778 - accuracy: 0.8121 - val_loss: 0.5843 - val_accuracy: 0.7489\n",
            "Epoch 21/100\n",
            "32/32 [==============================] - 0s 1ms/step - loss: 0.5692 - accuracy: 0.8112 - val_loss: 0.5764 - val_accuracy: 0.7626\n",
            "Epoch 22/100\n",
            "32/32 [==============================] - 0s 1ms/step - loss: 0.5604 - accuracy: 0.8160 - val_loss: 0.5684 - val_accuracy: 0.7580\n",
            "Epoch 23/100\n",
            "32/32 [==============================] - 0s 2ms/step - loss: 0.5510 - accuracy: 0.8200 - val_loss: 0.5600 - val_accuracy: 0.7671\n",
            "Epoch 24/100\n",
            "32/32 [==============================] - 0s 2ms/step - loss: 0.5414 - accuracy: 0.8229 - val_loss: 0.5514 - val_accuracy: 0.7717\n",
            "Epoch 25/100\n",
            "32/32 [==============================] - 0s 2ms/step - loss: 0.5317 - accuracy: 0.8219 - val_loss: 0.5430 - val_accuracy: 0.7717\n",
            "Epoch 26/100\n",
            "32/32 [==============================] - 0s 2ms/step - loss: 0.5220 - accuracy: 0.8200 - val_loss: 0.5342 - val_accuracy: 0.7763\n",
            "Epoch 27/100\n",
            "32/32 [==============================] - 0s 2ms/step - loss: 0.5125 - accuracy: 0.8229 - val_loss: 0.5259 - val_accuracy: 0.7763\n",
            "Epoch 28/100\n",
            "32/32 [==============================] - 0s 1ms/step - loss: 0.5029 - accuracy: 0.8249 - val_loss: 0.5175 - val_accuracy: 0.7808\n",
            "Epoch 29/100\n",
            "32/32 [==============================] - 0s 2ms/step - loss: 0.4936 - accuracy: 0.8239 - val_loss: 0.5091 - val_accuracy: 0.7854\n",
            "Epoch 30/100\n",
            "32/32 [==============================] - 0s 2ms/step - loss: 0.4844 - accuracy: 0.8239 - val_loss: 0.5009 - val_accuracy: 0.7945\n",
            "Epoch 31/100\n",
            "32/32 [==============================] - 0s 2ms/step - loss: 0.4751 - accuracy: 0.8268 - val_loss: 0.4931 - val_accuracy: 0.7945\n",
            "Epoch 32/100\n",
            "32/32 [==============================] - 0s 2ms/step - loss: 0.4662 - accuracy: 0.8288 - val_loss: 0.4852 - val_accuracy: 0.7945\n",
            "Epoch 33/100\n",
            "32/32 [==============================] - 0s 2ms/step - loss: 0.4578 - accuracy: 0.8307 - val_loss: 0.4778 - val_accuracy: 0.8037\n",
            "Epoch 34/100\n",
            "32/32 [==============================] - 0s 2ms/step - loss: 0.4494 - accuracy: 0.8337 - val_loss: 0.4708 - val_accuracy: 0.8037\n",
            "Epoch 35/100\n",
            "32/32 [==============================] - 0s 2ms/step - loss: 0.4416 - accuracy: 0.8317 - val_loss: 0.4640 - val_accuracy: 0.7991\n",
            "Epoch 36/100\n",
            "32/32 [==============================] - 0s 2ms/step - loss: 0.4339 - accuracy: 0.8386 - val_loss: 0.4576 - val_accuracy: 0.7991\n",
            "Epoch 37/100\n",
            "32/32 [==============================] - 0s 2ms/step - loss: 0.4264 - accuracy: 0.8376 - val_loss: 0.4511 - val_accuracy: 0.7991\n",
            "Epoch 38/100\n",
            "32/32 [==============================] - 0s 2ms/step - loss: 0.4195 - accuracy: 0.8376 - val_loss: 0.4457 - val_accuracy: 0.8037\n",
            "Epoch 39/100\n",
            "32/32 [==============================] - 0s 2ms/step - loss: 0.4129 - accuracy: 0.8415 - val_loss: 0.4403 - val_accuracy: 0.8082\n",
            "Epoch 40/100\n",
            "32/32 [==============================] - 0s 2ms/step - loss: 0.4067 - accuracy: 0.8464 - val_loss: 0.4350 - val_accuracy: 0.8082\n",
            "Epoch 41/100\n",
            "32/32 [==============================] - 0s 1ms/step - loss: 0.4008 - accuracy: 0.8474 - val_loss: 0.4296 - val_accuracy: 0.7991\n",
            "Epoch 42/100\n",
            "32/32 [==============================] - 0s 2ms/step - loss: 0.3952 - accuracy: 0.8474 - val_loss: 0.4250 - val_accuracy: 0.8037\n",
            "Epoch 43/100\n",
            "32/32 [==============================] - 0s 2ms/step - loss: 0.3895 - accuracy: 0.8493 - val_loss: 0.4205 - val_accuracy: 0.8037\n",
            "Epoch 44/100\n",
            "32/32 [==============================] - 0s 2ms/step - loss: 0.3844 - accuracy: 0.8513 - val_loss: 0.4160 - val_accuracy: 0.8037\n",
            "Epoch 45/100\n",
            "32/32 [==============================] - 0s 2ms/step - loss: 0.3794 - accuracy: 0.8562 - val_loss: 0.4118 - val_accuracy: 0.8037\n",
            "Epoch 46/100\n",
            "32/32 [==============================] - 0s 2ms/step - loss: 0.3749 - accuracy: 0.8552 - val_loss: 0.4087 - val_accuracy: 0.8174\n",
            "Epoch 47/100\n",
            "32/32 [==============================] - 0s 1ms/step - loss: 0.3708 - accuracy: 0.8532 - val_loss: 0.4060 - val_accuracy: 0.8311\n",
            "Epoch 48/100\n",
            "32/32 [==============================] - 0s 2ms/step - loss: 0.3666 - accuracy: 0.8562 - val_loss: 0.4020 - val_accuracy: 0.8219\n",
            "Epoch 49/100\n",
            "32/32 [==============================] - 0s 2ms/step - loss: 0.3620 - accuracy: 0.8611 - val_loss: 0.3980 - val_accuracy: 0.8174\n",
            "Epoch 50/100\n",
            "32/32 [==============================] - 0s 2ms/step - loss: 0.3588 - accuracy: 0.8562 - val_loss: 0.3946 - val_accuracy: 0.8128\n",
            "Epoch 51/100\n",
            "32/32 [==============================] - 0s 2ms/step - loss: 0.3554 - accuracy: 0.8620 - val_loss: 0.3919 - val_accuracy: 0.8174\n",
            "Epoch 52/100\n",
            "32/32 [==============================] - 0s 2ms/step - loss: 0.3520 - accuracy: 0.8611 - val_loss: 0.3893 - val_accuracy: 0.8219\n",
            "Epoch 53/100\n",
            "32/32 [==============================] - 0s 2ms/step - loss: 0.3479 - accuracy: 0.8650 - val_loss: 0.3870 - val_accuracy: 0.8311\n",
            "Epoch 54/100\n",
            "32/32 [==============================] - 0s 1ms/step - loss: 0.3453 - accuracy: 0.8620 - val_loss: 0.3843 - val_accuracy: 0.8311\n",
            "Epoch 55/100\n",
            "32/32 [==============================] - 0s 1ms/step - loss: 0.3425 - accuracy: 0.8611 - val_loss: 0.3824 - val_accuracy: 0.8356\n",
            "Epoch 56/100\n",
            "32/32 [==============================] - 0s 1ms/step - loss: 0.3394 - accuracy: 0.8611 - val_loss: 0.3820 - val_accuracy: 0.8311\n",
            "Epoch 57/100\n",
            "32/32 [==============================] - 0s 1ms/step - loss: 0.3375 - accuracy: 0.8650 - val_loss: 0.3786 - val_accuracy: 0.8311\n",
            "Epoch 58/100\n",
            "32/32 [==============================] - 0s 2ms/step - loss: 0.3341 - accuracy: 0.8659 - val_loss: 0.3759 - val_accuracy: 0.8356\n",
            "Epoch 59/100\n",
            "32/32 [==============================] - 0s 2ms/step - loss: 0.3323 - accuracy: 0.8699 - val_loss: 0.3742 - val_accuracy: 0.8311\n",
            "Epoch 60/100\n",
            "32/32 [==============================] - 0s 2ms/step - loss: 0.3292 - accuracy: 0.8669 - val_loss: 0.3734 - val_accuracy: 0.8311\n",
            "Epoch 61/100\n",
            "32/32 [==============================] - 0s 2ms/step - loss: 0.3268 - accuracy: 0.8689 - val_loss: 0.3707 - val_accuracy: 0.8311\n",
            "Epoch 62/100\n",
            "32/32 [==============================] - 0s 2ms/step - loss: 0.3247 - accuracy: 0.8689 - val_loss: 0.3684 - val_accuracy: 0.8447\n",
            "Epoch 63/100\n",
            "32/32 [==============================] - 0s 2ms/step - loss: 0.3222 - accuracy: 0.8699 - val_loss: 0.3681 - val_accuracy: 0.8311\n",
            "Epoch 64/100\n",
            "32/32 [==============================] - 0s 2ms/step - loss: 0.3197 - accuracy: 0.8669 - val_loss: 0.3697 - val_accuracy: 0.8356\n",
            "Epoch 65/100\n",
            "32/32 [==============================] - 0s 2ms/step - loss: 0.3187 - accuracy: 0.8650 - val_loss: 0.3638 - val_accuracy: 0.8447\n",
            "Epoch 66/100\n",
            "32/32 [==============================] - 0s 2ms/step - loss: 0.3165 - accuracy: 0.8718 - val_loss: 0.3622 - val_accuracy: 0.8539\n",
            "Epoch 67/100\n",
            "32/32 [==============================] - 0s 1ms/step - loss: 0.3144 - accuracy: 0.8738 - val_loss: 0.3625 - val_accuracy: 0.8356\n",
            "Epoch 68/100\n",
            "32/32 [==============================] - 0s 1ms/step - loss: 0.3133 - accuracy: 0.8767 - val_loss: 0.3610 - val_accuracy: 0.8356\n",
            "Epoch 69/100\n",
            "32/32 [==============================] - 0s 2ms/step - loss: 0.3114 - accuracy: 0.8708 - val_loss: 0.3592 - val_accuracy: 0.8447\n",
            "Epoch 70/100\n",
            "32/32 [==============================] - 0s 2ms/step - loss: 0.3099 - accuracy: 0.8757 - val_loss: 0.3577 - val_accuracy: 0.8447\n",
            "Epoch 71/100\n",
            "32/32 [==============================] - 0s 2ms/step - loss: 0.3078 - accuracy: 0.8748 - val_loss: 0.3575 - val_accuracy: 0.8402\n",
            "Epoch 72/100\n",
            "32/32 [==============================] - 0s 2ms/step - loss: 0.3060 - accuracy: 0.8757 - val_loss: 0.3562 - val_accuracy: 0.8493\n",
            "Epoch 73/100\n",
            "32/32 [==============================] - 0s 2ms/step - loss: 0.3043 - accuracy: 0.8738 - val_loss: 0.3536 - val_accuracy: 0.8493\n",
            "Epoch 74/100\n",
            "32/32 [==============================] - 0s 2ms/step - loss: 0.3033 - accuracy: 0.8767 - val_loss: 0.3541 - val_accuracy: 0.8493\n",
            "Epoch 75/100\n",
            "32/32 [==============================] - 0s 2ms/step - loss: 0.3013 - accuracy: 0.8777 - val_loss: 0.3532 - val_accuracy: 0.8493\n",
            "Epoch 76/100\n",
            "32/32 [==============================] - 0s 2ms/step - loss: 0.3005 - accuracy: 0.8757 - val_loss: 0.3523 - val_accuracy: 0.8493\n",
            "Epoch 77/100\n",
            "32/32 [==============================] - 0s 1ms/step - loss: 0.2986 - accuracy: 0.8728 - val_loss: 0.3495 - val_accuracy: 0.8539\n",
            "Epoch 78/100\n",
            "32/32 [==============================] - 0s 2ms/step - loss: 0.2976 - accuracy: 0.8816 - val_loss: 0.3500 - val_accuracy: 0.8493\n",
            "Epoch 79/100\n",
            "32/32 [==============================] - 0s 2ms/step - loss: 0.2953 - accuracy: 0.8777 - val_loss: 0.3478 - val_accuracy: 0.8539\n",
            "Epoch 80/100\n",
            "32/32 [==============================] - 0s 1ms/step - loss: 0.2943 - accuracy: 0.8855 - val_loss: 0.3494 - val_accuracy: 0.8447\n",
            "Epoch 81/100\n",
            "32/32 [==============================] - 0s 1ms/step - loss: 0.2939 - accuracy: 0.8816 - val_loss: 0.3461 - val_accuracy: 0.8584\n",
            "Epoch 82/100\n",
            "32/32 [==============================] - 0s 1ms/step - loss: 0.2926 - accuracy: 0.8826 - val_loss: 0.3468 - val_accuracy: 0.8539\n",
            "Epoch 83/100\n",
            "32/32 [==============================] - 0s 2ms/step - loss: 0.2912 - accuracy: 0.8806 - val_loss: 0.3454 - val_accuracy: 0.8539\n",
            "Epoch 84/100\n",
            "32/32 [==============================] - 0s 1ms/step - loss: 0.2899 - accuracy: 0.8836 - val_loss: 0.3438 - val_accuracy: 0.8539\n",
            "Epoch 85/100\n",
            "32/32 [==============================] - 0s 1ms/step - loss: 0.2890 - accuracy: 0.8816 - val_loss: 0.3425 - val_accuracy: 0.8584\n",
            "Epoch 86/100\n",
            "32/32 [==============================] - 0s 1ms/step - loss: 0.2879 - accuracy: 0.8836 - val_loss: 0.3419 - val_accuracy: 0.8539\n",
            "Epoch 87/100\n",
            "32/32 [==============================] - 0s 1ms/step - loss: 0.2865 - accuracy: 0.8836 - val_loss: 0.3408 - val_accuracy: 0.8584\n",
            "Epoch 88/100\n",
            "32/32 [==============================] - 0s 2ms/step - loss: 0.2855 - accuracy: 0.8836 - val_loss: 0.3402 - val_accuracy: 0.8584\n",
            "Epoch 89/100\n",
            "32/32 [==============================] - 0s 2ms/step - loss: 0.2842 - accuracy: 0.8816 - val_loss: 0.3393 - val_accuracy: 0.8539\n",
            "Epoch 90/100\n",
            "32/32 [==============================] - 0s 2ms/step - loss: 0.2832 - accuracy: 0.8865 - val_loss: 0.3397 - val_accuracy: 0.8493\n",
            "Epoch 91/100\n",
            "32/32 [==============================] - 0s 2ms/step - loss: 0.2820 - accuracy: 0.8865 - val_loss: 0.3379 - val_accuracy: 0.8584\n",
            "Epoch 92/100\n",
            "32/32 [==============================] - 0s 2ms/step - loss: 0.2817 - accuracy: 0.8816 - val_loss: 0.3377 - val_accuracy: 0.8584\n",
            "Epoch 93/100\n",
            "32/32 [==============================] - 0s 2ms/step - loss: 0.2802 - accuracy: 0.8855 - val_loss: 0.3376 - val_accuracy: 0.8539\n",
            "Epoch 94/100\n",
            "32/32 [==============================] - 0s 1ms/step - loss: 0.2792 - accuracy: 0.8875 - val_loss: 0.3381 - val_accuracy: 0.8493\n",
            "Epoch 95/100\n",
            "32/32 [==============================] - 0s 2ms/step - loss: 0.2789 - accuracy: 0.8845 - val_loss: 0.3362 - val_accuracy: 0.8584\n",
            "Epoch 96/100\n",
            "32/32 [==============================] - 0s 2ms/step - loss: 0.2771 - accuracy: 0.8885 - val_loss: 0.3366 - val_accuracy: 0.8493\n",
            "Epoch 97/100\n",
            "32/32 [==============================] - 0s 2ms/step - loss: 0.2757 - accuracy: 0.8875 - val_loss: 0.3338 - val_accuracy: 0.8630\n",
            "Epoch 98/100\n",
            "32/32 [==============================] - 0s 2ms/step - loss: 0.2756 - accuracy: 0.8885 - val_loss: 0.3351 - val_accuracy: 0.8493\n",
            "Epoch 99/100\n",
            "32/32 [==============================] - 0s 2ms/step - loss: 0.2746 - accuracy: 0.8904 - val_loss: 0.3333 - val_accuracy: 0.8584\n",
            "Epoch 100/100\n",
            "32/32 [==============================] - 0s 1ms/step - loss: 0.2736 - accuracy: 0.8914 - val_loss: 0.3343 - val_accuracy: 0.8493\n"
          ],
          "name": "stdout"
        }
      ]
    },
    {
      "cell_type": "markdown",
      "metadata": {
        "id": "Rf_f_R7BJyn7"
      },
      "source": [
        "Evaluating our data on the test set:"
      ]
    },
    {
      "cell_type": "code",
      "metadata": {
        "id": "AlMxgwD8JwPm",
        "outputId": "b9bb6f1f-c742-4414-df18-c491cb4d9897",
        "colab": {
          "base_uri": "https://localhost:8080/",
          "height": 52
        }
      },
      "source": [
        "model.evaluate(X_test, Y_test)[1]"
      ],
      "execution_count": null,
      "outputs": [
        {
          "output_type": "stream",
          "text": [
            "7/7 [==============================] - 0s 1ms/step - loss: 0.2878 - accuracy: 0.8995\n"
          ],
          "name": "stdout"
        },
        {
          "output_type": "execute_result",
          "data": {
            "text/plain": [
              "0.8995434045791626"
            ]
          },
          "metadata": {
            "tags": []
          },
          "execution_count": 21
        }
      ]
    },
    {
      "cell_type": "markdown",
      "metadata": {
        "id": "cJw6IlqKJ1Ge"
      },
      "source": [
        "## Visualizing Loss and Accuracy"
      ]
    },
    {
      "cell_type": "markdown",
      "metadata": {
        "id": "FNhUtahJJ4Um"
      },
      "source": [
        "Import the relevant package we need to do the visualization:"
      ]
    },
    {
      "cell_type": "code",
      "metadata": {
        "id": "lUaYGJwWJ0au"
      },
      "source": [
        "import matplotlib.pyplot as plt"
      ],
      "execution_count": null,
      "outputs": []
    },
    {
      "cell_type": "markdown",
      "metadata": {
        "id": "BNSSy1doJ8AA"
      },
      "source": [
        "\n",
        "We want to visualize the training loss and the validation loss like this:"
      ]
    },
    {
      "cell_type": "code",
      "metadata": {
        "id": "Vr7LwMCfJ6cX",
        "outputId": "ce57493e-5381-45a8-82cd-8c8b97a0680a",
        "colab": {
          "base_uri": "https://localhost:8080/",
          "height": 295
        }
      },
      "source": [
        "plt.plot(hist.history['val_loss'])\n",
        "plt.title('Model loss')\n",
        "plt.ylabel('Loss')\n",
        "plt.xlabel('Epoch')\n",
        "plt.legend(['Train', 'Val'], loc='upper right')\n",
        "plt.show()"
      ],
      "execution_count": null,
      "outputs": [
        {
          "output_type": "display_data",
          "data": {
            "image/png": "[encoded data removed]",
            "text/plain": [
              "<Figure size 432x288 with 1 Axes>"
            ]
          },
          "metadata": {
            "tags": [],
            "needs_background": "light"
          }
        }
      ]
    },
    {
      "cell_type": "markdown",
      "metadata": {
        "id": "ZxJx7JVsJ_hU"
      },
      "source": [
        "We can also visualize the training accuracy and the validation accuracy like this:"
      ]
    },
    {
      "cell_type": "code",
      "metadata": {
        "id": "2lhBUgUxJ9wS",
        "outputId": "d05ddadd-721d-4f00-ea93-a6c93e1d5bc3",
        "colab": {
          "base_uri": "https://localhost:8080/",
          "height": 295
        }
      },
      "source": [
        "plt.plot(hist.history['accuracy'])\n",
        "plt.plot(hist.history['val_accuracy'])\n",
        "plt.title('Model accuracy')\n",
        "plt.ylabel('Accuracy')\n",
        "plt.xlabel('Epoch')\n",
        "plt.legend(['Train', 'Val'], loc='lower right')\n",
        "plt.show()"
      ],
      "execution_count": null,
      "outputs": [
        {
          "output_type": "display_data",
          "data": {
            "image/png": "[encoded data removed]",
            "text/plain": [
              "<Figure size 432x288 with 1 Axes>"
            ]
          },
          "metadata": {
            "tags": [],
            "needs_background": "light"
          }
        }
      ]
    },
    {
      "cell_type": "markdown",
      "metadata": {
        "id": "YTr-66yZdfcU"
      },
      "source": [
        "We'll train a model which will overfit, which we call Model 2. This might take a few minutes."
      ]
    },
    {
      "cell_type": "code",
      "metadata": {
        "id": "9MFkDUn8KBA1",
        "outputId": "9d0c658d-1966-4a78-bfcf-62b7d112ad2c",
        "colab": {
          "base_uri": "https://localhost:8080/",
          "height": 1000
        }
      },
      "source": [
        "model_2 = Sequential([\n",
        "    Dense(1000, activation='relu', input_shape=(10,)),\n",
        "    Dense(1000, activation='relu'),\n",
        "    Dense(1000, activation='relu'),\n",
        "    Dense(1000, activation='relu'),\n",
        "    Dense(1, activation='sigmoid'),\n",
        "])\n",
        "model_2.compile(optimizer='adam',\n",
        "              loss='binary_crossentropy',\n",
        "              metrics=['accuracy'])\n",
        "hist_2 = model_2.fit(X_train, Y_train,\n",
        "          batch_size=32, epochs=100,\n",
        "          validation_data=(X_val, Y_val))"
      ],
      "execution_count": null,
      "outputs": [
        {
          "output_type": "stream",
          "text": [
            "Epoch 1/100\n",
            "32/32 [==============================] - 1s 39ms/step - loss: 0.4773 - accuracy: 0.7730 - val_loss: 0.3932 - val_accuracy: 0.8447\n",
            "Epoch 2/100\n",
            "32/32 [==============================] - 1s 34ms/step - loss: 0.3477 - accuracy: 0.8601 - val_loss: 0.3674 - val_accuracy: 0.8493\n",
            "Epoch 3/100\n",
            "32/32 [==============================] - 1s 35ms/step - loss: 0.3058 - accuracy: 0.8689 - val_loss: 0.3315 - val_accuracy: 0.8402\n",
            "Epoch 4/100\n",
            "32/32 [==============================] - 1s 35ms/step - loss: 0.2664 - accuracy: 0.8982 - val_loss: 0.3712 - val_accuracy: 0.8493\n",
            "Epoch 5/100\n",
            "32/32 [==============================] - 1s 35ms/step - loss: 0.2583 - accuracy: 0.8933 - val_loss: 0.2869 - val_accuracy: 0.8721\n",
            "Epoch 6/100\n",
            "32/32 [==============================] - 1s 35ms/step - loss: 0.2428 - accuracy: 0.8973 - val_loss: 0.2988 - val_accuracy: 0.8721\n",
            "Epoch 7/100\n",
            "32/32 [==============================] - 1s 35ms/step - loss: 0.2254 - accuracy: 0.9031 - val_loss: 0.2873 - val_accuracy: 0.8858\n",
            "Epoch 8/100\n",
            "32/32 [==============================] - 1s 36ms/step - loss: 0.2228 - accuracy: 0.8982 - val_loss: 0.5418 - val_accuracy: 0.8037\n",
            "Epoch 9/100\n",
            "32/32 [==============================] - 1s 35ms/step - loss: 0.2826 - accuracy: 0.8571 - val_loss: 0.3561 - val_accuracy: 0.8630\n",
            "Epoch 10/100\n",
            "32/32 [==============================] - 1s 35ms/step - loss: 0.2233 - accuracy: 0.9061 - val_loss: 0.3320 - val_accuracy: 0.8904\n",
            "Epoch 11/100\n",
            "32/32 [==============================] - 1s 35ms/step - loss: 0.2300 - accuracy: 0.9110 - val_loss: 0.2876 - val_accuracy: 0.8813\n",
            "Epoch 12/100\n",
            "32/32 [==============================] - 1s 35ms/step - loss: 0.2133 - accuracy: 0.9129 - val_loss: 0.2804 - val_accuracy: 0.8813\n",
            "Epoch 13/100\n",
            "32/32 [==============================] - 1s 36ms/step - loss: 0.2252 - accuracy: 0.9051 - val_loss: 0.3406 - val_accuracy: 0.8311\n",
            "Epoch 14/100\n",
            "32/32 [==============================] - 1s 36ms/step - loss: 0.2231 - accuracy: 0.9090 - val_loss: 0.5294 - val_accuracy: 0.8037\n",
            "Epoch 15/100\n",
            "32/32 [==============================] - 1s 36ms/step - loss: 0.2501 - accuracy: 0.8992 - val_loss: 0.2986 - val_accuracy: 0.8493\n",
            "Epoch 16/100\n",
            "32/32 [==============================] - 1s 36ms/step - loss: 0.2173 - accuracy: 0.9139 - val_loss: 0.3169 - val_accuracy: 0.8311\n",
            "Epoch 17/100\n",
            "32/32 [==============================] - 1s 37ms/step - loss: 0.2066 - accuracy: 0.9080 - val_loss: 0.3194 - val_accuracy: 0.8402\n",
            "Epoch 18/100\n",
            "32/32 [==============================] - 1s 36ms/step - loss: 0.1992 - accuracy: 0.9119 - val_loss: 0.2747 - val_accuracy: 0.8813\n",
            "Epoch 19/100\n",
            "32/32 [==============================] - 1s 35ms/step - loss: 0.1860 - accuracy: 0.9256 - val_loss: 0.3096 - val_accuracy: 0.8539\n",
            "Epoch 20/100\n",
            "32/32 [==============================] - 1s 36ms/step - loss: 0.1828 - accuracy: 0.9286 - val_loss: 0.3197 - val_accuracy: 0.8858\n",
            "Epoch 21/100\n",
            "32/32 [==============================] - 1s 35ms/step - loss: 0.1861 - accuracy: 0.9227 - val_loss: 0.3268 - val_accuracy: 0.9041\n",
            "Epoch 22/100\n",
            "32/32 [==============================] - 1s 37ms/step - loss: 0.2010 - accuracy: 0.9110 - val_loss: 0.2943 - val_accuracy: 0.8813\n",
            "Epoch 23/100\n",
            "32/32 [==============================] - 1s 36ms/step - loss: 0.1954 - accuracy: 0.9198 - val_loss: 0.3269 - val_accuracy: 0.8584\n",
            "Epoch 24/100\n",
            "32/32 [==============================] - 1s 36ms/step - loss: 0.1983 - accuracy: 0.9110 - val_loss: 0.2793 - val_accuracy: 0.8858\n",
            "Epoch 25/100\n",
            "32/32 [==============================] - 1s 37ms/step - loss: 0.1899 - accuracy: 0.9207 - val_loss: 0.3451 - val_accuracy: 0.8904\n",
            "Epoch 26/100\n",
            "32/32 [==============================] - 1s 35ms/step - loss: 0.2357 - accuracy: 0.8885 - val_loss: 0.3910 - val_accuracy: 0.8858\n",
            "Epoch 27/100\n",
            "32/32 [==============================] - 1s 35ms/step - loss: 0.1994 - accuracy: 0.9139 - val_loss: 0.2964 - val_accuracy: 0.8904\n",
            "Epoch 28/100\n",
            "32/32 [==============================] - 1s 35ms/step - loss: 0.1820 - accuracy: 0.9188 - val_loss: 0.2747 - val_accuracy: 0.8813\n",
            "Epoch 29/100\n",
            "32/32 [==============================] - 1s 35ms/step - loss: 0.1960 - accuracy: 0.9207 - val_loss: 0.3270 - val_accuracy: 0.8493\n",
            "Epoch 30/100\n",
            "32/32 [==============================] - 1s 35ms/step - loss: 0.1894 - accuracy: 0.9139 - val_loss: 0.3089 - val_accuracy: 0.8858\n",
            "Epoch 31/100\n",
            "32/32 [==============================] - 1s 35ms/step - loss: 0.1780 - accuracy: 0.9207 - val_loss: 0.3460 - val_accuracy: 0.8584\n",
            "Epoch 32/100\n",
            "32/32 [==============================] - 1s 35ms/step - loss: 0.1732 - accuracy: 0.9315 - val_loss: 0.3079 - val_accuracy: 0.8995\n",
            "Epoch 33/100\n",
            "32/32 [==============================] - 1s 35ms/step - loss: 0.1650 - accuracy: 0.9315 - val_loss: 0.3589 - val_accuracy: 0.8904\n",
            "Epoch 34/100\n",
            "32/32 [==============================] - 1s 35ms/step - loss: 0.1897 - accuracy: 0.9207 - val_loss: 0.3019 - val_accuracy: 0.8950\n",
            "Epoch 35/100\n",
            "32/32 [==============================] - 1s 36ms/step - loss: 0.1758 - accuracy: 0.9266 - val_loss: 0.2822 - val_accuracy: 0.8858\n",
            "Epoch 36/100\n",
            "32/32 [==============================] - 1s 36ms/step - loss: 0.1634 - accuracy: 0.9305 - val_loss: 0.3243 - val_accuracy: 0.8904\n",
            "Epoch 37/100\n",
            "32/32 [==============================] - 1s 35ms/step - loss: 0.1650 - accuracy: 0.9256 - val_loss: 0.3023 - val_accuracy: 0.8676\n",
            "Epoch 38/100\n",
            "32/32 [==============================] - 1s 35ms/step - loss: 0.1730 - accuracy: 0.9276 - val_loss: 0.2926 - val_accuracy: 0.8767\n",
            "Epoch 39/100\n",
            "32/32 [==============================] - 1s 34ms/step - loss: 0.1754 - accuracy: 0.9276 - val_loss: 0.3160 - val_accuracy: 0.8767\n",
            "Epoch 40/100\n",
            "32/32 [==============================] - 1s 35ms/step - loss: 0.1765 - accuracy: 0.9237 - val_loss: 0.3564 - val_accuracy: 0.8904\n",
            "Epoch 41/100\n",
            "32/32 [==============================] - 1s 35ms/step - loss: 0.1645 - accuracy: 0.9325 - val_loss: 0.4482 - val_accuracy: 0.8311\n",
            "Epoch 42/100\n",
            "32/32 [==============================] - 1s 36ms/step - loss: 0.1799 - accuracy: 0.9266 - val_loss: 0.2830 - val_accuracy: 0.8813\n",
            "Epoch 43/100\n",
            "32/32 [==============================] - 1s 35ms/step - loss: 0.1476 - accuracy: 0.9305 - val_loss: 0.3477 - val_accuracy: 0.8858\n",
            "Epoch 44/100\n",
            "32/32 [==============================] - 1s 36ms/step - loss: 0.1560 - accuracy: 0.9335 - val_loss: 0.2959 - val_accuracy: 0.8676\n",
            "Epoch 45/100\n",
            "32/32 [==============================] - 1s 35ms/step - loss: 0.1547 - accuracy: 0.9384 - val_loss: 0.2884 - val_accuracy: 0.8858\n",
            "Epoch 46/100\n",
            "32/32 [==============================] - 1s 35ms/step - loss: 0.1465 - accuracy: 0.9364 - val_loss: 0.3179 - val_accuracy: 0.8904\n",
            "Epoch 47/100\n",
            "32/32 [==============================] - 1s 35ms/step - loss: 0.1587 - accuracy: 0.9286 - val_loss: 0.5187 - val_accuracy: 0.8356\n",
            "Epoch 48/100\n",
            "32/32 [==============================] - 1s 35ms/step - loss: 0.1908 - accuracy: 0.9110 - val_loss: 0.3100 - val_accuracy: 0.8447\n",
            "Epoch 49/100\n",
            "32/32 [==============================] - 1s 35ms/step - loss: 0.1597 - accuracy: 0.9315 - val_loss: 0.3151 - val_accuracy: 0.8493\n",
            "Epoch 50/100\n",
            "32/32 [==============================] - 1s 35ms/step - loss: 0.1560 - accuracy: 0.9325 - val_loss: 0.3939 - val_accuracy: 0.8539\n",
            "Epoch 51/100\n",
            "32/32 [==============================] - 1s 36ms/step - loss: 0.1446 - accuracy: 0.9413 - val_loss: 0.3551 - val_accuracy: 0.8584\n",
            "Epoch 52/100\n",
            "32/32 [==============================] - 1s 36ms/step - loss: 0.1692 - accuracy: 0.9295 - val_loss: 0.3687 - val_accuracy: 0.8493\n",
            "Epoch 53/100\n",
            "32/32 [==============================] - 1s 34ms/step - loss: 0.1623 - accuracy: 0.9256 - val_loss: 0.4021 - val_accuracy: 0.8858\n",
            "Epoch 54/100\n",
            "32/32 [==============================] - 1s 34ms/step - loss: 0.1454 - accuracy: 0.9335 - val_loss: 0.4234 - val_accuracy: 0.8539\n",
            "Epoch 55/100\n",
            "32/32 [==============================] - 1s 34ms/step - loss: 0.1545 - accuracy: 0.9354 - val_loss: 0.3393 - val_accuracy: 0.8904\n",
            "Epoch 56/100\n",
            "32/32 [==============================] - 1s 34ms/step - loss: 0.1422 - accuracy: 0.9442 - val_loss: 0.3686 - val_accuracy: 0.8630\n",
            "Epoch 57/100\n",
            "32/32 [==============================] - 1s 35ms/step - loss: 0.1384 - accuracy: 0.9374 - val_loss: 0.3529 - val_accuracy: 0.8447\n",
            "Epoch 58/100\n",
            "32/32 [==============================] - 1s 34ms/step - loss: 0.1352 - accuracy: 0.9393 - val_loss: 0.3559 - val_accuracy: 0.8584\n",
            "Epoch 59/100\n",
            "32/32 [==============================] - 1s 34ms/step - loss: 0.1315 - accuracy: 0.9432 - val_loss: 0.4037 - val_accuracy: 0.8311\n",
            "Epoch 60/100\n",
            "32/32 [==============================] - 1s 34ms/step - loss: 0.1777 - accuracy: 0.9305 - val_loss: 0.3426 - val_accuracy: 0.8858\n",
            "Epoch 61/100\n",
            "32/32 [==============================] - 1s 35ms/step - loss: 0.1619 - accuracy: 0.9295 - val_loss: 0.3707 - val_accuracy: 0.8858\n",
            "Epoch 62/100\n",
            "32/32 [==============================] - 1s 35ms/step - loss: 0.1430 - accuracy: 0.9403 - val_loss: 0.3640 - val_accuracy: 0.8767\n",
            "Epoch 63/100\n",
            "32/32 [==============================] - 1s 33ms/step - loss: 0.1381 - accuracy: 0.9423 - val_loss: 0.3665 - val_accuracy: 0.8584\n",
            "Epoch 64/100\n",
            "32/32 [==============================] - 1s 34ms/step - loss: 0.1331 - accuracy: 0.9374 - val_loss: 0.4406 - val_accuracy: 0.8539\n",
            "Epoch 65/100\n",
            "32/32 [==============================] - 1s 35ms/step - loss: 0.1264 - accuracy: 0.9452 - val_loss: 0.3571 - val_accuracy: 0.8721\n",
            "Epoch 66/100\n",
            "32/32 [==============================] - 1s 35ms/step - loss: 0.1312 - accuracy: 0.9413 - val_loss: 0.3886 - val_accuracy: 0.8630\n",
            "Epoch 67/100\n",
            "32/32 [==============================] - 1s 35ms/step - loss: 0.1266 - accuracy: 0.9462 - val_loss: 0.3931 - val_accuracy: 0.8584\n",
            "Epoch 68/100\n",
            "32/32 [==============================] - 1s 34ms/step - loss: 0.1561 - accuracy: 0.9374 - val_loss: 0.3136 - val_accuracy: 0.8767\n",
            "Epoch 69/100\n",
            "32/32 [==============================] - 1s 34ms/step - loss: 0.1396 - accuracy: 0.9423 - val_loss: 0.4197 - val_accuracy: 0.8584\n",
            "Epoch 70/100\n",
            "32/32 [==============================] - 1s 34ms/step - loss: 0.1257 - accuracy: 0.9462 - val_loss: 0.3237 - val_accuracy: 0.8721\n",
            "Epoch 71/100\n",
            "32/32 [==============================] - 1s 34ms/step - loss: 0.1260 - accuracy: 0.9432 - val_loss: 0.3252 - val_accuracy: 0.8813\n",
            "Epoch 72/100\n",
            "32/32 [==============================] - 1s 34ms/step - loss: 0.1304 - accuracy: 0.9423 - val_loss: 0.4103 - val_accuracy: 0.8630\n",
            "Epoch 73/100\n",
            "32/32 [==============================] - 1s 35ms/step - loss: 0.1315 - accuracy: 0.9403 - val_loss: 0.3937 - val_accuracy: 0.8630\n",
            "Epoch 74/100\n",
            "32/32 [==============================] - 1s 35ms/step - loss: 0.1177 - accuracy: 0.9540 - val_loss: 0.4114 - val_accuracy: 0.8721\n",
            "Epoch 75/100\n",
            "32/32 [==============================] - 1s 34ms/step - loss: 0.1262 - accuracy: 0.9501 - val_loss: 0.3786 - val_accuracy: 0.8676\n",
            "Epoch 76/100\n",
            "32/32 [==============================] - 1s 34ms/step - loss: 0.1181 - accuracy: 0.9472 - val_loss: 0.3801 - val_accuracy: 0.8630\n",
            "Epoch 77/100\n",
            "32/32 [==============================] - 1s 35ms/step - loss: 0.1209 - accuracy: 0.9501 - val_loss: 0.4043 - val_accuracy: 0.8539\n",
            "Epoch 78/100\n",
            "32/32 [==============================] - 1s 36ms/step - loss: 0.1247 - accuracy: 0.9501 - val_loss: 0.3606 - val_accuracy: 0.8539\n",
            "Epoch 79/100\n",
            "32/32 [==============================] - 1s 37ms/step - loss: 0.1115 - accuracy: 0.9501 - val_loss: 0.4056 - val_accuracy: 0.8858\n",
            "Epoch 80/100\n",
            "32/32 [==============================] - 1s 36ms/step - loss: 0.1483 - accuracy: 0.9452 - val_loss: 0.3772 - val_accuracy: 0.8767\n",
            "Epoch 81/100\n",
            "32/32 [==============================] - 1s 35ms/step - loss: 0.1352 - accuracy: 0.9432 - val_loss: 0.4208 - val_accuracy: 0.8721\n",
            "Epoch 82/100\n",
            "32/32 [==============================] - 1s 34ms/step - loss: 0.1227 - accuracy: 0.9521 - val_loss: 0.5804 - val_accuracy: 0.8219\n",
            "Epoch 83/100\n",
            "32/32 [==============================] - 1s 35ms/step - loss: 0.1599 - accuracy: 0.9305 - val_loss: 0.3693 - val_accuracy: 0.8584\n",
            "Epoch 84/100\n",
            "32/32 [==============================] - 1s 35ms/step - loss: 0.1199 - accuracy: 0.9452 - val_loss: 0.4615 - val_accuracy: 0.8630\n",
            "Epoch 85/100\n",
            "32/32 [==============================] - 1s 34ms/step - loss: 0.1235 - accuracy: 0.9550 - val_loss: 0.4471 - val_accuracy: 0.8676\n",
            "Epoch 86/100\n",
            "32/32 [==============================] - 1s 35ms/step - loss: 0.1165 - accuracy: 0.9491 - val_loss: 0.4426 - val_accuracy: 0.8950\n",
            "Epoch 87/100\n",
            "32/32 [==============================] - 1s 36ms/step - loss: 0.1197 - accuracy: 0.9530 - val_loss: 0.4536 - val_accuracy: 0.8311\n",
            "Epoch 88/100\n",
            "32/32 [==============================] - 1s 35ms/step - loss: 0.1323 - accuracy: 0.9472 - val_loss: 0.3248 - val_accuracy: 0.8630\n",
            "Epoch 89/100\n",
            "32/32 [==============================] - 1s 34ms/step - loss: 0.1095 - accuracy: 0.9530 - val_loss: 0.5262 - val_accuracy: 0.8539\n",
            "Epoch 90/100\n",
            "32/32 [==============================] - 1s 35ms/step - loss: 0.1031 - accuracy: 0.9589 - val_loss: 0.4304 - val_accuracy: 0.8767\n",
            "Epoch 91/100\n",
            "32/32 [==============================] - 1s 35ms/step - loss: 0.1200 - accuracy: 0.9550 - val_loss: 0.3531 - val_accuracy: 0.8950\n",
            "Epoch 92/100\n",
            "32/32 [==============================] - 1s 35ms/step - loss: 0.1022 - accuracy: 0.9569 - val_loss: 0.4986 - val_accuracy: 0.8904\n",
            "Epoch 93/100\n",
            "32/32 [==============================] - 1s 36ms/step - loss: 0.1195 - accuracy: 0.9452 - val_loss: 0.4373 - val_accuracy: 0.8174\n",
            "Epoch 94/100\n",
            "32/32 [==============================] - 1s 36ms/step - loss: 0.1498 - accuracy: 0.9413 - val_loss: 0.4343 - val_accuracy: 0.8493\n",
            "Epoch 95/100\n",
            "32/32 [==============================] - 1s 35ms/step - loss: 0.1055 - accuracy: 0.9560 - val_loss: 0.4106 - val_accuracy: 0.8493\n",
            "Epoch 96/100\n",
            "32/32 [==============================] - 1s 36ms/step - loss: 0.0962 - accuracy: 0.9599 - val_loss: 0.4992 - val_accuracy: 0.8630\n",
            "Epoch 97/100\n",
            "32/32 [==============================] - 1s 35ms/step - loss: 0.0887 - accuracy: 0.9609 - val_loss: 0.6087 - val_accuracy: 0.8265\n",
            "Epoch 98/100\n",
            "32/32 [==============================] - 1s 36ms/step - loss: 0.1442 - accuracy: 0.9393 - val_loss: 0.3934 - val_accuracy: 0.8630\n",
            "Epoch 99/100\n",
            "32/32 [==============================] - 1s 35ms/step - loss: 0.0970 - accuracy: 0.9609 - val_loss: 0.4842 - val_accuracy: 0.8858\n",
            "Epoch 100/100\n",
            "32/32 [==============================] - 1s 35ms/step - loss: 0.1074 - accuracy: 0.9609 - val_loss: 0.4576 - val_accuracy: 0.8904\n"
          ],
          "name": "stdout"
        }
      ]
    },
    {
      "cell_type": "markdown",
      "metadata": {
        "id": "C3y4CHMqdj7Y"
      },
      "source": [
        "Let's do the same visualization to see what overfitting looks like in terms of the loss and accuracy."
      ]
    },
    {
      "cell_type": "code",
      "metadata": {
        "id": "aIe3LgaadhZl",
        "outputId": "24605476-6376-4071-9426-d7a8ac9a3faf",
        "colab": {
          "base_uri": "https://localhost:8080/",
          "height": 295
        }
      },
      "source": [
        "plt.plot(hist_2.history['loss'])\n",
        "plt.plot(hist_2.history['val_loss'])\n",
        "plt.title('Model loss')\n",
        "plt.ylabel('Loss')\n",
        "plt.xlabel('Epoch')\n",
        "plt.legend(['Train', 'Val'], loc='upper right')\n",
        "plt.show()"
      ],
      "execution_count": null,
      "outputs": [
        {
          "output_type": "display_data",
          "data": {
            "image/png": "[encoded data removed]",
            "text/plain": [
              "<Figure size 432x288 with 1 Axes>"
            ]
          },
          "metadata": {
            "tags": [],
            "needs_background": "light"
          }
        }
      ]
    },
    {
      "cell_type": "code",
      "metadata": {
        "id": "cUy-tiWOdoiR",
        "outputId": "437d2582-4da5-4da1-a4db-9796ddce06f5",
        "colab": {
          "base_uri": "https://localhost:8080/",
          "height": 295
        }
      },
      "source": [
        "plt.plot(hist_2.history['accuracy'])\n",
        "plt.plot(hist_2.history['val_accuracy'])\n",
        "plt.title('Model accuracy')\n",
        "plt.ylabel('Accuracy')\n",
        "plt.xlabel('Epoch')\n",
        "plt.legend(['Train', 'Val'], loc='lower right')\n",
        "plt.show()"
      ],
      "execution_count": null,
      "outputs": [
        {
          "output_type": "display_data",
          "data": {
            "image/png": "[encoded data removed]",
            "text/plain": [
              "<Figure size 432x288 with 1 Axes>"
            ]
          },
          "metadata": {
            "tags": [],
            "needs_background": "light"
          }
        }
      ]
    },
    {
      "cell_type": "markdown",
      "metadata": {
        "id": "rm_wAELrdmST"
      },
      "source": [
        "To address the overfitting we see in Model 2, we'll incorporate L2 regularization and dropout in our third model here (Model 3)."
      ]
    },
    {
      "cell_type": "code",
      "metadata": {
        "id": "gYFwiqW_dqvD"
      },
      "source": [
        "from keras.layers import Dropout\n",
        "from keras import regularizers"
      ],
      "execution_count": null,
      "outputs": []
    },
    {
      "cell_type": "code",
      "metadata": {
        "id": "ock_-e26dso1"
      },
      "source": [
        "model_3 = Sequential([\n",
        "    Dense(1000, activation='relu', kernel_regularizer=regularizers.l2(0.01), input_shape=(10,)),\n",
        "    Dropout(0.3),\n",
        "    Dense(1000, activation='relu', kernel_regularizer=regularizers.l2(0.01)),\n",
        "    Dropout(0.3),\n",
        "    Dense(1000, activation='relu', kernel_regularizer=regularizers.l2(0.01)),\n",
        "    Dropout(0.3),\n",
        "    Dense(1000, activation='relu', kernel_regularizer=regularizers.l2(0.01)),\n",
        "    Dropout(0.3),\n",
        "    Dense(1, activation='sigmoid', kernel_regularizer=regularizers.l2(0.01)),\n",
        "])"
      ],
      "execution_count": null,
      "outputs": []
    },
    {
      "cell_type": "code",
      "metadata": {
        "id": "HcIwqSoddsn1",
        "outputId": "70f56685-8d19-4dab-f3d0-cf74d08f270e",
        "colab": {
          "base_uri": "https://localhost:8080/",
          "height": 1000
        }
      },
      "source": [
        "model_3.compile(optimizer='adam',\n",
        "              loss='binary_crossentropy',\n",
        "              metrics=['accuracy'])\n",
        "hist_3 = model_3.fit(X_train, Y_train,\n",
        "          batch_size=32, epochs=100,\n",
        "          validation_data=(X_val, Y_val))"
      ],
      "execution_count": null,
      "outputs": [
        {
          "output_type": "stream",
          "text": [
            "Epoch 1/100\n",
            "32/32 [==============================] - 1s 47ms/step - loss: 14.2041 - accuracy: 0.7153 - val_loss: 3.8627 - val_accuracy: 0.8037\n",
            "Epoch 2/100\n",
            "32/32 [==============================] - 1s 41ms/step - loss: 1.6861 - accuracy: 0.8288 - val_loss: 0.7260 - val_accuracy: 0.8219\n",
            "Epoch 3/100\n",
            "32/32 [==============================] - 1s 42ms/step - loss: 0.5890 - accuracy: 0.8503 - val_loss: 0.5632 - val_accuracy: 0.8219\n",
            "Epoch 4/100\n",
            "32/32 [==============================] - 1s 41ms/step - loss: 0.5233 - accuracy: 0.8650 - val_loss: 0.5239 - val_accuracy: 0.8493\n",
            "Epoch 5/100\n",
            "32/32 [==============================] - 1s 42ms/step - loss: 0.5009 - accuracy: 0.8748 - val_loss: 0.5014 - val_accuracy: 0.8676\n",
            "Epoch 6/100\n",
            "32/32 [==============================] - 1s 42ms/step - loss: 0.4891 - accuracy: 0.8679 - val_loss: 0.4976 - val_accuracy: 0.8721\n",
            "Epoch 7/100\n",
            "32/32 [==============================] - 1s 41ms/step - loss: 0.4672 - accuracy: 0.8767 - val_loss: 0.5733 - val_accuracy: 0.8219\n",
            "Epoch 8/100\n",
            "32/32 [==============================] - 1s 41ms/step - loss: 0.4559 - accuracy: 0.8875 - val_loss: 0.4906 - val_accuracy: 0.8447\n",
            "Epoch 9/100\n",
            "32/32 [==============================] - 1s 40ms/step - loss: 0.4479 - accuracy: 0.8885 - val_loss: 0.4874 - val_accuracy: 0.8676\n",
            "Epoch 10/100\n",
            "32/32 [==============================] - 1s 41ms/step - loss: 0.4724 - accuracy: 0.8806 - val_loss: 0.4820 - val_accuracy: 0.8721\n",
            "Epoch 11/100\n",
            "32/32 [==============================] - 2s 47ms/step - loss: 0.4693 - accuracy: 0.8728 - val_loss: 0.4791 - val_accuracy: 0.8676\n",
            "Epoch 12/100\n",
            "32/32 [==============================] - 1s 42ms/step - loss: 0.4567 - accuracy: 0.8728 - val_loss: 0.5081 - val_accuracy: 0.8493\n",
            "Epoch 13/100\n",
            "32/32 [==============================] - 1s 41ms/step - loss: 0.4419 - accuracy: 0.8855 - val_loss: 0.4750 - val_accuracy: 0.8493\n",
            "Epoch 14/100\n",
            "32/32 [==============================] - 1s 42ms/step - loss: 0.4901 - accuracy: 0.8493 - val_loss: 0.6952 - val_accuracy: 0.7580\n",
            "Epoch 15/100\n",
            "32/32 [==============================] - 1s 40ms/step - loss: 0.4681 - accuracy: 0.8796 - val_loss: 0.4709 - val_accuracy: 0.8676\n",
            "Epoch 16/100\n",
            "32/32 [==============================] - 1s 41ms/step - loss: 0.4263 - accuracy: 0.8973 - val_loss: 0.4644 - val_accuracy: 0.8584\n",
            "Epoch 17/100\n",
            "32/32 [==============================] - 1s 42ms/step - loss: 0.4463 - accuracy: 0.8933 - val_loss: 0.4826 - val_accuracy: 0.8493\n",
            "Epoch 18/100\n",
            "32/32 [==============================] - 1s 42ms/step - loss: 0.4340 - accuracy: 0.8865 - val_loss: 0.4651 - val_accuracy: 0.8584\n",
            "Epoch 19/100\n",
            "32/32 [==============================] - 1s 43ms/step - loss: 0.4270 - accuracy: 0.8865 - val_loss: 0.4862 - val_accuracy: 0.8721\n",
            "Epoch 20/100\n",
            "32/32 [==============================] - 1s 42ms/step - loss: 0.4353 - accuracy: 0.8894 - val_loss: 0.4637 - val_accuracy: 0.8539\n",
            "Epoch 21/100\n",
            "32/32 [==============================] - 1s 42ms/step - loss: 0.4364 - accuracy: 0.8836 - val_loss: 0.4669 - val_accuracy: 0.8584\n",
            "Epoch 22/100\n",
            "32/32 [==============================] - 1s 42ms/step - loss: 0.4273 - accuracy: 0.8963 - val_loss: 0.4598 - val_accuracy: 0.8630\n",
            "Epoch 23/100\n",
            "32/32 [==============================] - 1s 42ms/step - loss: 0.4446 - accuracy: 0.8816 - val_loss: 0.5609 - val_accuracy: 0.8174\n",
            "Epoch 24/100\n",
            "32/32 [==============================] - 1s 42ms/step - loss: 0.4349 - accuracy: 0.8924 - val_loss: 0.4645 - val_accuracy: 0.8767\n",
            "Epoch 25/100\n",
            "32/32 [==============================] - 1s 42ms/step - loss: 0.4401 - accuracy: 0.8738 - val_loss: 0.5756 - val_accuracy: 0.8128\n",
            "Epoch 26/100\n",
            "32/32 [==============================] - 1s 41ms/step - loss: 0.4634 - accuracy: 0.8738 - val_loss: 0.4684 - val_accuracy: 0.8676\n",
            "Epoch 27/100\n",
            "32/32 [==============================] - 1s 42ms/step - loss: 0.4295 - accuracy: 0.8914 - val_loss: 0.4618 - val_accuracy: 0.8584\n",
            "Epoch 28/100\n",
            "32/32 [==============================] - 1s 41ms/step - loss: 0.4245 - accuracy: 0.8845 - val_loss: 0.4560 - val_accuracy: 0.8676\n",
            "Epoch 29/100\n",
            "32/32 [==============================] - 1s 41ms/step - loss: 0.4571 - accuracy: 0.8659 - val_loss: 0.5068 - val_accuracy: 0.8265\n",
            "Epoch 30/100\n",
            "32/32 [==============================] - 1s 40ms/step - loss: 0.4287 - accuracy: 0.8845 - val_loss: 0.4561 - val_accuracy: 0.8721\n",
            "Epoch 31/100\n",
            "32/32 [==============================] - 1s 40ms/step - loss: 0.4332 - accuracy: 0.8865 - val_loss: 0.4685 - val_accuracy: 0.8493\n",
            "Epoch 32/100\n",
            "32/32 [==============================] - 1s 42ms/step - loss: 0.4256 - accuracy: 0.8943 - val_loss: 0.4617 - val_accuracy: 0.8676\n",
            "Epoch 33/100\n",
            "32/32 [==============================] - 1s 41ms/step - loss: 0.4394 - accuracy: 0.8796 - val_loss: 0.4727 - val_accuracy: 0.8447\n",
            "Epoch 34/100\n",
            "32/32 [==============================] - 1s 41ms/step - loss: 0.4229 - accuracy: 0.8885 - val_loss: 0.4769 - val_accuracy: 0.8493\n",
            "Epoch 35/100\n",
            "32/32 [==============================] - 1s 42ms/step - loss: 0.4332 - accuracy: 0.8865 - val_loss: 0.4560 - val_accuracy: 0.8584\n",
            "Epoch 36/100\n",
            "32/32 [==============================] - 1s 42ms/step - loss: 0.4321 - accuracy: 0.8787 - val_loss: 0.4662 - val_accuracy: 0.8630\n",
            "Epoch 37/100\n",
            "32/32 [==============================] - 1s 41ms/step - loss: 0.4323 - accuracy: 0.8836 - val_loss: 0.4851 - val_accuracy: 0.8493\n",
            "Epoch 38/100\n",
            "32/32 [==============================] - 1s 41ms/step - loss: 0.4448 - accuracy: 0.8777 - val_loss: 0.4582 - val_accuracy: 0.8630\n",
            "Epoch 39/100\n",
            "32/32 [==============================] - 1s 41ms/step - loss: 0.4281 - accuracy: 0.8933 - val_loss: 0.4646 - val_accuracy: 0.8676\n",
            "Epoch 40/100\n",
            "32/32 [==============================] - 1s 41ms/step - loss: 0.4155 - accuracy: 0.8865 - val_loss: 0.4622 - val_accuracy: 0.8539\n",
            "Epoch 41/100\n",
            "32/32 [==============================] - 1s 42ms/step - loss: 0.4315 - accuracy: 0.8816 - val_loss: 0.4660 - val_accuracy: 0.8630\n",
            "Epoch 42/100\n",
            "32/32 [==============================] - 1s 41ms/step - loss: 0.4341 - accuracy: 0.8836 - val_loss: 0.5515 - val_accuracy: 0.8219\n",
            "Epoch 43/100\n",
            "32/32 [==============================] - 1s 40ms/step - loss: 0.4596 - accuracy: 0.8718 - val_loss: 0.4931 - val_accuracy: 0.8447\n",
            "Epoch 44/100\n",
            "32/32 [==============================] - 1s 41ms/step - loss: 0.4217 - accuracy: 0.8933 - val_loss: 0.4540 - val_accuracy: 0.8539\n",
            "Epoch 45/100\n",
            "32/32 [==============================] - 1s 40ms/step - loss: 0.4177 - accuracy: 0.8982 - val_loss: 0.4563 - val_accuracy: 0.8584\n",
            "Epoch 46/100\n",
            "32/32 [==============================] - 3s 78ms/step - loss: 0.4339 - accuracy: 0.8826 - val_loss: 0.4543 - val_accuracy: 0.8721\n",
            "Epoch 47/100\n",
            "32/32 [==============================] - 4s 113ms/step - loss: 0.4218 - accuracy: 0.8816 - val_loss: 0.4520 - val_accuracy: 0.8721\n",
            "Epoch 48/100\n",
            "32/32 [==============================] - 2s 78ms/step - loss: 0.4249 - accuracy: 0.8836 - val_loss: 0.4528 - val_accuracy: 0.8630\n",
            "Epoch 49/100\n",
            "32/32 [==============================] - 2s 74ms/step - loss: 0.4410 - accuracy: 0.8855 - val_loss: 0.4556 - val_accuracy: 0.8721\n",
            "Epoch 50/100\n",
            "32/32 [==============================] - 2s 76ms/step - loss: 0.4196 - accuracy: 0.8845 - val_loss: 0.4708 - val_accuracy: 0.8493\n",
            "Epoch 51/100\n",
            "32/32 [==============================] - 2s 57ms/step - loss: 0.4282 - accuracy: 0.8806 - val_loss: 0.4679 - val_accuracy: 0.8539\n",
            "Epoch 52/100\n",
            "32/32 [==============================] - 1s 42ms/step - loss: 0.4143 - accuracy: 0.9002 - val_loss: 0.4761 - val_accuracy: 0.8402\n",
            "Epoch 53/100\n",
            "32/32 [==============================] - 1s 41ms/step - loss: 0.4167 - accuracy: 0.8894 - val_loss: 0.4553 - val_accuracy: 0.8676\n",
            "Epoch 54/100\n",
            "32/32 [==============================] - 1s 40ms/step - loss: 0.4280 - accuracy: 0.8806 - val_loss: 0.4681 - val_accuracy: 0.8539\n",
            "Epoch 55/100\n",
            "32/32 [==============================] - 1s 41ms/step - loss: 0.4214 - accuracy: 0.8914 - val_loss: 0.5906 - val_accuracy: 0.8082\n",
            "Epoch 56/100\n",
            "32/32 [==============================] - 1s 41ms/step - loss: 0.4337 - accuracy: 0.8845 - val_loss: 0.4850 - val_accuracy: 0.8539\n",
            "Epoch 57/100\n",
            "32/32 [==============================] - 1s 41ms/step - loss: 0.4191 - accuracy: 0.9012 - val_loss: 0.4544 - val_accuracy: 0.8676\n",
            "Epoch 58/100\n",
            "32/32 [==============================] - 1s 41ms/step - loss: 0.4325 - accuracy: 0.8845 - val_loss: 0.4843 - val_accuracy: 0.8447\n",
            "Epoch 59/100\n",
            "32/32 [==============================] - 1s 41ms/step - loss: 0.4306 - accuracy: 0.8816 - val_loss: 0.4674 - val_accuracy: 0.8584\n",
            "Epoch 60/100\n",
            "32/32 [==============================] - 1s 41ms/step - loss: 0.4319 - accuracy: 0.8845 - val_loss: 0.4563 - val_accuracy: 0.8721\n",
            "Epoch 61/100\n",
            "32/32 [==============================] - 1s 42ms/step - loss: 0.4137 - accuracy: 0.8963 - val_loss: 0.4554 - val_accuracy: 0.8584\n",
            "Epoch 62/100\n",
            "32/32 [==============================] - 1s 40ms/step - loss: 0.4165 - accuracy: 0.8836 - val_loss: 0.4639 - val_accuracy: 0.8630\n",
            "Epoch 63/100\n",
            "32/32 [==============================] - 1s 40ms/step - loss: 0.4282 - accuracy: 0.8865 - val_loss: 0.4729 - val_accuracy: 0.8493\n",
            "Epoch 64/100\n",
            "32/32 [==============================] - 1s 41ms/step - loss: 0.4272 - accuracy: 0.8904 - val_loss: 0.4698 - val_accuracy: 0.8584\n",
            "Epoch 65/100\n",
            "32/32 [==============================] - 1s 41ms/step - loss: 0.4187 - accuracy: 0.8894 - val_loss: 0.4781 - val_accuracy: 0.8493\n",
            "Epoch 66/100\n",
            "32/32 [==============================] - 1s 43ms/step - loss: 0.4360 - accuracy: 0.8777 - val_loss: 0.5466 - val_accuracy: 0.8311\n",
            "Epoch 67/100\n",
            "32/32 [==============================] - 1s 42ms/step - loss: 0.4199 - accuracy: 0.8865 - val_loss: 0.4540 - val_accuracy: 0.8767\n",
            "Epoch 68/100\n",
            "32/32 [==============================] - 1s 42ms/step - loss: 0.4120 - accuracy: 0.8992 - val_loss: 0.4536 - val_accuracy: 0.8539\n",
            "Epoch 69/100\n",
            "32/32 [==============================] - 1s 41ms/step - loss: 0.4153 - accuracy: 0.8963 - val_loss: 0.4582 - val_accuracy: 0.8676\n",
            "Epoch 70/100\n",
            "32/32 [==============================] - 1s 41ms/step - loss: 0.4326 - accuracy: 0.8875 - val_loss: 0.4532 - val_accuracy: 0.8630\n",
            "Epoch 71/100\n",
            "32/32 [==============================] - 1s 41ms/step - loss: 0.4207 - accuracy: 0.8924 - val_loss: 0.4530 - val_accuracy: 0.8630\n",
            "Epoch 72/100\n",
            "32/32 [==============================] - 1s 41ms/step - loss: 0.4184 - accuracy: 0.8885 - val_loss: 0.4525 - val_accuracy: 0.8721\n",
            "Epoch 73/100\n",
            "32/32 [==============================] - 1s 42ms/step - loss: 0.4180 - accuracy: 0.8904 - val_loss: 0.4585 - val_accuracy: 0.8630\n",
            "Epoch 74/100\n",
            "32/32 [==============================] - 1s 42ms/step - loss: 0.4189 - accuracy: 0.8943 - val_loss: 0.4705 - val_accuracy: 0.8493\n",
            "Epoch 75/100\n",
            "32/32 [==============================] - 1s 41ms/step - loss: 0.4292 - accuracy: 0.8894 - val_loss: 0.4574 - val_accuracy: 0.8584\n",
            "Epoch 76/100\n",
            "32/32 [==============================] - 1s 44ms/step - loss: 0.4166 - accuracy: 0.8943 - val_loss: 0.4605 - val_accuracy: 0.8539\n",
            "Epoch 77/100\n",
            "32/32 [==============================] - 1s 42ms/step - loss: 0.4226 - accuracy: 0.8924 - val_loss: 0.4544 - val_accuracy: 0.8584\n",
            "Epoch 78/100\n",
            "32/32 [==============================] - 1s 42ms/step - loss: 0.4375 - accuracy: 0.8748 - val_loss: 0.4565 - val_accuracy: 0.8584\n",
            "Epoch 79/100\n",
            "32/32 [==============================] - 1s 42ms/step - loss: 0.4326 - accuracy: 0.8748 - val_loss: 0.4601 - val_accuracy: 0.8584\n",
            "Epoch 80/100\n",
            "32/32 [==============================] - 1s 42ms/step - loss: 0.4265 - accuracy: 0.8845 - val_loss: 0.4515 - val_accuracy: 0.8630\n",
            "Epoch 81/100\n",
            "32/32 [==============================] - 1s 42ms/step - loss: 0.4289 - accuracy: 0.8806 - val_loss: 0.5540 - val_accuracy: 0.8265\n",
            "Epoch 82/100\n",
            "32/32 [==============================] - 1s 42ms/step - loss: 0.4554 - accuracy: 0.8796 - val_loss: 0.4826 - val_accuracy: 0.8447\n",
            "Epoch 83/100\n",
            "32/32 [==============================] - 1s 44ms/step - loss: 0.4203 - accuracy: 0.8865 - val_loss: 0.4553 - val_accuracy: 0.8584\n",
            "Epoch 84/100\n",
            "32/32 [==============================] - 1s 43ms/step - loss: 0.4228 - accuracy: 0.8855 - val_loss: 0.4525 - val_accuracy: 0.8767\n",
            "Epoch 85/100\n",
            "32/32 [==============================] - 1s 43ms/step - loss: 0.4215 - accuracy: 0.8933 - val_loss: 0.4555 - val_accuracy: 0.8721\n",
            "Epoch 86/100\n",
            "32/32 [==============================] - 1s 42ms/step - loss: 0.4144 - accuracy: 0.8904 - val_loss: 0.4501 - val_accuracy: 0.8630\n",
            "Epoch 87/100\n",
            "32/32 [==============================] - 1s 43ms/step - loss: 0.4156 - accuracy: 0.8885 - val_loss: 0.4589 - val_accuracy: 0.8584\n",
            "Epoch 88/100\n",
            "32/32 [==============================] - 1s 43ms/step - loss: 0.4271 - accuracy: 0.8894 - val_loss: 0.5717 - val_accuracy: 0.8219\n",
            "Epoch 89/100\n",
            "32/32 [==============================] - 1s 41ms/step - loss: 0.4501 - accuracy: 0.8767 - val_loss: 0.4803 - val_accuracy: 0.8539\n",
            "Epoch 90/100\n",
            "32/32 [==============================] - 1s 40ms/step - loss: 0.4247 - accuracy: 0.8924 - val_loss: 0.4582 - val_accuracy: 0.8584\n",
            "Epoch 91/100\n",
            "32/32 [==============================] - 1s 42ms/step - loss: 0.4313 - accuracy: 0.8875 - val_loss: 0.4544 - val_accuracy: 0.8584\n",
            "Epoch 92/100\n",
            "32/32 [==============================] - 1s 41ms/step - loss: 0.4209 - accuracy: 0.8933 - val_loss: 0.4529 - val_accuracy: 0.8676\n",
            "Epoch 93/100\n",
            "32/32 [==============================] - 1s 41ms/step - loss: 0.4124 - accuracy: 0.8943 - val_loss: 0.4596 - val_accuracy: 0.8493\n",
            "Epoch 94/100\n",
            "32/32 [==============================] - 1s 40ms/step - loss: 0.4352 - accuracy: 0.8845 - val_loss: 0.4526 - val_accuracy: 0.8676\n",
            "Epoch 95/100\n",
            "32/32 [==============================] - 1s 41ms/step - loss: 0.4289 - accuracy: 0.8816 - val_loss: 0.4650 - val_accuracy: 0.8630\n",
            "Epoch 96/100\n",
            "32/32 [==============================] - 1s 42ms/step - loss: 0.4216 - accuracy: 0.8865 - val_loss: 0.4621 - val_accuracy: 0.8539\n",
            "Epoch 97/100\n",
            "32/32 [==============================] - 1s 42ms/step - loss: 0.4195 - accuracy: 0.8943 - val_loss: 0.4663 - val_accuracy: 0.8493\n",
            "Epoch 98/100\n",
            "32/32 [==============================] - 1s 42ms/step - loss: 0.4247 - accuracy: 0.8865 - val_loss: 0.4556 - val_accuracy: 0.8676\n",
            "Epoch 99/100\n",
            "32/32 [==============================] - 1s 41ms/step - loss: 0.4053 - accuracy: 0.8973 - val_loss: 0.4812 - val_accuracy: 0.8447\n",
            "Epoch 100/100\n",
            "32/32 [==============================] - 1s 42ms/step - loss: 0.4172 - accuracy: 0.8924 - val_loss: 0.4554 - val_accuracy: 0.8584\n"
          ],
          "name": "stdout"
        }
      ]
    },
    {
      "cell_type": "markdown",
      "metadata": {
        "id": "VFh9Eji5dzzP"
      },
      "source": [
        "We'll now plot the loss and accuracy graphs for Model 3. You'll notice that the loss is a lot higher at the start, and that's because we've changed our loss function. To plot such that the window is zoomed in between 0 and 1.2 for the loss, we add an additional line of code (plt.ylim) when plotting"
      ]
    },
    {
      "cell_type": "code",
      "metadata": {
        "id": "THqPK26_dzSW",
        "outputId": "85a31a4c-b900-4754-9c27-df05840732d1",
        "colab": {
          "base_uri": "https://localhost:8080/",
          "height": 295
        }
      },
      "source": [
        "plt.plot(hist_3.history['loss'])\n",
        "plt.plot(hist_3.history['val_loss'])\n",
        "plt.title('Model loss')\n",
        "plt.ylabel('Loss')\n",
        "plt.xlabel('Epoch')\n",
        "plt.legend(['Train', 'Val'], loc='upper right')\n",
        "plt.ylim(top=1.2, bottom=0)\n",
        "plt.show()"
      ],
      "execution_count": null,
      "outputs": [
        {
          "output_type": "display_data",
          "data": {
            "image/png": "[encoded data removed]",
            "text/plain": [
              "<Figure size 432x288 with 1 Axes>"
            ]
          },
          "metadata": {
            "tags": [],
            "needs_background": "light"
          }
        }
      ]
    },
    {
      "cell_type": "code",
      "metadata": {
        "id": "XNMdr15gd4SP",
        "outputId": "97c10537-7ef6-4944-9002-7b88560c3f13",
        "colab": {
          "base_uri": "https://localhost:8080/",
          "height": 295
        }
      },
      "source": [
        "plt.plot(hist_3.history['accuracy'])\n",
        "plt.plot(hist_3.history['val_accuracy'])\n",
        "plt.title('Model accuracy')\n",
        "plt.ylabel('Accuracy')\n",
        "plt.xlabel('Epoch')\n",
        "plt.legend(['Train', 'Val'], loc='lower right')\n",
        "plt.show()"
      ],
      "execution_count": null,
      "outputs": [
        {
          "output_type": "display_data",
          "data": {
            "image/png": "[encoded data removed]",
            "text/plain": [
              "<Figure size 432x288 with 1 Axes>"
            ]
          },
          "metadata": {
            "tags": [],
            "needs_background": "light"
          }
        }
      ]
    },
    {
      "cell_type": "markdown",
      "metadata": {
        "id": "iyVZpVvOd6Q0"
      },
      "source": [
        "As compared to Model 2, you should see that there's less overfitting!"
      ]
    },
    {
      "cell_type": "markdown",
      "metadata": {
        "id": "dz7uUqM4fXgl"
      },
      "source": [
        "## Resources:\n",
        "\n",
        "\n",
        "\n",
        "*   https://www.freecodecamp.org/news/how-to-build-your-first-neural-network-to-predict-house-prices-with-keras-f8db83049159/\n",
        "*   https://towardsdatascience.com/an-introduction-to-neural-networks-with-implementation-from-scratch-using-python-da4b6a45c05b\n",
        "*   https://towardsdatascience.com/machine-learning-for-beginners-an-introduction-to-neural-networks-d49f22d238f9\n",
        "\n"
      ]
    },
    {
      "cell_type": "code",
      "metadata": {
        "id": "6U2Ff8QsfkCG"
      },
      "source": [
        ""
      ],
      "execution_count": null,
      "outputs": []
    }
  ]
}