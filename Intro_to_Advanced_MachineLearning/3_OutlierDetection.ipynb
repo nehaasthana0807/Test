{
  "nbformat": 4,
  "nbformat_minor": 0,
  "metadata": {
    "colab": {
      "name": "Intro to Advanced ML - Outliers.ipynb",
      "provenance": [],
      "collapsed_sections": [],
      "toc_visible": true
    },
    "kernelspec": {
      "name": "python3",
      "display_name": "Python 3"
    }
  },
  "cells": [
    {
      "cell_type": "markdown",
      "metadata": {
        "id": "5u-_z8jveaQo",
        "colab_type": "text"
      },
      "source": [
        "# Intro to Advanced ML: Week 3 - Outliers"
      ]
    },
    {
      "cell_type": "markdown",
      "metadata": {
        "id": "tqcA2r39Pu1u",
        "colab_type": "text"
      },
      "source": [
        "## Agenda:\n",
        "\n",
        "\n",
        "*   Load dataset + simple data info/describe\n",
        "*   Principal Component Analysis\n",
        "*   Linear Discriminant Analysis\n",
        "\n"
      ]
    },
    {
      "cell_type": "markdown",
      "metadata": {
        "id": "6hX-ds0ZUQ77",
        "colab_type": "text"
      },
      "source": [
        "### Dataset Information & Loading the Dataset"
      ]
    },
    {
      "cell_type": "markdown",
      "metadata": {
        "id": "IC8j8yEIQNt7",
        "colab_type": "text"
      },
      "source": [
        "\n",
        "A website with a wealth of datasets is the UCI Machine Learning repository (https://archive.ics.uci.edu/ml/index.php). One of these is the Iris Dataset, which is perhaps the best known database to be found in the pattern recognition literature and aims to classify the class of the given Iris plant. \n",
        "\n",
        "Note: refer to this website for more information on the dataset - \n",
        "\n",
        "\n",
        "The dataset (zip file) can be downloaded from this URL -- https://archive.ics.uci.edu/ml/datasets/iris\n",
        "\n",
        "\n"
      ]
    },
    {
      "cell_type": "markdown",
      "metadata": {
        "id": "QQ6E-F59P9h9",
        "colab_type": "text"
      },
      "source": [
        "#### Load dataset"
      ]
    },
    {
      "cell_type": "markdown",
      "metadata": {
        "id": "8xD__1PkRfGM",
        "colab_type": "text"
      },
      "source": [
        "Steps to access, download, and use the dataset:\n",
        "\n",
        "Access the above link, click on \"iris.data\" to download \n",
        "\n",
        "1.   Access the above link, and download \"iris.data\", the dataset.\n",
        "2.   Once downloaded, click on the file to unzip it and save the file in a folder that is easily accessible, for example: \"Documents\"\n",
        "3.   Open a Google Colab Notebook.\n",
        "4.   In the left pane of the Google Colab, click on \"Files\" and select the upload icon (Icon hover text: \"Upload to session storage\")\n",
        "5.   You now are ready to start using the data in the Colab Notebook!\n",
        "\n"
      ]
    },
    {
      "cell_type": "markdown",
      "metadata": {
        "id": "al9DzKGOQ1BW",
        "colab_type": "text"
      },
      "source": [
        "Data location within Colab: '/content/iris.data'"
      ]
    },
    {
      "cell_type": "markdown",
      "metadata": {
        "id": "pYN_Nr4YR85S",
        "colab_type": "text"
      },
      "source": [
        "How to check which folder the google colab is located in?"
      ]
    },
    {
      "cell_type": "code",
      "metadata": {
        "id": "PyZAWE1mR95U",
        "colab_type": "code",
        "colab": {
          "base_uri": "https://localhost:8080/",
          "height": 35
        },
        "outputId": "2fd02047-e365-4034-fde1-79ccc7ba369d"
      },
      "source": [
        "pwd"
      ],
      "execution_count": null,
      "outputs": [
        {
          "output_type": "execute_result",
          "data": {
            "application/vnd.google.colaboratory.intrinsic+json": {
              "type": "string"
            },
            "text/plain": [
              "'/content'"
            ]
          },
          "metadata": {
            "tags": []
          },
          "execution_count": 1
        }
      ]
    },
    {
      "cell_type": "markdown",
      "metadata": {
        "id": "SCq5doG4R_Nk",
        "colab_type": "text"
      },
      "source": [
        "Now that we know which folder, how to see if the data we loaded in Step 4 above is correctly loaded or not?"
      ]
    },
    {
      "cell_type": "code",
      "metadata": {
        "id": "0xiYOwpVR_qd",
        "colab_type": "code",
        "colab": {
          "base_uri": "https://localhost:8080/",
          "height": 34
        },
        "outputId": "ff684734-e6dc-4b54-b815-4645dcb9d727"
      },
      "source": [
        "ls"
      ],
      "execution_count": null,
      "outputs": [
        {
          "output_type": "stream",
          "text": [
            "iris.data  \u001b[0m\u001b[01;34msample_data\u001b[0m/\n"
          ],
          "name": "stdout"
        }
      ]
    },
    {
      "cell_type": "markdown",
      "metadata": {
        "id": "PyB50fTpQ8pn",
        "colab_type": "text"
      },
      "source": [
        "Now, we can load in the dataset as a Pandas dataframe. You may be familiar with this, but the Pandas library actually makes this a simple task and we must first import Pandas. "
      ]
    },
    {
      "cell_type": "code",
      "metadata": {
        "id": "1IJhX5-feRAX",
        "colab_type": "code",
        "colab": {}
      },
      "source": [
        "import pandas as pd"
      ],
      "execution_count": null,
      "outputs": []
    },
    {
      "cell_type": "markdown",
      "metadata": {
        "id": "AdTIv9G6RAv5",
        "colab_type": "text"
      },
      "source": [
        "With Pandas imported, we can now load in the dataset using the .read_csv function of Pandas. We will also specify the columns we would like, specifically sepal length, sepal width, petal length, petal width, and target."
      ]
    },
    {
      "cell_type": "code",
      "metadata": {
        "id": "L-gRDUZAQ-mW",
        "colab_type": "code",
        "colab": {}
      },
      "source": [
        "iris = pd.read_csv('/content/iris.data', names=['sepal_length','sepal_width','petal_length','petal_width','target'])"
      ],
      "execution_count": null,
      "outputs": []
    },
    {
      "cell_type": "code",
      "metadata": {
        "id": "oTAprJNnSXfk",
        "colab_type": "code",
        "colab": {
          "base_uri": "https://localhost:8080/",
          "height": 221
        },
        "outputId": "454f0bb7-edab-470e-c344-84fecb85a3c2"
      },
      "source": [
        "nRow, nCol = iris.shape\n",
        "print(f'There are {nRow} rows and {nCol} columns')\n",
        "\n",
        "iris.head()"
      ],
      "execution_count": null,
      "outputs": [
        {
          "output_type": "stream",
          "text": [
            "There are 150 rows and 5 columns\n"
          ],
          "name": "stdout"
        },
        {
          "output_type": "execute_result",
          "data": {
            "text/html": [
              "<div>\n",
              "<style scoped>\n",
              "    .dataframe tbody tr th:only-of-type {\n",
              "        vertical-align: middle;\n",
              "    }\n",
              "\n",
              "    .dataframe tbody tr th {\n",
              "        vertical-align: top;\n",
              "    }\n",
              "\n",
              "    .dataframe thead th {\n",
              "        text-align: right;\n",
              "    }\n",
              "</style>\n",
              "<table border=\"1\" class=\"dataframe\">\n",
              "  <thead>\n",
              "    <tr style=\"text-align: right;\">\n",
              "      <th></th>\n",
              "      <th>sepal_length</th>\n",
              "      <th>sepal_width</th>\n",
              "      <th>petal_length</th>\n",
              "      <th>petal_width</th>\n",
              "      <th>target</th>\n",
              "    </tr>\n",
              "  </thead>\n",
              "  <tbody>\n",
              "    <tr>\n",
              "      <th>0</th>\n",
              "      <td>5.1</td>\n",
              "      <td>3.5</td>\n",
              "      <td>1.4</td>\n",
              "      <td>0.2</td>\n",
              "      <td>Iris-setosa</td>\n",
              "    </tr>\n",
              "    <tr>\n",
              "      <th>1</th>\n",
              "      <td>4.9</td>\n",
              "      <td>3.0</td>\n",
              "      <td>1.4</td>\n",
              "      <td>0.2</td>\n",
              "      <td>Iris-setosa</td>\n",
              "    </tr>\n",
              "    <tr>\n",
              "      <th>2</th>\n",
              "      <td>4.7</td>\n",
              "      <td>3.2</td>\n",
              "      <td>1.3</td>\n",
              "      <td>0.2</td>\n",
              "      <td>Iris-setosa</td>\n",
              "    </tr>\n",
              "    <tr>\n",
              "      <th>3</th>\n",
              "      <td>4.6</td>\n",
              "      <td>3.1</td>\n",
              "      <td>1.5</td>\n",
              "      <td>0.2</td>\n",
              "      <td>Iris-setosa</td>\n",
              "    </tr>\n",
              "    <tr>\n",
              "      <th>4</th>\n",
              "      <td>5.0</td>\n",
              "      <td>3.6</td>\n",
              "      <td>1.4</td>\n",
              "      <td>0.2</td>\n",
              "      <td>Iris-setosa</td>\n",
              "    </tr>\n",
              "  </tbody>\n",
              "</table>\n",
              "</div>"
            ],
            "text/plain": [
              "   sepal_length  sepal_width  petal_length  petal_width       target\n",
              "0           5.1          3.5           1.4          0.2  Iris-setosa\n",
              "1           4.9          3.0           1.4          0.2  Iris-setosa\n",
              "2           4.7          3.2           1.3          0.2  Iris-setosa\n",
              "3           4.6          3.1           1.5          0.2  Iris-setosa\n",
              "4           5.0          3.6           1.4          0.2  Iris-setosa"
            ]
          },
          "metadata": {
            "tags": []
          },
          "execution_count": 5
        }
      ]
    },
    {
      "cell_type": "markdown",
      "metadata": {
        "id": "ad8OGjN1SsGG",
        "colab_type": "text"
      },
      "source": [
        "#### Describe the data + more information on the dataset"
      ]
    },
    {
      "cell_type": "code",
      "metadata": {
        "id": "w7DLJpVJSohi",
        "colab_type": "code",
        "colab": {
          "base_uri": "https://localhost:8080/",
          "height": 221
        },
        "outputId": "79265039-e414-49c4-c944-5180e52a00d1"
      },
      "source": [
        "iris.info()"
      ],
      "execution_count": null,
      "outputs": [
        {
          "output_type": "stream",
          "text": [
            "<class 'pandas.core.frame.DataFrame'>\n",
            "RangeIndex: 150 entries, 0 to 149\n",
            "Data columns (total 5 columns):\n",
            " #   Column        Non-Null Count  Dtype  \n",
            "---  ------        --------------  -----  \n",
            " 0   sepal_length  150 non-null    float64\n",
            " 1   sepal_width   150 non-null    float64\n",
            " 2   petal_length  150 non-null    float64\n",
            " 3   petal_width   150 non-null    float64\n",
            " 4   target        150 non-null    object \n",
            "dtypes: float64(4), object(1)\n",
            "memory usage: 6.0+ KB\n"
          ],
          "name": "stdout"
        }
      ]
    },
    {
      "cell_type": "markdown",
      "metadata": {
        "id": "gvpupzI9S3MD",
        "colab_type": "text"
      },
      "source": [
        "Let's also do some quick EDA (exploratory data analysis)!"
      ]
    },
    {
      "cell_type": "code",
      "metadata": {
        "id": "J7mbI7ygSvGb",
        "colab_type": "code",
        "colab": {
          "base_uri": "https://localhost:8080/",
          "height": 517
        },
        "outputId": "886b6ed0-2beb-4171-eb4e-7855a8a94e9e"
      },
      "source": [
        "import matplotlib.pyplot as plt\n",
        "\n",
        "color_list = list('rgbkymc')  #red, green, blue, black, etc.\n",
        "plt.figure(figsize=(10,7))\n",
        "\n",
        "plt.xlabel(\"Target Value\")\n",
        "plt.ylabel(\"Count\")\n",
        "\n",
        "iris.target.value_counts().plot(kind='bar', color=color_list)"
      ],
      "execution_count": null,
      "outputs": [
        {
          "output_type": "execute_result",
          "data": {
            "text/plain": [
              "<matplotlib.axes._subplots.AxesSubplot at 0x7fb291e822b0>"
            ]
          },
          "metadata": {
            "tags": []
          },
          "execution_count": 7
        },
        {
          "output_type": "display_data",
          "data": {
            "image/png": "[encoded data removed]",
            "text/plain": [
              "<Figure size 720x504 with 1 Axes>"
            ]
          },
          "metadata": {
            "tags": [],
            "needs_background": "light"
          }
        }
      ]
    },
    {
      "cell_type": "code",
      "metadata": {
        "id": "o3DfiC0qTFJz",
        "colab_type": "code",
        "colab": {
          "base_uri": "https://localhost:8080/",
          "height": 465
        },
        "outputId": "10c1272e-4135-4878-bfa6-99351f768593"
      },
      "source": [
        "color_list = list('rgbkymc')  #red, green, blue, black, etc.\n",
        "plt.figure(figsize=(10,7))\n",
        "\n",
        "plt.xlabel(\"Sepal Length\")\n",
        "plt.ylabel(\"Count\")\n",
        "\n",
        "iris.sepal_length.value_counts().plot(kind='bar', color=color_list)"
      ],
      "execution_count": null,
      "outputs": [
        {
          "output_type": "execute_result",
          "data": {
            "text/plain": [
              "<matplotlib.axes._subplots.AxesSubplot at 0x7fb291e82320>"
            ]
          },
          "metadata": {
            "tags": []
          },
          "execution_count": 8
        },
        {
          "output_type": "display_data",
          "data": {
            "image/png": "[encoded data removed]",
            "text/plain": [
              "<Figure size 720x504 with 1 Axes>"
            ]
          },
          "metadata": {
            "tags": [],
            "needs_background": "light"
          }
        }
      ]
    },
    {
      "cell_type": "code",
      "metadata": {
        "id": "wk2rmRTVTNYe",
        "colab_type": "code",
        "colab": {
          "base_uri": "https://localhost:8080/",
          "height": 465
        },
        "outputId": "c051a8b0-43c7-439a-ea55-dc6944dafdad"
      },
      "source": [
        "color_list = list('rgbkymc')  #red, green, blue, black, etc.\n",
        "plt.figure(figsize=(10,7))\n",
        "\n",
        "plt.xlabel(\"Sepal Width\")\n",
        "plt.ylabel(\"Count\")\n",
        "\n",
        "iris.sepal_width.value_counts().plot(kind='bar', color=color_list)"
      ],
      "execution_count": null,
      "outputs": [
        {
          "output_type": "execute_result",
          "data": {
            "text/plain": [
              "<matplotlib.axes._subplots.AxesSubplot at 0x7fb291e826d8>"
            ]
          },
          "metadata": {
            "tags": []
          },
          "execution_count": 9
        },
        {
          "output_type": "display_data",
          "data": {
            "image/png": "[encoded data removed]",
            "text/plain": [
              "<Figure size 720x504 with 1 Axes>"
            ]
          },
          "metadata": {
            "tags": [],
            "needs_background": "light"
          }
        }
      ]
    },
    {
      "cell_type": "code",
      "metadata": {
        "id": "8VrGjXYSTmoy",
        "colab_type": "code",
        "colab": {
          "base_uri": "https://localhost:8080/",
          "height": 465
        },
        "outputId": "b06ea24b-877d-44da-f8ee-4d74138eb70e"
      },
      "source": [
        "color_list = list('rgbkymc')  #red, green, blue, black, etc.\n",
        "plt.figure(figsize=(10,7))\n",
        "\n",
        "plt.xlabel(\"Petal Length\")\n",
        "plt.ylabel(\"Count\")\n",
        "\n",
        "iris.petal_length.value_counts().plot(kind='bar', color=color_list)"
      ],
      "execution_count": null,
      "outputs": [
        {
          "output_type": "execute_result",
          "data": {
            "text/plain": [
              "<matplotlib.axes._subplots.AxesSubplot at 0x7fb2917f17f0>"
            ]
          },
          "metadata": {
            "tags": []
          },
          "execution_count": 10
        },
        {
          "output_type": "display_data",
          "data": {
            "image/png": "[encoded data removed]",
            "text/plain": [
              "<Figure size 720x504 with 1 Axes>"
            ]
          },
          "metadata": {
            "tags": [],
            "needs_background": "light"
          }
        }
      ]
    },
    {
      "cell_type": "code",
      "metadata": {
        "id": "qG7JuJfbTorg",
        "colab_type": "code",
        "colab": {
          "base_uri": "https://localhost:8080/",
          "height": 465
        },
        "outputId": "82bc61de-567d-4e88-ee40-ef75c6ef88cb"
      },
      "source": [
        "color_list = list('rgbkymc')  #red, green, blue, black, etc.\n",
        "plt.figure(figsize=(10,7))\n",
        "\n",
        "plt.xlabel(\"Petal Width\")\n",
        "plt.ylabel(\"Count\")\n",
        "\n",
        "iris.petal_width.value_counts().plot(kind='bar', color=color_list)"
      ],
      "execution_count": null,
      "outputs": [
        {
          "output_type": "execute_result",
          "data": {
            "text/plain": [
              "<matplotlib.axes._subplots.AxesSubplot at 0x7fb291e826a0>"
            ]
          },
          "metadata": {
            "tags": []
          },
          "execution_count": 11
        },
        {
          "output_type": "display_data",
          "data": {
            "image/png": "[encoded data removed]",
            "text/plain": [
              "<Figure size 720x504 with 1 Axes>"
            ]
          },
          "metadata": {
            "tags": [],
            "needs_background": "light"
          }
        }
      ]
    },
    {
      "cell_type": "markdown",
      "metadata": {
        "id": "AgYfDCf3UbVq",
        "colab_type": "text"
      },
      "source": [
        "#### Now, we must execute some pre-processing on the dataset before we jump into outlier detection."
      ]
    },
    {
      "cell_type": "markdown",
      "metadata": {
        "id": "OgaOU0rcTm_L",
        "colab_type": "text"
      },
      "source": [
        "First step of preprocessing: divide the dataset into a feature set and corresponding labels. Below, we store the feature sets into the X variable and the series of corresponding labels in to the y variable."
      ]
    },
    {
      "cell_type": "code",
      "metadata": {
        "id": "ON1fyoR3Toz4",
        "colab_type": "code",
        "colab": {}
      },
      "source": [
        "X = iris.drop('target', 1)\n",
        "y = iris['target']"
      ],
      "execution_count": null,
      "outputs": []
    },
    {
      "cell_type": "markdown",
      "metadata": {
        "id": "UeDsKWvDT11u",
        "colab_type": "text"
      },
      "source": [
        "Next, we divide our data into training and test sets:"
      ]
    },
    {
      "cell_type": "code",
      "metadata": {
        "id": "XP59xH5CT3Lr",
        "colab_type": "code",
        "colab": {}
      },
      "source": [
        "from sklearn.model_selection import train_test_split\n",
        "\n",
        "X_train, X_test, y_train, y_test = train_test_split(X, y, test_size=0.2, random_state=0)"
      ],
      "execution_count": null,
      "outputs": []
    },
    {
      "cell_type": "markdown",
      "metadata": {
        "id": "JLAk6h4JUf0K",
        "colab_type": "text"
      },
      "source": [
        "PCA is affected by scale, therefore you need to scale the features in your data before applying PCA. Therefore, we will use 'StandardScaler' to help you standardize the dataset’s features onto a unit scale (mean = 0 and variance = 1), which is a requirement for the optimal performance of many machine learning algorithms. "
      ]
    },
    {
      "cell_type": "code",
      "metadata": {
        "id": "BD9MWPm1Un8s",
        "colab_type": "code",
        "colab": {}
      },
      "source": [
        "from sklearn.preprocessing import StandardScaler"
      ],
      "execution_count": null,
      "outputs": []
    },
    {
      "cell_type": "code",
      "metadata": {
        "id": "KjRyRjD0UsKN",
        "colab_type": "code",
        "colab": {}
      },
      "source": [
        "sc = StandardScaler()\n",
        "X_train = sc.fit_transform(X_train)\n",
        "X_test = sc.transform(X_test)"
      ],
      "execution_count": null,
      "outputs": []
    },
    {
      "cell_type": "markdown",
      "metadata": {
        "id": "tTJR-om5VQe4",
        "colab_type": "text"
      },
      "source": [
        "Below is the array x (visualized by a pandas dataframe) before and after standardization:"
      ]
    },
    {
      "cell_type": "markdown",
      "metadata": {
        "id": "3omY3mjYU14O",
        "colab_type": "text"
      },
      "source": [
        "![Scaling](https://miro.medium.com/max/1400/1*Qxyo-uDrmsUzdxIe7Nnsmg.png)"
      ]
    },
    {
      "cell_type": "markdown",
      "metadata": {
        "id": "fc6-O0adT1UC",
        "colab_type": "text"
      },
      "source": [
        "\n",
        "\n",
        "---\n",
        "\n",
        "\n",
        "\n",
        "---\n",
        "\n"
      ]
    },
    {
      "cell_type": "markdown",
      "metadata": {
        "id": "6tncG0fWTv5o",
        "colab_type": "text"
      },
      "source": [
        "Now, let's jump into the main focus for today: outlier detection aka anomaly detection. We will start out with PCA and then implement LDA."
      ]
    },
    {
      "cell_type": "markdown",
      "metadata": {
        "id": "7-NIctDBT37j",
        "colab_type": "text"
      },
      "source": [
        "### Outlier Detection: Principal Component Analysis (PCA)"
      ]
    },
    {
      "cell_type": "markdown",
      "metadata": {
        "id": "FIo73uWKVl5D",
        "colab_type": "text"
      },
      "source": [
        "We will leverage scikit-learn's built-in PCA library (the PCA class is used for this purpose). PCA depends only upon the feature set and not the label data, therefore it can be considered as an unsupervised machine learning technique. "
      ]
    },
    {
      "cell_type": "markdown",
      "metadata": {
        "id": "QRM_Oi1NUKYc",
        "colab_type": "text"
      },
      "source": [
        "Performing PCA can be seen as a two-step process:\n",
        "\n",
        "\n",
        "1.   Initialize the PCA class by passing the number of components to the constructor.\n",
        "2.   Call the fit and then transform methods by passing the feature set to these methods. The transform method returns the specified number of principal components.\n",
        "\n"
      ]
    },
    {
      "cell_type": "markdown",
      "metadata": {
        "id": "oM8PAnAhUSQj",
        "colab_type": "text"
      },
      "source": [
        "Below, we create a PCA object named pca. We did not specify the number of components in the constructor. Hence, all four of the features in the feature set will be returned for both the training and test sets"
      ]
    },
    {
      "cell_type": "code",
      "metadata": {
        "id": "jSBybVgbUSku",
        "colab_type": "code",
        "colab": {}
      },
      "source": [
        "from sklearn.decomposition import PCA\n",
        "\n",
        "pca = PCA()\n",
        "X_train = pca.fit_transform(X_train)\n",
        "X_test = pca.transform(X_test)"
      ],
      "execution_count": null,
      "outputs": []
    },
    {
      "cell_type": "markdown",
      "metadata": {
        "id": "AZKbROhXWy9V",
        "colab_type": "text"
      },
      "source": [
        "Explained Variance: The explained variance tells you how much information (variance) can be attributed to each of the principal components. This is important as while you can convert 4-dimensional space to 2-dimensional space, you can potentially lose some of the variance (information) when you do this."
      ]
    },
    {
      "cell_type": "code",
      "metadata": {
        "id": "ODT6qbkKW7MB",
        "colab_type": "code",
        "colab": {
          "base_uri": "https://localhost:8080/",
          "height": 34
        },
        "outputId": "f36c565b-94dd-4f24-951c-7e750cc62d9a"
      },
      "source": [
        "pca.explained_variance_ratio_"
      ],
      "execution_count": null,
      "outputs": [
        {
          "output_type": "execute_result",
          "data": {
            "text/plain": [
              "array([0.72226528, 0.23974795, 0.03338117, 0.0046056 ])"
            ]
          },
          "metadata": {
            "tags": []
          },
          "execution_count": 17
        }
      ]
    },
    {
      "cell_type": "markdown",
      "metadata": {
        "id": "6lwgB3ZfW6yb",
        "colab_type": "text"
      },
      "source": [
        "By using the attribute explained_variance_ratio_, you can see that the first principal component contains 72.22% of the variance and the second principal component contains 23.97% of the variance. Together, the two components contain 95.80% of the information."
      ]
    },
    {
      "cell_type": "markdown",
      "metadata": {
        "id": "8G82nWU3UkHR",
        "colab_type": "text"
      },
      "source": [
        "Now let's try to use 1 principal component to train our algorithm:"
      ]
    },
    {
      "cell_type": "code",
      "metadata": {
        "id": "ogvIdpyhUk_m",
        "colab_type": "code",
        "colab": {}
      },
      "source": [
        "from sklearn.decomposition import PCA\n",
        "\n",
        "pca = PCA(n_components=1)\n",
        "X_train = pca.fit_transform(X_train)\n",
        "X_test = pca.transform(X_test)"
      ],
      "execution_count": null,
      "outputs": []
    },
    {
      "cell_type": "markdown",
      "metadata": {
        "id": "eEKtvvYMTKHU",
        "colab_type": "text"
      },
      "source": [
        "Train and Make Predictions: use the Random Forest classifier"
      ]
    },
    {
      "cell_type": "code",
      "metadata": {
        "id": "BcqeOdoRTNkN",
        "colab_type": "code",
        "colab": {}
      },
      "source": [
        "from sklearn.ensemble import RandomForestClassifier\n",
        "\n",
        "classifier = RandomForestClassifier(max_depth=2, random_state=0)\n",
        "classifier.fit(X_train, y_train)\n",
        "\n",
        "# Predicting the Test set results\n",
        "y_pred = classifier.predict(X_test)"
      ],
      "execution_count": null,
      "outputs": []
    },
    {
      "cell_type": "markdown",
      "metadata": {
        "id": "pyZ37a0gTOJw",
        "colab_type": "text"
      },
      "source": [
        "Evaluation: Accuracy & Confusion Matrix"
      ]
    },
    {
      "cell_type": "code",
      "metadata": {
        "id": "_dfsXI3aUtmv",
        "colab_type": "code",
        "colab": {
          "base_uri": "https://localhost:8080/",
          "height": 85
        },
        "outputId": "ab107b75-093c-40f8-f653-76a00dc4bc20"
      },
      "source": [
        "from sklearn.metrics import confusion_matrix\n",
        "from sklearn.metrics import accuracy_score\n",
        "\n",
        "cm = confusion_matrix(y_test, y_pred)\n",
        "print(cm)\n",
        "print(\"Accuracy: \", accuracy_score(y_test, y_pred))"
      ],
      "execution_count": null,
      "outputs": [
        {
          "output_type": "stream",
          "text": [
            "[[11  0  0]\n",
            " [ 0 12  1]\n",
            " [ 0  1  5]]\n",
            "Accuracy:  0.9333333333333333\n"
          ],
          "name": "stdout"
        }
      ]
    },
    {
      "cell_type": "markdown",
      "metadata": {
        "id": "414SOaWKU65v",
        "colab_type": "text"
      },
      "source": [
        "Therefore, the Random Forest algorithm is able to correctly predict 28 out of 30 instances, resulting in 93.33% accuracy. "
      ]
    },
    {
      "cell_type": "markdown",
      "metadata": {
        "id": "7A7JnUXjUE2r",
        "colab_type": "text"
      },
      "source": [
        "\n",
        "\n",
        "---\n",
        "\n",
        "\n",
        "\n",
        "---\n",
        "\n"
      ]
    },
    {
      "cell_type": "markdown",
      "metadata": {
        "id": "_I3zT8URUBHp",
        "colab_type": "text"
      },
      "source": [
        "### Outlier Detection: Linear Discriminant Analysis (LDA)"
      ]
    },
    {
      "cell_type": "code",
      "metadata": {
        "id": "Xci-KKb5TvNR",
        "colab_type": "code",
        "colab": {}
      },
      "source": [
        "import numpy as np"
      ],
      "execution_count": null,
      "outputs": []
    },
    {
      "cell_type": "markdown",
      "metadata": {
        "id": "VMtoZxKgRwRq",
        "colab_type": "text"
      },
      "source": [
        "Pre-Processing: divide dataset into features and corresponding labels and then divide the resultant dataset into training and test sets. Below, we assign the first four columns of the dataset i.e. the feature set to X variable, while the values in the fifth column (labels) are assigned to the y variable."
      ]
    },
    {
      "cell_type": "code",
      "metadata": {
        "id": "CuFCW56JRuZf",
        "colab_type": "code",
        "colab": {}
      },
      "source": [
        "X = iris.iloc[:, 0:4].values\n",
        "y = iris.iloc[:, 4].values"
      ],
      "execution_count": null,
      "outputs": []
    },
    {
      "cell_type": "markdown",
      "metadata": {
        "id": "svX27gj3R9q-",
        "colab_type": "text"
      },
      "source": [
        "Next, we divide the data into training and test sets."
      ]
    },
    {
      "cell_type": "code",
      "metadata": {
        "id": "4xnGXCSwSDKs",
        "colab_type": "code",
        "colab": {}
      },
      "source": [
        "from sklearn.model_selection import train_test_split\n",
        "\n",
        "X_train, X_test, y_train, y_test = train_test_split(X, y, test_size=0.2, random_state=0)"
      ],
      "execution_count": null,
      "outputs": []
    },
    {
      "cell_type": "markdown",
      "metadata": {
        "id": "NVU-4SXoSFzH",
        "colab_type": "text"
      },
      "source": [
        "Feature Scaling (just like we did for PCA):"
      ]
    },
    {
      "cell_type": "code",
      "metadata": {
        "id": "qXIwNfL1SKpb",
        "colab_type": "code",
        "colab": {}
      },
      "source": [
        "from sklearn.preprocessing import StandardScaler\n",
        "\n",
        "sc = StandardScaler()\n",
        "X_train = sc.fit_transform(X_train)\n",
        "X_test = sc.transform(X_test)"
      ],
      "execution_count": null,
      "outputs": []
    },
    {
      "cell_type": "markdown",
      "metadata": {
        "id": "5VXAGeCgSNV_",
        "colab_type": "text"
      },
      "source": [
        "We will again leverage scikit-learn to perform LDA: \n",
        "\n",
        "\n",
        "*   The LinearDiscriminantAnalysis class of the sklearn.discriminant_analysis library can be used to perform LDA in Python, we import it as LDA\n",
        "*   We have to pass the value for the n_components parameter of the LDA (which refers to the number of linear discriminates that we want to retrieve). In this case, we set the n_components to 1, since we first want to check the performance of our classifier with a single linear discriminant.\n",
        "*   Finally, we execute the fit and transform methods to actually retrieve the linear discriminants. \n",
        "*   In the case of LDA, the transform method takes two parameters: the X_train and the y_train. However, in the case of PCA, the transform method only required one parameter (i.e. X_train). This reflects the fact that LDA takes the output class labels into account while selecting the linear discriminants, while PCA does no depend upon the output labels.\n",
        "\n"
      ]
    },
    {
      "cell_type": "code",
      "metadata": {
        "id": "ltzwPK7pSrem",
        "colab_type": "code",
        "colab": {}
      },
      "source": [
        "from sklearn.discriminant_analysis import LinearDiscriminantAnalysis as LDA\n",
        "\n",
        "lda = LDA(n_components=1)\n",
        "X_train = lda.fit_transform(X_train, y_train)\n",
        "X_test = lda.transform(X_test)"
      ],
      "execution_count": null,
      "outputs": []
    },
    {
      "cell_type": "markdown",
      "metadata": {
        "id": "LED4PhGJSz86",
        "colab_type": "text"
      },
      "source": [
        "Train and Make Predictions: use the same Random Forest classifier"
      ]
    },
    {
      "cell_type": "code",
      "metadata": {
        "id": "CbPK9-H1S49C",
        "colab_type": "code",
        "colab": {}
      },
      "source": [
        "from sklearn.ensemble import RandomForestClassifier\n",
        "\n",
        "classifier = RandomForestClassifier(max_depth=2, random_state=0)\n",
        "\n",
        "classifier.fit(X_train, y_train)\n",
        "y_pred = classifier.predict(X_test)"
      ],
      "execution_count": null,
      "outputs": []
    },
    {
      "cell_type": "markdown",
      "metadata": {
        "id": "S3UXfetJS5OT",
        "colab_type": "text"
      },
      "source": [
        "Evaluation: Accuracy & Confusion Matrix"
      ]
    },
    {
      "cell_type": "code",
      "metadata": {
        "id": "nfTRvXWLS9Xj",
        "colab_type": "code",
        "colab": {
          "base_uri": "https://localhost:8080/",
          "height": 85
        },
        "outputId": "e85afdbf-b50b-4e3e-db30-4ddbb2ed8fee"
      },
      "source": [
        "from sklearn.metrics import confusion_matrix\n",
        "from sklearn.metrics import accuracy_score\n",
        "\n",
        "cm = confusion_matrix(y_test, y_pred)\n",
        "print(cm)\n",
        "print('Accuracy' + str(accuracy_score(y_test, y_pred)))"
      ],
      "execution_count": null,
      "outputs": [
        {
          "output_type": "stream",
          "text": [
            "[[11  0  0]\n",
            " [ 0 13  0]\n",
            " [ 0  0  6]]\n",
            "Accuracy1.0\n"
          ],
          "name": "stdout"
        }
      ]
    },
    {
      "cell_type": "markdown",
      "metadata": {
        "id": "wT7udhcvVXvk",
        "colab_type": "text"
      },
      "source": [
        "To wrap up, PCA vs. LDA: what to choose for dimensionality reduction?\n",
        "\n",
        "\n",
        "\n",
        "*   In case of uniformly distributed data, LDA almost always performs better than PCA. \n",
        "*   However, if the data is highly skewed (irregularly distributed), then it is advised to use PCA since LDA can be biased towards the majority class.\n",
        "*   Finally, it is beneficial that PCA can be applied to labeled as well as unlabeled data since it doesn't rely on the output labels.\n",
        "*   On the other hand, LDA requires output classes for finding linear discriminants and hence requires labeled data.\n",
        "\n"
      ]
    },
    {
      "cell_type": "markdown",
      "metadata": {
        "id": "4wEd_zL1UGIm",
        "colab_type": "text"
      },
      "source": [
        "## References:"
      ]
    },
    {
      "cell_type": "markdown",
      "metadata": {
        "id": "3wqQm_RaUInA",
        "colab_type": "text"
      },
      "source": [
        "\n",
        "\n",
        "*   https://towardsdatascience.com/pca-using-python-scikit-learn-e653f8989e60\n",
        "\n",
        "*   https://github.com/bot13956/linear-discriminant-analysis-iris-dataset\n",
        "*   https://stackabuse.com/implementing-lda-in-python-with-scikit-learn/\n",
        "\n",
        "\n"
      ]
    }
  ]
}