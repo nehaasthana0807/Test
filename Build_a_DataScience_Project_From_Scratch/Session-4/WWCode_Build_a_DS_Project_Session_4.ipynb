{
  "nbformat": 4,
  "nbformat_minor": 0,
  "metadata": {
    "colab": {
      "provenance": []
    },
    "kernelspec": {
      "name": "python3",
      "display_name": "Python 3"
    },
    "language_info": {
      "name": "python"
    }
  },
  "cells": [
    {
      "cell_type": "markdown",
      "source": [
        "# Session 4 - Baseline Model Building\n",
        "\n",
        "Python Notebook [Colab/Jupyter] includes:\n",
        "*  Important libraries overview\n",
        "*  Baseline model building\n",
        "*  Testing accuracy\n",
        "*  Evaluation metrics\n",
        "\n",
        "\n",
        "*ML Objective: Predict Target Value (Like/No Like)*"
      ],
      "metadata": {
        "id": "nwBGOvsvDtiS"
      }
    },
    {
      "cell_type": "markdown",
      "source": [
        "Import needed libraries and packages:\n",
        "\n"
      ],
      "metadata": {
        "id": "BB7JtMwYX7UH"
      }
    },
    {
      "cell_type": "code",
      "source": [
        "import pandas as pd\n",
        "from sklearn.model_selection import train_test_split\n",
        "from sklearn.dummy import DummyClassifier\n",
        "from sklearn.metrics import accuracy_score, confusion_matrix\n",
        "import matplotlib.pyplot as plt\n",
        "import seaborn as sns\n",
        "from sklearn.preprocessing import StandardScaler\n",
        "from sklearn.metrics import confusion_matrix, precision_score, recall_score, f1_score\n"
      ],
      "metadata": {
        "id": "3zSXIZIYX6mn"
      },
      "execution_count": null,
      "outputs": []
    },
    {
      "cell_type": "markdown",
      "source": [
        "Step 1: Load the clean data"
      ],
      "metadata": {
        "id": "6xudq5A9YCD-"
      }
    },
    {
      "cell_type": "code",
      "source": [
        "from google.colab import drive\n",
        "drive.mount('/content/drive')"
      ],
      "metadata": {
        "colab": {
          "base_uri": "https://localhost:8080/"
        },
        "id": "LLFvszIT_g00",
        "outputId": "c1302e80-7fc7-4d0a-d620-c4959f5ee6a5"
      },
      "execution_count": null,
      "outputs": [
        {
          "output_type": "stream",
          "name": "stdout",
          "text": [
            "Mounted at /content/drive\n"
          ]
        }
      ]
    },
    {
      "cell_type": "code",
      "source": [
        "file_path = '/content/drive/MyDrive/clean_data.csv'\n",
        "df = pd.read_csv(file_path)\n",
        "df.head(10)"
      ],
      "metadata": {
        "colab": {
          "base_uri": "https://localhost:8080/",
          "height": 427
        },
        "id": "zThGqDZAYZ6M",
        "outputId": "e35538c8-78d9-4ce2-9f48-8b919488a9db"
      },
      "execution_count": null,
      "outputs": [
        {
          "output_type": "execute_result",
          "data": {
            "text/plain": [
              "   Acousticness  Danceability  Duration    Energy  Instrumentalness  Key  \\\n",
              "0     -0.682956      1.332913 -0.508052 -1.179049         -0.407036    2   \n",
              "1      0.044243      0.773779  0.983794 -1.535847         -0.464896    1   \n",
              "2     -0.589746      1.363976 -0.738452 -1.283709         -0.486428    2   \n",
              "3      1.604177     -0.773161 -0.571307 -1.635750          1.381537    5   \n",
              "4     -0.028939      0.369959  1.788174 -0.574871          1.388866    5   \n",
              "5     -0.703794      1.152748  0.061855 -0.579628         -0.487285    8   \n",
              "6     -0.666394      0.748928 -0.059278 -0.998271         -0.487259    1   \n",
              "7     -0.644440     -2.189636  1.261034 -1.588177          1.945848   10   \n",
              "8     -0.536977     -0.095987 -0.529357  1.247178         -0.487285   11   \n",
              "9     -0.714232      1.351551 -0.236836 -0.375064         -0.487285    7   \n",
              "\n",
              "   Liveness  Loudness  Mode  Speechiness     Tempo  Time_Signature   Valence  \\\n",
              "0 -0.165984 -0.457521     1     3.777457  1.066649               4 -0.855011   \n",
              "1 -0.346011 -0.885152     1    -0.146977  1.442230               4  0.367140   \n",
              "2 -0.204561 -0.018972     1     2.192503 -1.744977               4 -1.312305   \n",
              "3 -0.634054 -2.172574     1    -0.741893 -1.316813               4 -1.081634   \n",
              "4  1.595710 -1.217193     0    -0.258593  1.963980               4  1.645946   \n",
              "5 -0.172413  0.105111     1     1.031692 -1.370971               4 -0.944041   \n",
              "6  0.104057 -1.098968     1     0.708005 -1.558105               4 -0.765980   \n",
              "7 -0.198131 -1.206808     0    -0.619114  0.845221               4 -0.421997   \n",
              "8  0.972045  0.918836     0     2.839879  0.316050               4 -0.401763   \n",
              "9  2.444409 -0.190451     1     1.612098 -0.809867               4 -0.450325   \n",
              "\n",
              "   Target  TempoVariability  TempoRange  \n",
              "0       1          1.000249     6.42666  \n",
              "1       1          1.000249     6.42666  \n",
              "2       1          1.000249     6.42666  \n",
              "3       1          1.000249     6.42666  \n",
              "4       1          1.000249     6.42666  \n",
              "5       1          1.000249     6.42666  \n",
              "6       1          1.000249     6.42666  \n",
              "7       1          1.000249     6.42666  \n",
              "8       1          1.000249     6.42666  \n",
              "9       1          1.000249     6.42666  "
            ],
            "text/html": [
              "\n",
              "  <div id=\"df-f20df706-8576-4206-8813-480523f4c0ec\">\n",
              "    <div class=\"colab-df-container\">\n",
              "      <div>\n",
              "<style scoped>\n",
              "    .dataframe tbody tr th:only-of-type {\n",
              "        vertical-align: middle;\n",
              "    }\n",
              "\n",
              "    .dataframe tbody tr th {\n",
              "        vertical-align: top;\n",
              "    }\n",
              "\n",
              "    .dataframe thead th {\n",
              "        text-align: right;\n",
              "    }\n",
              "</style>\n",
              "<table border=\"1\" class=\"dataframe\">\n",
              "  <thead>\n",
              "    <tr style=\"text-align: right;\">\n",
              "      <th></th>\n",
              "      <th>Acousticness</th>\n",
              "      <th>Danceability</th>\n",
              "      <th>Duration</th>\n",
              "      <th>Energy</th>\n",
              "      <th>Instrumentalness</th>\n",
              "      <th>Key</th>\n",
              "      <th>Liveness</th>\n",
              "      <th>Loudness</th>\n",
              "      <th>Mode</th>\n",
              "      <th>Speechiness</th>\n",
              "      <th>Tempo</th>\n",
              "      <th>Time_Signature</th>\n",
              "      <th>Valence</th>\n",
              "      <th>Target</th>\n",
              "      <th>TempoVariability</th>\n",
              "      <th>TempoRange</th>\n",
              "    </tr>\n",
              "  </thead>\n",
              "  <tbody>\n",
              "    <tr>\n",
              "      <th>0</th>\n",
              "      <td>-0.682956</td>\n",
              "      <td>1.332913</td>\n",
              "      <td>-0.508052</td>\n",
              "      <td>-1.179049</td>\n",
              "      <td>-0.407036</td>\n",
              "      <td>2</td>\n",
              "      <td>-0.165984</td>\n",
              "      <td>-0.457521</td>\n",
              "      <td>1</td>\n",
              "      <td>3.777457</td>\n",
              "      <td>1.066649</td>\n",
              "      <td>4</td>\n",
              "      <td>-0.855011</td>\n",
              "      <td>1</td>\n",
              "      <td>1.000249</td>\n",
              "      <td>6.42666</td>\n",
              "    </tr>\n",
              "    <tr>\n",
              "      <th>1</th>\n",
              "      <td>0.044243</td>\n",
              "      <td>0.773779</td>\n",
              "      <td>0.983794</td>\n",
              "      <td>-1.535847</td>\n",
              "      <td>-0.464896</td>\n",
              "      <td>1</td>\n",
              "      <td>-0.346011</td>\n",
              "      <td>-0.885152</td>\n",
              "      <td>1</td>\n",
              "      <td>-0.146977</td>\n",
              "      <td>1.442230</td>\n",
              "      <td>4</td>\n",
              "      <td>0.367140</td>\n",
              "      <td>1</td>\n",
              "      <td>1.000249</td>\n",
              "      <td>6.42666</td>\n",
              "    </tr>\n",
              "    <tr>\n",
              "      <th>2</th>\n",
              "      <td>-0.589746</td>\n",
              "      <td>1.363976</td>\n",
              "      <td>-0.738452</td>\n",
              "      <td>-1.283709</td>\n",
              "      <td>-0.486428</td>\n",
              "      <td>2</td>\n",
              "      <td>-0.204561</td>\n",
              "      <td>-0.018972</td>\n",
              "      <td>1</td>\n",
              "      <td>2.192503</td>\n",
              "      <td>-1.744977</td>\n",
              "      <td>4</td>\n",
              "      <td>-1.312305</td>\n",
              "      <td>1</td>\n",
              "      <td>1.000249</td>\n",
              "      <td>6.42666</td>\n",
              "    </tr>\n",
              "    <tr>\n",
              "      <th>3</th>\n",
              "      <td>1.604177</td>\n",
              "      <td>-0.773161</td>\n",
              "      <td>-0.571307</td>\n",
              "      <td>-1.635750</td>\n",
              "      <td>1.381537</td>\n",
              "      <td>5</td>\n",
              "      <td>-0.634054</td>\n",
              "      <td>-2.172574</td>\n",
              "      <td>1</td>\n",
              "      <td>-0.741893</td>\n",
              "      <td>-1.316813</td>\n",
              "      <td>4</td>\n",
              "      <td>-1.081634</td>\n",
              "      <td>1</td>\n",
              "      <td>1.000249</td>\n",
              "      <td>6.42666</td>\n",
              "    </tr>\n",
              "    <tr>\n",
              "      <th>4</th>\n",
              "      <td>-0.028939</td>\n",
              "      <td>0.369959</td>\n",
              "      <td>1.788174</td>\n",
              "      <td>-0.574871</td>\n",
              "      <td>1.388866</td>\n",
              "      <td>5</td>\n",
              "      <td>1.595710</td>\n",
              "      <td>-1.217193</td>\n",
              "      <td>0</td>\n",
              "      <td>-0.258593</td>\n",
              "      <td>1.963980</td>\n",
              "      <td>4</td>\n",
              "      <td>1.645946</td>\n",
              "      <td>1</td>\n",
              "      <td>1.000249</td>\n",
              "      <td>6.42666</td>\n",
              "    </tr>\n",
              "    <tr>\n",
              "      <th>5</th>\n",
              "      <td>-0.703794</td>\n",
              "      <td>1.152748</td>\n",
              "      <td>0.061855</td>\n",
              "      <td>-0.579628</td>\n",
              "      <td>-0.487285</td>\n",
              "      <td>8</td>\n",
              "      <td>-0.172413</td>\n",
              "      <td>0.105111</td>\n",
              "      <td>1</td>\n",
              "      <td>1.031692</td>\n",
              "      <td>-1.370971</td>\n",
              "      <td>4</td>\n",
              "      <td>-0.944041</td>\n",
              "      <td>1</td>\n",
              "      <td>1.000249</td>\n",
              "      <td>6.42666</td>\n",
              "    </tr>\n",
              "    <tr>\n",
              "      <th>6</th>\n",
              "      <td>-0.666394</td>\n",
              "      <td>0.748928</td>\n",
              "      <td>-0.059278</td>\n",
              "      <td>-0.998271</td>\n",
              "      <td>-0.487259</td>\n",
              "      <td>1</td>\n",
              "      <td>0.104057</td>\n",
              "      <td>-1.098968</td>\n",
              "      <td>1</td>\n",
              "      <td>0.708005</td>\n",
              "      <td>-1.558105</td>\n",
              "      <td>4</td>\n",
              "      <td>-0.765980</td>\n",
              "      <td>1</td>\n",
              "      <td>1.000249</td>\n",
              "      <td>6.42666</td>\n",
              "    </tr>\n",
              "    <tr>\n",
              "      <th>7</th>\n",
              "      <td>-0.644440</td>\n",
              "      <td>-2.189636</td>\n",
              "      <td>1.261034</td>\n",
              "      <td>-1.588177</td>\n",
              "      <td>1.945848</td>\n",
              "      <td>10</td>\n",
              "      <td>-0.198131</td>\n",
              "      <td>-1.206808</td>\n",
              "      <td>0</td>\n",
              "      <td>-0.619114</td>\n",
              "      <td>0.845221</td>\n",
              "      <td>4</td>\n",
              "      <td>-0.421997</td>\n",
              "      <td>1</td>\n",
              "      <td>1.000249</td>\n",
              "      <td>6.42666</td>\n",
              "    </tr>\n",
              "    <tr>\n",
              "      <th>8</th>\n",
              "      <td>-0.536977</td>\n",
              "      <td>-0.095987</td>\n",
              "      <td>-0.529357</td>\n",
              "      <td>1.247178</td>\n",
              "      <td>-0.487285</td>\n",
              "      <td>11</td>\n",
              "      <td>0.972045</td>\n",
              "      <td>0.918836</td>\n",
              "      <td>0</td>\n",
              "      <td>2.839879</td>\n",
              "      <td>0.316050</td>\n",
              "      <td>4</td>\n",
              "      <td>-0.401763</td>\n",
              "      <td>1</td>\n",
              "      <td>1.000249</td>\n",
              "      <td>6.42666</td>\n",
              "    </tr>\n",
              "    <tr>\n",
              "      <th>9</th>\n",
              "      <td>-0.714232</td>\n",
              "      <td>1.351551</td>\n",
              "      <td>-0.236836</td>\n",
              "      <td>-0.375064</td>\n",
              "      <td>-0.487285</td>\n",
              "      <td>7</td>\n",
              "      <td>2.444409</td>\n",
              "      <td>-0.190451</td>\n",
              "      <td>1</td>\n",
              "      <td>1.612098</td>\n",
              "      <td>-0.809867</td>\n",
              "      <td>4</td>\n",
              "      <td>-0.450325</td>\n",
              "      <td>1</td>\n",
              "      <td>1.000249</td>\n",
              "      <td>6.42666</td>\n",
              "    </tr>\n",
              "  </tbody>\n",
              "</table>\n",
              "</div>\n",
              "      <button class=\"colab-df-convert\" onclick=\"convertToInteractive('df-f20df706-8576-4206-8813-480523f4c0ec')\"\n",
              "              title=\"Convert this dataframe to an interactive table.\"\n",
              "              style=\"display:none;\">\n",
              "        \n",
              "  <svg xmlns=\"http://www.w3.org/2000/svg\" height=\"24px\"viewBox=\"0 0 24 24\"\n",
              "       width=\"24px\">\n",
              "    <path d=\"M0 0h24v24H0V0z\" fill=\"none\"/>\n",
              "    <path d=\"M18.56 5.44l.94 2.06.94-2.06 2.06-.94-2.06-.94-.94-2.06-.94 2.06-2.06.94zm-11 1L8.5 8.5l.94-2.06 2.06-.94-2.06-.94L8.5 2.5l-.94 2.06-2.06.94zm10 10l.94 2.06.94-2.06 2.06-.94-2.06-.94-.94-2.06-.94 2.06-2.06.94z\"/><path d=\"M17.41 7.96l-1.37-1.37c-.4-.4-.92-.59-1.43-.59-.52 0-1.04.2-1.43.59L10.3 9.45l-7.72 7.72c-.78.78-.78 2.05 0 2.83L4 21.41c.39.39.9.59 1.41.59.51 0 1.02-.2 1.41-.59l7.78-7.78 2.81-2.81c.8-.78.8-2.07 0-2.86zM5.41 20L4 18.59l7.72-7.72 1.47 1.35L5.41 20z\"/>\n",
              "  </svg>\n",
              "      </button>\n",
              "      \n",
              "  <style>\n",
              "    .colab-df-container {\n",
              "      display:flex;\n",
              "      flex-wrap:wrap;\n",
              "      gap: 12px;\n",
              "    }\n",
              "\n",
              "    .colab-df-convert {\n",
              "      background-color: #E8F0FE;\n",
              "      border: none;\n",
              "      border-radius: 50%;\n",
              "      cursor: pointer;\n",
              "      display: none;\n",
              "      fill: #1967D2;\n",
              "      height: 32px;\n",
              "      padding: 0 0 0 0;\n",
              "      width: 32px;\n",
              "    }\n",
              "\n",
              "    .colab-df-convert:hover {\n",
              "      background-color: #E2EBFA;\n",
              "      box-shadow: 0px 1px 2px rgba(60, 64, 67, 0.3), 0px 1px 3px 1px rgba(60, 64, 67, 0.15);\n",
              "      fill: #174EA6;\n",
              "    }\n",
              "\n",
              "    [theme=dark] .colab-df-convert {\n",
              "      background-color: #3B4455;\n",
              "      fill: #D2E3FC;\n",
              "    }\n",
              "\n",
              "    [theme=dark] .colab-df-convert:hover {\n",
              "      background-color: #434B5C;\n",
              "      box-shadow: 0px 1px 3px 1px rgba(0, 0, 0, 0.15);\n",
              "      filter: drop-shadow(0px 1px 2px rgba(0, 0, 0, 0.3));\n",
              "      fill: #FFFFFF;\n",
              "    }\n",
              "  </style>\n",
              "\n",
              "      <script>\n",
              "        const buttonEl =\n",
              "          document.querySelector('#df-f20df706-8576-4206-8813-480523f4c0ec button.colab-df-convert');\n",
              "        buttonEl.style.display =\n",
              "          google.colab.kernel.accessAllowed ? 'block' : 'none';\n",
              "\n",
              "        async function convertToInteractive(key) {\n",
              "          const element = document.querySelector('#df-f20df706-8576-4206-8813-480523f4c0ec');\n",
              "          const dataTable =\n",
              "            await google.colab.kernel.invokeFunction('convertToInteractive',\n",
              "                                                     [key], {});\n",
              "          if (!dataTable) return;\n",
              "\n",
              "          const docLinkHtml = 'Like what you see? Visit the ' +\n",
              "            '<a target=\"_blank\" href=https://colab.research.google.com/notebooks/data_table.ipynb>data table notebook</a>'\n",
              "            + ' to learn more about interactive tables.';\n",
              "          element.innerHTML = '';\n",
              "          dataTable['output_type'] = 'display_data';\n",
              "          await google.colab.output.renderOutput(dataTable, element);\n",
              "          const docLink = document.createElement('div');\n",
              "          docLink.innerHTML = docLinkHtml;\n",
              "          element.appendChild(docLink);\n",
              "        }\n",
              "      </script>\n",
              "    </div>\n",
              "  </div>\n",
              "  "
            ]
          },
          "metadata": {},
          "execution_count": 3
        }
      ]
    },
    {
      "cell_type": "markdown",
      "source": [
        "Step 2: Check class imbalance/balance on the dataset once more to select the best baseline model strategy"
      ],
      "metadata": {
        "id": "8eOcs57Oa_76"
      }
    },
    {
      "cell_type": "code",
      "source": [
        "df['Target'].value_counts()\n"
      ],
      "metadata": {
        "colab": {
          "base_uri": "https://localhost:8080/"
        },
        "id": "ixFquQr9bE8o",
        "outputId": "6bed9beb-9187-4894-e4ab-f8667281e138"
      },
      "execution_count": null,
      "outputs": [
        {
          "output_type": "execute_result",
          "data": {
            "text/plain": [
              "1    1015\n",
              "0     997\n",
              "Name: Target, dtype: int64"
            ]
          },
          "metadata": {},
          "execution_count": 4
        }
      ]
    },
    {
      "cell_type": "markdown",
      "source": [
        "Step 3: Split into training & testing sets and Standardize:"
      ],
      "metadata": {
        "id": "0tCXSQ9dZp5W"
      }
    },
    {
      "cell_type": "code",
      "source": [
        "# Split the data into training and testing sets\n",
        "\n",
        "y = df['Target']\n",
        "X = df.drop('Target', axis=1)\n",
        "X_train, X_test, y_train, y_test = train_test_split(X, y, test_size=0.3, random_state=42)\n",
        "\n",
        "print(\"X_train shape:\", X_train.shape)\n",
        "print(\"y_train shape:\", y_train.shape)"
      ],
      "metadata": {
        "id": "DXVQKalFZZxM",
        "colab": {
          "base_uri": "https://localhost:8080/"
        },
        "outputId": "40aa644f-8f62-4d6e-b4be-758fb81abbc0"
      },
      "execution_count": null,
      "outputs": [
        {
          "output_type": "stream",
          "name": "stdout",
          "text": [
            "X_train shape: (1408, 15)\n",
            "y_train shape: (1408,)\n"
          ]
        }
      ]
    },
    {
      "cell_type": "code",
      "source": [
        "# Fit the standard scaler to the training data and transform both training and testing data\n",
        "scaler = StandardScaler()\n",
        "X_train_scaled = scaler.fit_transform(X_train)\n",
        "X_test_scaled = scaler.transform(X_test)\n",
        "\n",
        "print(\"Mean:\", X_test_scaled.mean(axis=0))\n",
        "print(\"Standard Deviation:\", X_test_scaled.std(axis=0))"
      ],
      "metadata": {
        "colab": {
          "base_uri": "https://localhost:8080/"
        },
        "id": "b45e0cYFSs1D",
        "outputId": "d96829c3-6f56-48a8-c202-8f4d11c4d981"
      },
      "execution_count": null,
      "outputs": [
        {
          "output_type": "stream",
          "name": "stdout",
          "text": [
            "Mean: [-1.50598998e-02 -4.39985727e-02 -3.74181888e-02  2.21015279e-02\n",
            " -1.04027655e-02  7.24970296e-02  4.27782610e-02  4.94624596e-02\n",
            " -8.96426544e-03  2.85692752e-02  2.22224732e-02  5.53884838e-02\n",
            " -4.20244770e-02  2.22044605e-16 -1.77635684e-15]\n",
            "Standard Deviation: [0.98977298 1.0009912  0.97598015 0.96421898 0.96137199 0.98457794\n",
            " 1.01310234 0.92629748 1.0020498  1.04394353 1.07212766 0.87707868\n",
            " 1.00608464 0.         0.        ]\n"
          ]
        }
      ]
    },
    {
      "cell_type": "markdown",
      "source": [
        "**Build a Baseline model using a simple Classification algorithm, such as the DummyClassifier in Scikit-learn.**\n",
        "This will serve as a reference point for comparing the performance of more advanced models."
      ],
      "metadata": {
        "id": "OjCmwZxBZ_Jh"
      }
    },
    {
      "cell_type": "markdown",
      "source": [
        "The DummyClassifier is a **simple** and **interpretable** baseline model that provides a performance benchmark for more advanced models. It can be particularly **useful in scenarios where simplicity and interpretability are valued, or when assessing the effectiveness of models in handling class imbalance**."
      ],
      "metadata": {
        "id": "v_HFecW8qGY2"
      }
    },
    {
      "cell_type": "markdown",
      "source": [
        "**The strategy parameter of the DummyClassifier determines how the predictions are made. In the case of strategy='most_frequent', the DummyClassifier always predicts the most frequent class in the training data.** This means that it ignores all the input features and simply predicts the class that occurs most frequently in the training data. The most_frequent strategy is useful as a baseline model for classification problems where the classes are imbalanced or one class is much more frequent than the others. It provides a simple and easy-to-implement model that sets a lower bound for the performance of more advanced models.\n",
        "\n",
        "**In the stratified dummy classifier strategy, the predictions are generated by randomly choosing the class based on the class distribution in the training data.** This ensures that the predictions are made based on similar classess as in the training data, which can provide a more realistic baseline for comparison with more advanced models.\n",
        "\n",
        "'uniform', 'stratified', 'prior', 'most_frequent', 'constant'"
      ],
      "metadata": {
        "id": "aMxWVzBaapHp"
      }
    },
    {
      "cell_type": "markdown",
      "source": [
        "Step 4: Using most frequent dummy classifier"
      ],
      "metadata": {
        "id": "IrLCZklyb6Sq"
      }
    },
    {
      "cell_type": "code",
      "source": [
        "dummy_clf = DummyClassifier(strategy='most_frequent')\n",
        "dummy_clf.fit(X_train, y_train)\n",
        "y_pred = dummy_clf.predict(X_test)\n",
        "print(y_pred)\n",
        "len(y_pred)"
      ],
      "metadata": {
        "id": "E3457UZTaCWF"
      },
      "execution_count": null,
      "outputs": []
    },
    {
      "cell_type": "markdown",
      "source": [
        "Using stratified dummy classifier:"
      ],
      "metadata": {
        "id": "6vH6o3UYaqy3"
      }
    },
    {
      "cell_type": "code",
      "source": [
        "# Create a dummy classifier with 'stratified' strategy\n",
        "dummy_clf = DummyClassifier(strategy='stratified', random_state=42)\n",
        "\n",
        "# Fit the dummy classifier to the training data\n",
        "dummy_clf.fit(X_train_scaled, y_train)\n",
        "\n",
        "# Make predictions on the testing data\n",
        "y_pred = dummy_clf.predict(X_test_scaled)"
      ],
      "metadata": {
        "id": "W6nuonUnb9Fy"
      },
      "execution_count": null,
      "outputs": []
    },
    {
      "cell_type": "markdown",
      "source": [
        "Let's view the output table of the actual class labels and the predicted class labels for each observation in the test to visualize the product of our model"
      ],
      "metadata": {
        "id": "jiJPpXqNiRux"
      }
    },
    {
      "cell_type": "code",
      "source": [
        "print(y_pred)\n"
      ],
      "metadata": {
        "colab": {
          "base_uri": "https://localhost:8080/"
        },
        "id": "c11xVh02jpK_",
        "outputId": "82a4f91c-7d32-4ab4-bc01-3bbd3156cf98"
      },
      "execution_count": null,
      "outputs": [
        {
          "output_type": "stream",
          "name": "stdout",
          "text": [
            "[0 1 1 1 0 0 0 1 1 1 0 1 1 0 0 0 0 1 0 0 1 0 0 0 0 1 0 1 1 0 1 0 0 1 1 1 0\n",
            " 0 1 0 0 0 0 1 0 1 0 1 1 0 1 1 1 1 1 1 0 0 0 0 0 0 1 0 0 1 0 1 0 1 1 0 0 1\n",
            " 1 1 1 0 0 0 1 1 0 0 0 0 1 1 1 0 0 1 1 1 1 0 1 0 0 0 0 1 0 1 1 0 0 1 0 0 0\n",
            " 0 1 1 1 1 1 0 1 1 1 1 0 0 0 0 1 1 0 1 0 0 0 0 1 0 1 1 0 1 1 0 0 0 0 0 1 0\n",
            " 0 0 1 0 0 0 1 0 1 1 0 1 0 1 1 1 0 1 0 0 0 1 1 0 1 0 1 0 1 0 1 0 0 0 1 1 0\n",
            " 1 1 1 1 0 0 1 1 1 0 0 1 1 1 1 1 0 0 1 1 0 0 1 0 0 1 1 1 0 1 0 0 1 1 1 1 1\n",
            " 0 0 0 0 1 0 1 1 1 0 1 0 0 1 0 0 1 0 1 1 1 0 0 1 0 1 1 1 0 0 1 0 0 1 1 1 1\n",
            " 0 1 1 0 1 1 1 1 1 0 0 1 1 1 1 1 0 1 1 1 1 1 0 0 0 1 0 0 1 0 1 0 0 1 0 0 1\n",
            " 1 0 1 0 0 1 1 1 1 1 1 0 1 0 0 0 0 1 1 1 0 0 0 0 1 1 1 0 1 1 1 1 0 0 0 1 0\n",
            " 0 0 0 1 1 0 0 0 0 0 0 0 1 1 0 0 1 1 1 1 0 0 1 0 1 1 1 0 1 0 1 1 0 1 1 0 0\n",
            " 0 0 0 1 0 0 1 0 1 0 0 1 1 1 1 1 0 0 1 1 1 0 0 1 0 1 1 0 1 1 0 1 1 1 0 1 0\n",
            " 0 1 0 0 1 1 1 1 0 0 0 1 1 1 1 0 0 0 1 0 1 0 0 0 1 1 0 0 1 0 1 1 0 0 1 0 0\n",
            " 1 1 1 1 0 0 1 1 0 1 0 0 0 0 0 0 0 1 1 1 1 0 0 1 0 1 0 1 0 1 1 1 0 1 1 1 1\n",
            " 1 0 1 1 1 0 0 1 1 0 1 0 0 0 0 1 0 1 1 1 1 0 1 1 0 1 1 1 1 1 0 1 1 0 0 0 1\n",
            " 1 0 1 0 1 1 1 0 0 0 0 1 1 1 1 1 1 1 1 0 0 0 1 1 0 1 1 0 0 1 1 1 1 1 1 1 1\n",
            " 0 0 0 1 1 1 0 0 0 0 1 0 0 1 0 1 1 0 1 1 1 0 1 0 0 0 1 0 0 1 0 0 0 0 0 0 1\n",
            " 0 0 1 0 1 0 0 0 0 0 0 0]\n"
          ]
        }
      ]
    },
    {
      "cell_type": "code",
      "source": [
        "# Create a new DataFrame with the actual and predicted labels\n",
        "results = pd.DataFrame({'Actual': y_test, 'Predicted': y_pred})\n",
        "\n",
        "# Display the first 10 rows of the results DataFrame\n",
        "print(results.head(10))"
      ],
      "metadata": {
        "id": "FXd9YpW8kpHm",
        "outputId": "28975388-a948-4646-fa4d-541a020dbe16",
        "colab": {
          "base_uri": "https://localhost:8080/"
        }
      },
      "execution_count": null,
      "outputs": [
        {
          "output_type": "stream",
          "name": "stdout",
          "text": [
            "      Actual  Predicted\n",
            "1317       0          0\n",
            "526        1          1\n",
            "393        1          1\n",
            "1405       0          1\n",
            "433        1          0\n",
            "576        1          0\n",
            "1089       0          0\n",
            "429        1          1\n",
            "611        1          1\n",
            "530        1          1\n"
          ]
        }
      ]
    },
    {
      "cell_type": "markdown",
      "source": [
        "Evaluate the model: Evaluate the performance of the baseline model using **Accuracy Score** and **Confusion Matrix**."
      ],
      "metadata": {
        "id": "d7dTvyKWcR1n"
      }
    },
    {
      "cell_type": "markdown",
      "source": [
        "This code calculates the accuracy score of the model using the accuracy_score function of Scikit-learn, and displays a confusion matrix using the confusion_matrix function and Seaborn's heatmap function."
      ],
      "metadata": {
        "id": "_mv_njRFcWlr"
      }
    },
    {
      "cell_type": "code",
      "source": [
        "accuracy = accuracy_score(y_test, y_pred)\n",
        "print('Accuracy:', accuracy)\n",
        "conf_matrix = confusion_matrix(y_test, y_pred)\n",
        "sns.heatmap(conf_matrix, annot=True, cmap='Blues', fmt='g')\n",
        "plt.xlabel('Predicted')\n",
        "plt.ylabel('Actual')\n",
        "plt.show()"
      ],
      "metadata": {
        "colab": {
          "base_uri": "https://localhost:8080/",
          "height": 466
        },
        "id": "FsTkhzAxcSrO",
        "outputId": "41c2514e-6ef3-4128-9df7-c126f7e54fdc"
      },
      "execution_count": null,
      "outputs": [
        {
          "output_type": "stream",
          "name": "stdout",
          "text": [
            "Accuracy: 0.48344370860927155\n"
          ]
        },
        {
          "output_type": "display_data",
          "data": {
            "text/plain": [
              "<Figure size 640x480 with 2 Axes>"
            ],
            "image/png": "[encoded data removed]"
          },
          "metadata": {}
        }
      ]
    },
    {
      "cell_type": "markdown",
      "source": [
        "A baseline model in theory should be about as accurate as predicting a coin toss. We have 48% accuracy on the test data using our baseline model."
      ],
      "metadata": {
        "id": "kbhFOYLCdOYH"
      }
    },
    {
      "cell_type": "markdown",
      "source": [
        "Accuracy alone can be misleading, especially if the classes are imbalanced. To get a more detailed view of the model's performance, we can look at the confusion matrix."
      ],
      "metadata": {
        "id": "_6jIPMzudks2"
      }
    },
    {
      "cell_type": "markdown",
      "source": [
        "The confusion matrix provides the counts of true positives (TP), false positives (FP), true negatives (TN), and false negatives (FN) for the model's predictions. Based on these counts, we can calculate precision, recall, and F1-score for the model.\n",
        "\n",
        "\n",
        "\n",
        "*   Precision: measures the fraction of true positives among all positive predictions. A high precision indicates that the model has a low rate of false positives.\n",
        "* Recall: measures the fraction of true positives among all actual positives. A high recall indicates that the model has a low rate of false negatives.\n",
        "* F1-score: a weighted harmonic mean of precision and recall, which can be useful for balancing the trade-off between precision and recall."
      ],
      "metadata": {
        "id": "N0BT73HBdpyO"
      }
    },
    {
      "cell_type": "code",
      "source": [
        "# Generate a confusion matrix for the predictions\n",
        "cm = confusion_matrix(y_test, y_pred)\n",
        "print(cm)\n",
        "\n",
        "# Calculate precision, recall, and F1-score\n",
        "precision = precision_score(y_test, y_pred)\n",
        "recall = recall_score(y_test, y_pred)\n",
        "f1 = f1_score(y_test, y_pred)\n",
        "print('Precision:', precision)\n",
        "print('Recall:', recall)\n",
        "print('F1-score:', f1)"
      ],
      "metadata": {
        "colab": {
          "base_uri": "https://localhost:8080/"
        },
        "id": "sr_AuabidQpy",
        "outputId": "da7d0c1a-3f39-450b-84fa-af7c2528564c"
      },
      "execution_count": null,
      "outputs": [
        {
          "output_type": "stream",
          "name": "stdout",
          "text": [
            "[[136 153]\n",
            " [159 156]]\n",
            "Precision: 0.5048543689320388\n",
            "Recall: 0.49523809523809526\n",
            "F1-score: 0.5\n"
          ]
        }
      ]
    },
    {
      "cell_type": "markdown",
      "source": [
        "**Interpretation of the confusion matrix & Conclusion:**\n",
        "\n",
        "1.    The precision score of 0.51 indicates that the model has a high rate of false positives, which means that it is incorrectly classifying many observations in class 0 as class 1.\n",
        "2.  The recall score of 0.50 indicates that the model has a balanced rate of false negatives. But that is still too many false negatives.\n",
        "\n",
        "\n"
      ],
      "metadata": {
        "id": "YunSD4GFeE49"
      }
    }
  ]
}