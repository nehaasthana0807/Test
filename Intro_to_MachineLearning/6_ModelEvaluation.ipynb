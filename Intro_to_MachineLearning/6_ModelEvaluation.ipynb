{
  "nbformat": 4,
  "nbformat_minor": 0,
  "metadata": {
    "colab": {
      "name": "Copy of Model evaluation colab.ipynb",
      "provenance": [],
      "collapsed_sections": []
    },
    "kernelspec": {
      "name": "python3",
      "display_name": "Python 3"
    }
  },
  "cells": [
    {
      "cell_type": "markdown",
      "metadata": {
        "id": "ay5-sm4rMWhX",
        "colab_type": "text"
      },
      "source": [
        "## Table of Contents\n",
        "Classification \n",
        "1. Building Random Forest\n",
        "2. Classification metric\n",
        "3. Handling Imbalance in data<br>\n",
        "\n",
        "Regression\n",
        "1. Building Linear Regression\n",
        "2. Loss function\n",
        "\n",
        "\n"
      ]
    },
    {
      "cell_type": "code",
      "metadata": {
        "id": "iRqcEldGlLaz",
        "colab_type": "code",
        "colab": {
          "base_uri": "https://localhost:8080/",
          "height": 138
        },
        "outputId": "f39ca93f-9ecf-4771-e53f-989734b07b49"
      },
      "source": [
        "import numpy as np\n",
        "import pandas as pd\n",
        "import seaborn as sns\n",
        "import matplotlib.pyplot as plt\n",
        "from pylab import *\n",
        "from imblearn import under_sampling, over_sampling\n",
        "from sklearn.ensemble import RandomForestClassifier\n",
        "from matplotlib.legend_handler import HandlerLine2D\n",
        "from sklearn.model_selection import train_test_split, StratifiedKFold, KFold, cross_val_score\n",
        "from sklearn import metrics\n",
        "from sklearn.preprocessing import LabelEncoder\n",
        "from sklearn.metrics import recall_score, precision_score, accuracy_score, f1_score,precision_recall_curve\n",
        "from sklearn.metrics import confusion_matrix,auc,roc_auc_score,roc_curve\n",
        "from sklearn import datasets\n",
        "from sklearn.linear_model import LinearRegression\n",
        "from sklearn.preprocessing import MinMaxScaler\n",
        "import warnings\n",
        "warnings.filterwarnings('ignore')"
      ],
      "execution_count": 1,
      "outputs": [
        {
          "output_type": "stream",
          "text": [
            "/usr/local/lib/python3.6/dist-packages/statsmodels/tools/_testing.py:19: FutureWarning: pandas.util.testing is deprecated. Use the functions in the public API at pandas.testing instead.\n",
            "  import pandas.util.testing as tm\n",
            "/usr/local/lib/python3.6/dist-packages/sklearn/externals/six.py:31: FutureWarning: The module is deprecated in version 0.21 and will be removed in version 0.23 since we've dropped support for Python 2.7. Please rely on the official version of six (https://pypi.org/project/six/).\n",
            "  \"(https://pypi.org/project/six/).\", FutureWarning)\n",
            "/usr/local/lib/python3.6/dist-packages/sklearn/utils/deprecation.py:144: FutureWarning: The sklearn.neighbors.base module is  deprecated in version 0.22 and will be removed in version 0.24. The corresponding classes / functions should instead be imported from sklearn.neighbors. Anything that cannot be imported from sklearn.neighbors is now part of the private API.\n",
            "  warnings.warn(message, FutureWarning)\n"
          ],
          "name": "stderr"
        }
      ]
    },
    {
      "cell_type": "markdown",
      "metadata": {
        "id": "NXDO7Ewp7bKM",
        "colab_type": "text"
      },
      "source": [
        "## Classification "
      ]
    },
    {
      "cell_type": "markdown",
      "metadata": {
        "id": "QFdifIzNt8Df",
        "colab_type": "text"
      },
      "source": [
        "Predict booking cancellation using Hotel booking data from kaggle"
      ]
    },
    {
      "cell_type": "code",
      "metadata": {
        "id": "YovzUi7h7h0h",
        "colab_type": "code",
        "colab": {}
      },
      "source": [
        "file_path = 'https://raw.githubusercontent.com/rfordatascience/tidytuesday/master/data/2020/2020-02-11/hotels.csv'\n",
        "data = pd.read_csv(file_path)"
      ],
      "execution_count": null,
      "outputs": []
    },
    {
      "cell_type": "code",
      "metadata": {
        "id": "wAG9MWIk7jlr",
        "colab_type": "code",
        "colab": {
          "base_uri": "https://localhost:8080/",
          "height": 265
        },
        "outputId": "0b27aa2c-287f-48e1-a885-09f2b80be649"
      },
      "source": [
        "data['is_canceled'].value_counts().plot(kind='pie',autopct='%1.1f%%')"
      ],
      "execution_count": null,
      "outputs": [
        {
          "output_type": "execute_result",
          "data": {
            "text/plain": [
              "<matplotlib.axes._subplots.AxesSubplot at 0x7f8ccdc6af60>"
            ]
          },
          "metadata": {
            "tags": []
          },
          "execution_count": 23
        },
        {
          "output_type": "display_data",
          "data": {
            "image/png": "[encoded data removed]",
            "text/plain": [
              "<Figure size 432x288 with 1 Axes>"
            ]
          },
          "metadata": {
            "tags": []
          }
        }
      ]
    },
    {
      "cell_type": "markdown",
      "metadata": {
        "id": "rkF3bB8t9XhE",
        "colab_type": "text"
      },
      "source": [
        "#### Create higher class imbalance"
      ]
    },
    {
      "cell_type": "code",
      "metadata": {
        "id": "OAMG3hm-1-E0",
        "colab_type": "code",
        "colab": {
          "base_uri": "https://localhost:8080/",
          "height": 265
        },
        "outputId": "f09af662-d3db-4210-d95c-25252db0e5a1"
      },
      "source": [
        "df_1 = data[data['is_canceled']==1].sample(frac=0.1,random_state=42)\n",
        "df_0=data[data['is_canceled']==0]\n",
        "df = df_0.append(df_1,ignore_index=True)\n",
        "df = df.sample(frac=1).reset_index(drop=True)\n",
        "df['is_canceled'].value_counts().plot(kind='pie',autopct='%1.1f%%')"
      ],
      "execution_count": null,
      "outputs": [
        {
          "output_type": "execute_result",
          "data": {
            "text/plain": [
              "<matplotlib.axes._subplots.AxesSubplot at 0x7f069d11abe0>"
            ]
          },
          "metadata": {
            "tags": []
          },
          "execution_count": 397
        },
        {
          "output_type": "display_data",
          "data": {
            "image/png": "[encoded data removed]",
            "text/plain": [
              "<Figure size 432x288 with 1 Axes>"
            ]
          },
          "metadata": {
            "tags": []
          }
        }
      ]
    },
    {
      "cell_type": "code",
      "metadata": {
        "id": "EbAFpAzrAoL6",
        "colab_type": "code",
        "colab": {}
      },
      "source": [
        "backup_df = df.copy()"
      ],
      "execution_count": null,
      "outputs": []
    },
    {
      "cell_type": "markdown",
      "metadata": {
        "id": "6jyverWN-y6Q",
        "colab_type": "text"
      },
      "source": [
        "<b> Feature Engineering </b>"
      ]
    },
    {
      "cell_type": "code",
      "metadata": {
        "id": "9szxo-CA9JHP",
        "colab_type": "code",
        "colab": {}
      },
      "source": [
        "# Fill null values with 0\n",
        "df = df.drop('company',axis=1)\n",
        "df=df.fillna(0)"
      ],
      "execution_count": null,
      "outputs": []
    },
    {
      "cell_type": "code",
      "metadata": {
        "id": "QkJsZ5JE_BGX",
        "colab_type": "code",
        "colab": {}
      },
      "source": [
        "# Drop features that have less significance \n",
        "df = df.drop('reservation_status_date',axis=1)\n",
        "df = df.drop('agent',axis=1)\n",
        "df = df.drop('country',axis=1)\n",
        "df = df.drop('previous_bookings_not_canceled',axis=1)\n",
        "df = df.drop('previous_cancellations',axis=1)\n",
        "df = df.drop([\"reservation_status\"],axis=1)"
      ],
      "execution_count": null,
      "outputs": []
    },
    {
      "cell_type": "code",
      "metadata": {
        "id": "XWWkPP3vAW1q",
        "colab_type": "code",
        "colab": {}
      },
      "source": [
        "# Generate new features\n",
        "df['total_days'] = df['stays_in_week_nights'] + df['stays_in_weekend_nights']\n",
        "df = df.drop('stays_in_week_nights',axis=1).drop('stays_in_weekend_nights',axis=1)\n",
        "\n",
        "df['total_customers'] = df['adults'] + df['children']+df['babies']\n",
        "df = df.drop('adults',axis=1).drop('children',axis=1).drop('babies',axis=1)"
      ],
      "execution_count": null,
      "outputs": []
    },
    {
      "cell_type": "code",
      "metadata": {
        "id": "ePiuo4A-A02r",
        "colab_type": "code",
        "colab": {
          "base_uri": "https://localhost:8080/",
          "height": 34
        },
        "outputId": "3ad26af2-be4c-489a-da90-1770ea91c34b"
      },
      "source": [
        "df.shape"
      ],
      "execution_count": null,
      "outputs": [
        {
          "output_type": "execute_result",
          "data": {
            "text/plain": [
              "(79588, 22)"
            ]
          },
          "metadata": {
            "tags": []
          },
          "execution_count": 401
        }
      ]
    },
    {
      "cell_type": "markdown",
      "metadata": {
        "id": "rRknTTtYBEou",
        "colab_type": "text"
      },
      "source": [
        "### Building Random Forest\n",
        "### Model 1"
      ]
    },
    {
      "cell_type": "code",
      "metadata": {
        "id": "HyAcKPS5BW5M",
        "colab_type": "code",
        "colab": {}
      },
      "source": [
        "# Split data into train and test set using stratified sampling\n",
        "train, test = train_test_split(df, test_size=0.3, stratify=df[\"is_canceled\"], random_state = 42)\n",
        "y_train = train[\"is_canceled\"]\n",
        "X_train = train.drop([\"is_canceled\"], axis=1)\n",
        "y_test = test[\"is_canceled\"]\n",
        "X_test = test.drop([\"is_canceled\"], axis=1)"
      ],
      "execution_count": null,
      "outputs": []
    },
    {
      "cell_type": "code",
      "metadata": {
        "id": "Sl1ZAe3YBNOr",
        "colab_type": "code",
        "colab": {
          "base_uri": "https://localhost:8080/",
          "height": 50
        },
        "outputId": "838d505f-4f56-47d4-8c2d-888ed7077613"
      },
      "source": [
        "print(train[train['is_canceled']==1].shape[0])\n",
        "print(test[test['is_canceled']==1].shape[0])"
      ],
      "execution_count": null,
      "outputs": [
        {
          "output_type": "stream",
          "text": [
            "3095\n",
            "1327\n"
          ],
          "name": "stdout"
        }
      ]
    },
    {
      "cell_type": "code",
      "metadata": {
        "id": "ykru0zE_C6Qc",
        "colab_type": "code",
        "colab": {}
      },
      "source": [
        "cat_cols=['hotel','arrival_date_month','arrival_date_year','meal','market_segment','distribution_channel','reserved_room_type', 'assigned_room_type',\\\n",
        "        'deposit_type','customer_type']\n",
        "X_train_enc = pd.get_dummies(data=X_train,columns=cat_cols,drop_first=True)\n",
        "X_test_enc = pd.get_dummies(data=X_test,columns=cat_cols,drop_first=True)\n",
        "X_train_enc,X_test_enc =X_train_enc.align(X_test_enc, join='left', axis=1)\n",
        "X_test_enc=X_test_enc.fillna(0)"
      ],
      "execution_count": null,
      "outputs": []
    },
    {
      "cell_type": "code",
      "metadata": {
        "id": "lqlq97nnA2IM",
        "colab_type": "code",
        "colab": {}
      },
      "source": [
        "rf=RandomForestClassifier(max_depth=10,n_estimators=20,random_state=24)\n",
        "rf.fit(X_train_enc,y_train)\n",
        "y_pred_rf=rf.predict(X_test_enc)\n",
        "y_pred_rf_train=rf.predict(X_train_enc)"
      ],
      "execution_count": null,
      "outputs": []
    },
    {
      "cell_type": "markdown",
      "metadata": {
        "id": "LHbOkAeufZPI",
        "colab_type": "text"
      },
      "source": [
        "### Evaluation Metric"
      ]
    },
    {
      "cell_type": "code",
      "metadata": {
        "id": "XrIxvSd0Dh-6",
        "colab_type": "code",
        "colab": {
          "base_uri": "https://localhost:8080/",
          "height": 50
        },
        "outputId": "de9173c3-7c37-4681-9339-f930c51ab8a2"
      },
      "source": [
        "# Using F1 score on train and test data prdiction we confirm the model is not overfit on training data\n",
        "print(\"Train data f1 score: \", f1_score(y_train,y_pred_rf_train))\n",
        "print(\"Test data f1 score: \", f1_score(y_test,y_pred_rf))"
      ],
      "execution_count": null,
      "outputs": [
        {
          "output_type": "stream",
          "text": [
            "Train data f1 score:  0.5080742347553627\n",
            "Test data f1 score:  0.5005649717514125\n"
          ],
          "name": "stdout"
        }
      ]
    },
    {
      "cell_type": "markdown",
      "metadata": {
        "id": "raP3Lcr6fdtZ",
        "colab_type": "text"
      },
      "source": [
        "<b>Accuracy"
      ]
    },
    {
      "cell_type": "code",
      "metadata": {
        "id": "Ko3eOof1DMuS",
        "colab_type": "code",
        "colab": {
          "base_uri": "https://localhost:8080/",
          "height": 34
        },
        "outputId": "cb4d8424-dbe5-4a23-9322-dfe461207260"
      },
      "source": [
        "print(\"accuracy score: \", accuracy_score(y_test,y_pred_rf))"
      ],
      "execution_count": null,
      "outputs": [
        {
          "output_type": "stream",
          "text": [
            "accuracy score:  0.962976923399087\n"
          ],
          "name": "stdout"
        }
      ]
    },
    {
      "cell_type": "markdown",
      "metadata": {
        "id": "V6vKnDDtfiX5",
        "colab_type": "text"
      },
      "source": [
        "<b>Precision Recall\n"
      ]
    },
    {
      "cell_type": "markdown",
      "metadata": {
        "id": "T2FNcoFoxhxR",
        "colab_type": "text"
      },
      "source": [
        "<img src=\"https://github.com/TejalPatted/Introduction_to_ML_worskshop/blob/master/img/PR%20diagram1.PNG?raw=1\" width=\"200p\"/>"
      ]
    },
    {
      "cell_type": "markdown",
      "metadata": {
        "id": "-cB1yiG9xjQW",
        "colab_type": "text"
      },
      "source": [
        "<img src=\"https://github.com/TejalPatted/Introduction_to_ML_worskshop/blob/master/img/PR%20diagram%202.PNG?raw=1\" width=\"400\"/>"
      ]
    },
    {
      "cell_type": "code",
      "metadata": {
        "id": "b8dfOExIFV33",
        "colab_type": "code",
        "colab": {
          "base_uri": "https://localhost:8080/",
          "height": 50
        },
        "outputId": "91013929-afea-4323-89be-052a9b183a85"
      },
      "source": [
        "# Recall = TP / (TP + FN)\n",
        "# Precision = TP / (TP + FP)\n",
        "print(\"recall score: \", recall_score(y_test,y_pred_rf))\n",
        "print(\"precision score: \", precision_score(y_test,y_pred_rf))"
      ],
      "execution_count": null,
      "outputs": [
        {
          "output_type": "stream",
          "text": [
            "recall score:  0.333835719668425\n",
            "precision score:  1.0\n"
          ],
          "name": "stdout"
        }
      ]
    },
    {
      "cell_type": "markdown",
      "metadata": {
        "id": "gE-v2_NpfUPL",
        "colab_type": "text"
      },
      "source": [
        "<b>Confusion Matrix"
      ]
    },
    {
      "cell_type": "code",
      "metadata": {
        "id": "-uzh6Fr6Fnhp",
        "colab_type": "code",
        "colab": {
          "base_uri": "https://localhost:8080/",
          "height": 67
        },
        "outputId": "c8b7174c-e8e1-48f7-9861-ac9d05c15a8e"
      },
      "source": [
        "# Predicted Label vs Actual label\n",
        "#   N    P \n",
        "# N [TN  FP]\n",
        "# P [FN  TP]\n",
        "print('test-set confusion matrix:\\n', confusion_matrix(y_test,y_pred_rf)) "
      ],
      "execution_count": null,
      "outputs": [
        {
          "output_type": "stream",
          "text": [
            "test-set confusion matrix:\n",
            " [[22550     0]\n",
            " [  884   443]]\n"
          ],
          "name": "stdout"
        }
      ]
    },
    {
      "cell_type": "code",
      "metadata": {
        "id": "NwvTu-62Qle2",
        "colab_type": "code",
        "colab": {
          "base_uri": "https://localhost:8080/",
          "height": 34
        },
        "outputId": "71982598-6581-4f09-b5ab-b14d615674e9"
      },
      "source": [
        "tn, fp, fn, tp = confusion_matrix(y_test,y_pred_rf).ravel()\n",
        "(tn, fp, fn, tp)"
      ],
      "execution_count": null,
      "outputs": [
        {
          "output_type": "execute_result",
          "data": {
            "text/plain": [
              "(22550, 0, 884, 443)"
            ]
          },
          "metadata": {
            "tags": []
          },
          "execution_count": 410
        }
      ]
    },
    {
      "cell_type": "markdown",
      "metadata": {
        "id": "kSB-l3BVfQyw",
        "colab_type": "text"
      },
      "source": [
        "<b>ROC curve"
      ]
    },
    {
      "cell_type": "markdown",
      "metadata": {
        "id": "bZ2pnL2RxoHm",
        "colab_type": "text"
      },
      "source": [
        "<img src=\"https://github.com/TejalPatted/Introduction_to_ML_worskshop/blob/master/img/ROC_curve.png?raw=1\" width=\"400\"/>"
      ]
    },
    {
      "cell_type": "code",
      "metadata": {
        "id": "UqJfSg6WHFv6",
        "colab_type": "code",
        "colab": {
          "base_uri": "https://localhost:8080/",
          "height": 530
        },
        "outputId": "e6adda15-5ea3-4620-f8c2-70b4b7afb5c3"
      },
      "source": [
        "# TPR = Recall = TP / (TP + FN)\n",
        "# FPR = FP / (FP + TN)\n",
        "y_prob_rf = rf.predict_proba(X_test_enc)\n",
        "false_positive_rateRF, true_positive_rateRF, thresholdRF = roc_curve(y_test, y_prob_rf[:,1])\n",
        "roc_aucRF = auc(false_positive_rateRF, true_positive_rateRF)\n",
        "plt.figure(figsize = (8,8))\n",
        "plt.title('Receiver Operating Characteristic')\n",
        "plt.plot(false_positive_rateRF, true_positive_rateRF, color = 'green', label = 'RF AUC = %0.2f' % roc_aucRF)\n",
        "plt.legend(loc = 'lower right')\n",
        "plt.plot([0, 1], [0, 1], linestyle = '--')\n",
        "plt.axis('tight')\n",
        "plt.ylabel('True Positive Rate')\n",
        "plt.xlabel('False Positive Rate')"
      ],
      "execution_count": null,
      "outputs": [
        {
          "output_type": "execute_result",
          "data": {
            "text/plain": [
              "Text(0.5, 0, 'False Positive Rate')"
            ]
          },
          "metadata": {
            "tags": []
          },
          "execution_count": 411
        },
        {
          "output_type": "display_data",
          "data": {
            "image/png": "[encoded data removed]",
            "text/plain": [
              "<Figure size 576x576 with 1 Axes>"
            ]
          },
          "metadata": {
            "tags": [],
            "needs_background": "light"
          }
        }
      ]
    },
    {
      "cell_type": "markdown",
      "metadata": {
        "id": "i7pc8SbDfHs9",
        "colab_type": "text"
      },
      "source": [
        "<b>Precision Recall Curve"
      ]
    },
    {
      "cell_type": "markdown",
      "metadata": {
        "id": "2oiy9dLGyo0K",
        "colab_type": "text"
      },
      "source": [
        "<img src=\"https://github.com/TejalPatted/Introduction_to_ML_worskshop/blob/master/img/PR_curve.png?raw=1\" width=\"400\"/>"
      ]
    },
    {
      "cell_type": "code",
      "metadata": {
        "id": "TIoctIPxK8N5",
        "colab_type": "code",
        "colab": {
          "base_uri": "https://localhost:8080/",
          "height": 580
        },
        "outputId": "92200866-f31e-440b-d235-99f235bf7140"
      },
      "source": [
        "y_prob_rf = rf.predict_proba(X_test_enc)\n",
        "precision_rf, recall_rf, thresholds = precision_recall_curve(y_test, y_prob_rf[:,1])\n",
        "pr_aucRF = auc(recall_rf, precision_rf)\n",
        "plt.figure(figsize = (8,8))\n",
        "plt.title('Precision Recall Curve')\n",
        "plt.plot(recall_rf, precision_rf, color = 'red', label = 'PR AUC = %0.2f' % pr_aucRF)\n",
        "plt.legend(loc = 'lower right')\n",
        "\n",
        "# no_skill = Count of P / Total count\n",
        "no_skill = len(y_test[y_test==1]) / len(y_test)\n",
        "plt.plot([0, 1],  [no_skill, no_skill], linestyle = '--')\n",
        "\n",
        "# Get best threshold\n",
        "# convert to f score\n",
        "fscore = (2 * precision_rf * recall_rf) / (precision_rf + recall_rf)\n",
        "# locate the index of the largest f score\n",
        "ix = argmax(fscore)\n",
        "print('Best Threshold=%f, F-Score=%.3f' % (thresholds[ix], fscore[ix]))\n",
        "print('\\n')\n",
        "plt.plot(recall_rf[ix], precision_rf[ix], marker='o', color='black', label='Best')\n",
        "\n",
        "plt.axis('tight')\n",
        "plt.ylabel('Precision')\n",
        "plt.xlabel('Recall')"
      ],
      "execution_count": null,
      "outputs": [
        {
          "output_type": "stream",
          "text": [
            "Best Threshold=0.143994, F-Score=0.535\n",
            "\n",
            "\n"
          ],
          "name": "stdout"
        },
        {
          "output_type": "execute_result",
          "data": {
            "text/plain": [
              "Text(0.5, 0, 'Recall')"
            ]
          },
          "metadata": {
            "tags": []
          },
          "execution_count": 412
        },
        {
          "output_type": "display_data",
          "data": {
            "image/png": "[encoded data removed]",
            "text/plain": [
              "<Figure size 576x576 with 1 Axes>"
            ]
          },
          "metadata": {
            "tags": [],
            "needs_background": "light"
          }
        }
      ]
    },
    {
      "cell_type": "markdown",
      "metadata": {
        "id": "913qAoENx-I-",
        "colab_type": "text"
      },
      "source": [
        "<b> Evaluation using K fold cross validation"
      ]
    },
    {
      "cell_type": "code",
      "metadata": {
        "id": "uiB1w_Ksy5NC",
        "colab_type": "code",
        "colab": {}
      },
      "source": [
        "y = df[\"is_canceled\"]\n",
        "X = df.drop([\"is_canceled\"], axis=1)"
      ],
      "execution_count": null,
      "outputs": []
    },
    {
      "cell_type": "code",
      "metadata": {
        "id": "dm33cuzCyCdG",
        "colab_type": "code",
        "colab": {
          "base_uri": "https://localhost:8080/",
          "height": 101
        },
        "outputId": "0fd1b2b0-2f4f-4d00-d042-c596f560f9d8"
      },
      "source": [
        "from sklearn.model_selection import KFold\n",
        "kfold = KFold(n_splits=5, shuffle=True, random_state=1)\n",
        "for train_ix, test_ix in kfold.split(X):\n",
        "\t# select rows\n",
        "\ttrain_X, test_X = X.iloc[train_ix], X.iloc[test_ix]\n",
        "\ttrain_y, test_y = y.iloc[train_ix], y.iloc[test_ix]\n",
        "\t# summarize train and test composition\n",
        "\ttrain_0, train_1 = len(train_y[train_y==0]), len(train_y[train_y==1])\n",
        "\ttest_0, test_1 = len(test_y[test_y==0]), len(test_y[test_y==1])\n",
        "\tprint('>Train: 0=%d, 1=%d, Test: 0=%d, 1=%d' % (train_0, train_1, test_0, test_1))"
      ],
      "execution_count": null,
      "outputs": [
        {
          "output_type": "stream",
          "text": [
            ">Train: 0=60137, 1=3533, Test: 0=15029, 1=889\n",
            ">Train: 0=60144, 1=3526, Test: 0=15022, 1=896\n",
            ">Train: 0=60115, 1=3555, Test: 0=15051, 1=867\n",
            ">Train: 0=60154, 1=3517, Test: 0=15012, 1=905\n",
            ">Train: 0=60114, 1=3557, Test: 0=15052, 1=865\n"
          ],
          "name": "stdout"
        }
      ]
    },
    {
      "cell_type": "code",
      "metadata": {
        "id": "47ltcuGe0vCD",
        "colab_type": "code",
        "colab": {
          "base_uri": "https://localhost:8080/",
          "height": 101
        },
        "outputId": "7225e092-7672-4a4b-ff00-97245c319131"
      },
      "source": [
        "kfold = StratifiedKFold(n_splits=5, shuffle=True, random_state=1)\n",
        "for train_ix, test_ix in kfold.split(X,y):\n",
        "\t# select rows\n",
        "\ttrain_X, test_X = X.iloc[train_ix], X.iloc[test_ix]\n",
        "\ttrain_y, test_y = y.iloc[train_ix], y.iloc[test_ix]\n",
        "\t# summarize train and test composition\n",
        "\ttrain_0, train_1 = len(train_y[train_y==0]), len(train_y[train_y==1])\n",
        "\ttest_0, test_1 = len(test_y[test_y==0]), len(test_y[test_y==1])\n",
        "\tprint('>Train: 0=%d, 1=%d, Test: 0=%d, 1=%d' % (train_0, train_1, test_0, test_1))"
      ],
      "execution_count": null,
      "outputs": [
        {
          "output_type": "stream",
          "text": [
            ">Train: 0=60132, 1=3538, Test: 0=15034, 1=884\n",
            ">Train: 0=60133, 1=3537, Test: 0=15033, 1=885\n",
            ">Train: 0=60133, 1=3537, Test: 0=15033, 1=885\n",
            ">Train: 0=60133, 1=3538, Test: 0=15033, 1=884\n",
            ">Train: 0=60133, 1=3538, Test: 0=15033, 1=884\n"
          ],
          "name": "stdout"
        }
      ]
    },
    {
      "cell_type": "code",
      "metadata": {
        "id": "x92F2JuycYuQ",
        "colab_type": "code",
        "colab": {}
      },
      "source": [
        "cat_cols=['hotel','arrival_date_month','arrival_date_year','meal','market_segment','distribution_channel','reserved_room_type', 'assigned_room_type',\\\n",
        "        'deposit_type','customer_type']\n",
        "X_enc = pd.get_dummies(data=X,columns=cat_cols,drop_first=True)"
      ],
      "execution_count": null,
      "outputs": []
    },
    {
      "cell_type": "code",
      "metadata": {
        "id": "b5MKzAl5azDU",
        "colab_type": "code",
        "colab": {
          "base_uri": "https://localhost:8080/",
          "height": 50
        },
        "outputId": "dc1b8e41-0a95-4e55-ce0c-25c552be9b42"
      },
      "source": [
        "scores = cross_val_score(rf, X_enc, y, cv = 5, scoring='f1')\n",
        "print(scores)\n",
        "print(np.mean(scores))"
      ],
      "execution_count": null,
      "outputs": [
        {
          "output_type": "stream",
          "text": [
            "[0.50253807 0.46753247 0.51715481 0.49017933 0.51802179]\n",
            "0.49908529560274717\n"
          ],
          "name": "stdout"
        }
      ]
    },
    {
      "cell_type": "markdown",
      "metadata": {
        "id": "y8VAOSRBTxqC",
        "colab_type": "text"
      },
      "source": [
        "### Model 2 - using Class weight"
      ]
    },
    {
      "cell_type": "code",
      "metadata": {
        "id": "PXN_llo4AaOn",
        "colab_type": "code",
        "colab": {}
      },
      "source": [
        "cat_cols=['hotel','arrival_date_month','arrival_date_year','meal','market_segment','distribution_channel','reserved_room_type', 'assigned_room_type',\\\n",
        "        'deposit_type','customer_type']\n",
        "X_train_enc = pd.get_dummies(data=X_train,columns=cat_cols,drop_first=True)\n",
        "X_test_enc = pd.get_dummies(data=X_test,columns=cat_cols,drop_first=True)\n",
        "X_train_enc,X_test_enc =X_train_enc.align(X_test_enc, join='left', axis=1)\n",
        "X_test_enc=X_test_enc.fillna(0)"
      ],
      "execution_count": null,
      "outputs": []
    },
    {
      "cell_type": "code",
      "metadata": {
        "colab_type": "code",
        "id": "nGP60RJqDbTU",
        "colab": {
          "base_uri": "https://localhost:8080/",
          "height": 50
        },
        "outputId": "c20353ed-4814-4290-fc21-a8c501a4a4b4"
      },
      "source": [
        "rf2=RandomForestClassifier(max_depth=10,n_estimators=20,class_weight={0:3,1:7}, random_state=24)\n",
        "rf2.fit(X_train_enc,y_train)\n",
        "y_pred_rf2_train=rf2.predict(X_train_enc)\n",
        "print(\"Train data f1 score: \", f1_score(y_train,y_pred_rf2_train))\n",
        "y_pred_rf2=rf2.predict(X_test_enc)\n",
        "print(\"Test data f1 score: \", f1_score(y_test,y_pred_rf2))"
      ],
      "execution_count": null,
      "outputs": [
        {
          "output_type": "stream",
          "text": [
            "Train data f1 score:  0.5113035113035114\n",
            "Test data f1 score:  0.5073115860517434\n"
          ],
          "name": "stdout"
        }
      ]
    },
    {
      "cell_type": "code",
      "metadata": {
        "colab_type": "code",
        "id": "T3wY1adhUXb5",
        "colab": {
          "base_uri": "https://localhost:8080/",
          "height": 580
        },
        "outputId": "d8853919-e740-4ed0-b70f-020f1e8fb5d8"
      },
      "source": [
        "y_prob_rf2 = rf2.predict_proba(X_test_enc)\n",
        "precision_rf, recall_rf, thresholds = precision_recall_curve(y_test, y_prob_rf2[:,1])\n",
        "pr_aucRF = auc(recall_rf, precision_rf)\n",
        "plt.figure(figsize = (8,8))\n",
        "plt.title('Precision Recall Curve')\n",
        "plt.plot(recall_rf, precision_rf, color = 'red', label = 'PR AUC = %0.2f' % pr_aucRF)\n",
        "plt.legend(loc = 'lower right')\n",
        "\n",
        "# no_skill = Count of P / Total count\n",
        "no_skill = len(y_test[y_test==1]) / len(y_test)\n",
        "plt.plot([0, 1],  [no_skill, no_skill], linestyle = '--')\n",
        "\n",
        "# Get best threshold\n",
        "# convert to f score\n",
        "fscore = (2 * precision_rf * recall_rf) / (precision_rf + recall_rf)\n",
        "# locate the index of the largest f score\n",
        "ix = argmax(fscore)\n",
        "print('Best Threshold=%f, F-Score=%.3f' % (thresholds[ix], fscore[ix]))\n",
        "print('\\n')\n",
        "plt.plot(recall_rf[ix], precision_rf[ix], marker='o', color='black', label='Best')\n",
        "\n",
        "plt.axis('tight')\n",
        "plt.ylabel('Precision')\n",
        "plt.xlabel('Recall')"
      ],
      "execution_count": null,
      "outputs": [
        {
          "output_type": "stream",
          "text": [
            "Best Threshold=0.248079, F-Score=0.530\n",
            "\n",
            "\n"
          ],
          "name": "stdout"
        },
        {
          "output_type": "execute_result",
          "data": {
            "text/plain": [
              "Text(0.5, 0, 'Recall')"
            ]
          },
          "metadata": {
            "tags": []
          },
          "execution_count": 420
        },
        {
          "output_type": "display_data",
          "data": {
            "image/png": "[encoded data removed]",
            "text/plain": [
              "<Figure size 576x576 with 1 Axes>"
            ]
          },
          "metadata": {
            "tags": [],
            "needs_background": "light"
          }
        }
      ]
    },
    {
      "cell_type": "markdown",
      "metadata": {
        "id": "1yDteS3DZsiO",
        "colab_type": "text"
      },
      "source": [
        "### Random Oversampling Minority class"
      ]
    },
    {
      "cell_type": "markdown",
      "metadata": {
        "id": "m3vMcXgl7gKO",
        "colab_type": "text"
      },
      "source": [
        "Over sampling, Under sampling and SMOTE are methods from imblearn package<br>\n",
        "**Note**: Apply the method on Train set and not the full data"
      ]
    },
    {
      "cell_type": "code",
      "metadata": {
        "id": "URhjH-m7Uc4I",
        "colab_type": "code",
        "colab": {}
      },
      "source": [
        "feat=list(X_train.columns)\n",
        "oversample = over_sampling.RandomOverSampler(sampling_strategy=0.2)\n",
        "X_over, y_over = oversample.fit_resample(X_train, y_train)\n",
        "X_over_df = pd.DataFrame(data=X_over,columns=feat)\n",
        "y_over_df = pd.DataFrame(data=y_over,columns=['is_canceled'])"
      ],
      "execution_count": null,
      "outputs": []
    },
    {
      "cell_type": "code",
      "metadata": {
        "id": "v-kmHkxknRDi",
        "colab_type": "code",
        "colab": {
          "base_uri": "https://localhost:8080/",
          "height": 134
        },
        "outputId": "860e8f4f-95da-4ee3-d3ed-3cb63681a85f"
      },
      "source": [
        "print('Before oversampling')\n",
        "print('Class 1 samples --> ',y_train[y_train==1].shape[0])\n",
        "print('Class 0 samples --> ', y_train[y_train==0].shape[0])\n",
        "\n",
        "print('\\nAfter oversampling')\n",
        "print('Class 1 samples --> ',y_over[y_over==1].shape[0])\n",
        "print('Class 0 samples --> ', y_over[y_over==0].shape[0])\n"
      ],
      "execution_count": null,
      "outputs": [
        {
          "output_type": "stream",
          "text": [
            "Before oversampling\n",
            "Class 1 samples -->  3095\n",
            "Class 0 samples -->  52616\n",
            "\n",
            "After oversampling\n",
            "Class 1 samples -->  10523\n",
            "Class 0 samples -->  52616\n"
          ],
          "name": "stdout"
        }
      ]
    },
    {
      "cell_type": "code",
      "metadata": {
        "id": "Ir5MGvLNu0Kw",
        "colab_type": "code",
        "colab": {}
      },
      "source": [
        "cat_cols=['hotel','arrival_date_month','arrival_date_year','meal','market_segment','distribution_channel','reserved_room_type', 'assigned_room_type',\\\n",
        "        'deposit_type','customer_type']\n",
        "X_train_enc = pd.get_dummies(data=X_over_df,columns=cat_cols,drop_first=True)\n",
        "X_test_enc = pd.get_dummies(data=X_test,columns=cat_cols,drop_first=True)\n",
        "X_train_enc,X_test_enc =X_train_enc.align(X_test_enc, join='left', axis=1)\n",
        "X_test_enc=X_test_enc.fillna(0)"
      ],
      "execution_count": null,
      "outputs": []
    },
    {
      "cell_type": "code",
      "metadata": {
        "id": "h94Lc9FDmWsQ",
        "colab_type": "code",
        "colab": {
          "base_uri": "https://localhost:8080/",
          "height": 50
        },
        "outputId": "6fcc85a1-eeec-4140-91b2-558b390b98bd"
      },
      "source": [
        "rf3=RandomForestClassifier(max_depth=12,n_estimators=20,random_state=24)\n",
        "rf3.fit(X_train_enc,y_over_df)\n",
        "y_pred_rf3_train=rf3.predict(X_train_enc)\n",
        "print(\"Train data f1 score: \", f1_score(y_over_df,y_pred_rf3_train))\n",
        "y_pred_rf3=rf3.predict(X_test_enc)\n",
        "print(\"Test data f1 score: \", f1_score(y_test,y_pred_rf3))"
      ],
      "execution_count": null,
      "outputs": [
        {
          "output_type": "stream",
          "text": [
            "Train data f1 score:  0.5479754431951438\n",
            "Test data f1 score:  0.5200445434298441\n"
          ],
          "name": "stdout"
        }
      ]
    },
    {
      "cell_type": "code",
      "metadata": {
        "colab_type": "code",
        "id": "ZOzTllj1l_MB",
        "colab": {
          "base_uri": "https://localhost:8080/",
          "height": 580
        },
        "outputId": "e9873dca-afea-4c01-b847-98a536a57893"
      },
      "source": [
        "y_prob_rf3 = rf3.predict_proba(X_test_enc)\n",
        "precision_rf, recall_rf, thresholds = precision_recall_curve(y_test, y_prob_rf3[:,1])\n",
        "pr_aucRF = auc(recall_rf, precision_rf)\n",
        "plt.figure(figsize = (8,8))\n",
        "plt.title('Precision Recall Curve')\n",
        "plt.plot(recall_rf, precision_rf, color = 'red', label = 'PR AUC = %0.2f' % pr_aucRF)\n",
        "plt.legend(loc = 'lower right')\n",
        "\n",
        "# no_skill = Count of P / Total count\n",
        "no_skill = len(y_test[y_test==1]) / len(y_test)\n",
        "plt.plot([0, 1],  [no_skill, no_skill], linestyle = '--')\n",
        "\n",
        "# Get best threshold\n",
        "# convert to f score\n",
        "fscore = (2 * precision_rf * recall_rf) / (precision_rf + recall_rf)\n",
        "# locate the index of the largest f score\n",
        "ix = argmax(fscore)\n",
        "print('Best Threshold=%f, F-Score=%.3f' % (thresholds[ix], fscore[ix]))\n",
        "print('\\n')\n",
        "plt.plot(recall_rf[ix], precision_rf[ix], marker='o', color='black', label='Best')\n",
        "\n",
        "plt.axis('tight')\n",
        "plt.ylabel('Precision')\n",
        "plt.xlabel('Recall')"
      ],
      "execution_count": null,
      "outputs": [
        {
          "output_type": "stream",
          "text": [
            "Best Threshold=0.382528, F-Score=0.549\n",
            "\n",
            "\n"
          ],
          "name": "stdout"
        },
        {
          "output_type": "execute_result",
          "data": {
            "text/plain": [
              "Text(0.5, 0, 'Recall')"
            ]
          },
          "metadata": {
            "tags": []
          },
          "execution_count": 425
        },
        {
          "output_type": "display_data",
          "data": {
            "image/png": "[encoded data removed]",
            "text/plain": [
              "<Figure size 576x576 with 1 Axes>"
            ]
          },
          "metadata": {
            "tags": [],
            "needs_background": "light"
          }
        }
      ]
    },
    {
      "cell_type": "markdown",
      "metadata": {
        "id": "UT6Plr0vm6ki",
        "colab_type": "text"
      },
      "source": [
        "### Random Undersampling Majority class"
      ]
    },
    {
      "cell_type": "code",
      "metadata": {
        "id": "wTpm-hXwmDJW",
        "colab_type": "code",
        "colab": {}
      },
      "source": [
        "feat = list(X_train.columns)\n",
        "undersample = under_sampling.RandomUnderSampler(sampling_strategy=0.2)\n",
        "X_under, y_under = undersample.fit_resample(X_train, y_train)\n",
        "X_under_df = pd.DataFrame(data=X_under,columns=feat)\n",
        "y_under_df = pd.DataFrame(data=y_under,columns=['is_canceled'])\n",
        "df_under_sample = pd.concat([X_under_df, y_under_df], axis=1, sort=False)"
      ],
      "execution_count": null,
      "outputs": []
    },
    {
      "cell_type": "code",
      "metadata": {
        "id": "qvIHtpvon86m",
        "colab_type": "code",
        "colab": {
          "base_uri": "https://localhost:8080/",
          "height": 134
        },
        "outputId": "a40e4e10-e7c3-4b69-c8a5-794da97da0c2"
      },
      "source": [
        "print('Before undersampling')\n",
        "print('Class 1 samples --> ',y_train[y_train==1].shape[0])\n",
        "print('Class 0 samples --> ', y_train[y_train==0].shape[0])\n",
        "\n",
        "print('\\nAfter undersampling')\n",
        "print('Class 1 samples --> ',y_under[y_under==1].shape[0])\n",
        "print('Class 0 samples --> ', y_under[y_under==0].shape[0])"
      ],
      "execution_count": null,
      "outputs": [
        {
          "output_type": "stream",
          "text": [
            "Before undersampling\n",
            "Class 1 samples -->  3095\n",
            "Class 0 samples -->  52616\n",
            "\n",
            "After undersampling\n",
            "Class 1 samples -->  3095\n",
            "Class 0 samples -->  15475\n"
          ],
          "name": "stdout"
        }
      ]
    },
    {
      "cell_type": "code",
      "metadata": {
        "id": "e5TKXzXZezA4",
        "colab_type": "code",
        "colab": {}
      },
      "source": [
        "cat_cols=['hotel','arrival_date_month','arrival_date_year','meal','market_segment','distribution_channel','reserved_room_type', 'assigned_room_type',\\\n",
        "        'deposit_type','customer_type']\n",
        "X_train_enc = pd.get_dummies(data=X_under_df,columns=cat_cols,drop_first=True)\n",
        "X_test_enc = pd.get_dummies(data=X_test,columns=cat_cols,drop_first=True)\n",
        "X_train_enc,X_test_enc =X_train_enc.align(X_test_enc, join='left', axis=1)\n",
        "X_test_enc=X_test_enc.fillna(0)"
      ],
      "execution_count": null,
      "outputs": []
    },
    {
      "cell_type": "code",
      "metadata": {
        "id": "ZXGwSReBrUt5",
        "colab_type": "code",
        "colab": {
          "base_uri": "https://localhost:8080/",
          "height": 50
        },
        "outputId": "bd8efb2e-e2c2-49a0-8c17-78139f7e2069"
      },
      "source": [
        "rf4=RandomForestClassifier(max_depth=10,n_estimators=20,random_state=24)\n",
        "rf4.fit(X_train_enc,y_under_df)\n",
        "y_pred_rf4_train=rf4.predict(X_train_enc)\n",
        "print(\"Train data f1 score: \", f1_score(y_under_df,y_pred_rf4_train))\n",
        "y_pred_rf4=rf4.predict(X_test_enc)\n",
        "print(\"Test data f1 score: \", f1_score(y_test,y_pred_rf4))"
      ],
      "execution_count": null,
      "outputs": [
        {
          "output_type": "stream",
          "text": [
            "Train data f1 score:  0.5123768324921893\n",
            "Test data f1 score:  0.5137101287073308\n"
          ],
          "name": "stdout"
        }
      ]
    },
    {
      "cell_type": "code",
      "metadata": {
        "colab_type": "code",
        "id": "BcoeZI-3r3Wz",
        "colab": {
          "base_uri": "https://localhost:8080/",
          "height": 580
        },
        "outputId": "45e4c5ab-6d2c-45b9-9e6b-6f29946b6206"
      },
      "source": [
        "y_prob_rf4 = rf4.predict_proba(X_test_enc)\n",
        "precision_rf, recall_rf, thresholds = precision_recall_curve(y_test, y_prob_rf4[:,1])\n",
        "pr_aucRF = auc(recall_rf, precision_rf)\n",
        "plt.figure(figsize = (8,8))\n",
        "plt.title('Precision Recall Curve')\n",
        "plt.plot(recall_rf, precision_rf, color = 'red', label = 'PR AUC = %0.2f' % pr_aucRF)\n",
        "plt.legend(loc = 'lower right')\n",
        "\n",
        "# no_skill = Count of P / Total count\n",
        "no_skill = len(y_test[y_test==1]) / len(y_test)\n",
        "plt.plot([0, 1],  [no_skill, no_skill], linestyle = '--')\n",
        "\n",
        "# Get best threshold\n",
        "# convert to f score\n",
        "fscore = (2 * precision_rf * recall_rf) / (precision_rf + recall_rf)\n",
        "# locate the index of the largest f score\n",
        "ix = argmax(fscore)\n",
        "print('Best Threshold=%f, F-Score=%.3f' % (thresholds[ix], fscore[ix]))\n",
        "print('\\n')\n",
        "plt.plot(recall_rf[ix], precision_rf[ix], marker='o', color='black', label='Best')\n",
        "\n",
        "plt.axis('tight')\n",
        "plt.ylabel('Precision')\n",
        "plt.xlabel('Recall')"
      ],
      "execution_count": null,
      "outputs": [
        {
          "output_type": "stream",
          "text": [
            "Best Threshold=0.348586, F-Score=0.540\n",
            "\n",
            "\n"
          ],
          "name": "stdout"
        },
        {
          "output_type": "execute_result",
          "data": {
            "text/plain": [
              "Text(0.5, 0, 'Recall')"
            ]
          },
          "metadata": {
            "tags": []
          },
          "execution_count": 430
        },
        {
          "output_type": "display_data",
          "data": {
            "image/png": "[encoded data removed]",
            "text/plain": [
              "<Figure size 576x576 with 1 Axes>"
            ]
          },
          "metadata": {
            "tags": [],
            "needs_background": "light"
          }
        }
      ]
    },
    {
      "cell_type": "markdown",
      "metadata": {
        "id": "EfHbJsJztFDZ",
        "colab_type": "text"
      },
      "source": [
        "### Oversampling with SMOTE"
      ]
    },
    {
      "cell_type": "markdown",
      "metadata": {
        "id": "R6mKcsLA9xiH",
        "colab_type": "text"
      },
      "source": [
        "Original Paper on SMOTE - \"*SMOTE: synthetic minority over-sampling technique*\" by N. V. Chawla, K. W. Bowyer, L. O.Hall, W. P. Kegelmeyer"
      ]
    },
    {
      "cell_type": "code",
      "metadata": {
        "id": "826rckKeUDm2",
        "colab_type": "code",
        "colab": {}
      },
      "source": [
        "feat = list(X_train.columns)\n",
        "undersample = under_sampling.RandomUnderSampler(sampling_strategy=0.1)\n",
        "X_under, y_under = undersample.fit_resample(X_train, y_train)\n",
        "X_under_df = pd.DataFrame(data=X_under,columns=feat)\n",
        "y_under_df = pd.DataFrame(data=y_under,columns=['is_canceled'])"
      ],
      "execution_count": null,
      "outputs": []
    },
    {
      "cell_type": "code",
      "metadata": {
        "id": "38WwHHQEnN1J",
        "colab_type": "code",
        "colab": {
          "base_uri": "https://localhost:8080/",
          "height": 134
        },
        "outputId": "cbcb6a10-cfb3-46f9-eca3-465072c26269"
      },
      "source": [
        "print('Before oversampling')\n",
        "print('Class 1 samples --> ',y_train[y_train==1].shape[0])\n",
        "print('Class 0 samples --> ', y_train[y_train==0].shape[0])\n",
        "\n",
        "print('\\nAfter oversampling')\n",
        "print('Class 1 samples --> ',y_under[y_under==1].shape[0])\n",
        "print('Class 0 samples --> ', y_under[y_under==0].shape[0])"
      ],
      "execution_count": null,
      "outputs": [
        {
          "output_type": "stream",
          "text": [
            "Before oversampling\n",
            "Class 1 samples -->  3095\n",
            "Class 0 samples -->  52616\n",
            "\n",
            "After oversampling\n",
            "Class 1 samples -->  3095\n",
            "Class 0 samples -->  30950\n"
          ],
          "name": "stdout"
        }
      ]
    },
    {
      "cell_type": "code",
      "metadata": {
        "id": "TkZ_ZQYhveLM",
        "colab_type": "code",
        "colab": {
          "base_uri": "https://localhost:8080/",
          "height": 84
        },
        "outputId": "37a5dd62-dd7c-4378-b32b-343d56ea7669"
      },
      "source": [
        "c=[0,2,3,6,7,8,10,11,13,15]\n",
        "X_train.columns[c]"
      ],
      "execution_count": null,
      "outputs": [
        {
          "output_type": "execute_result",
          "data": {
            "text/plain": [
              "Index(['hotel', 'arrival_date_year', 'arrival_date_month', 'meal',\n",
              "       'market_segment', 'distribution_channel', 'reserved_room_type',\n",
              "       'assigned_room_type', 'deposit_type', 'customer_type'],\n",
              "      dtype='object')"
            ]
          },
          "metadata": {
            "tags": []
          },
          "execution_count": 322
        }
      ]
    },
    {
      "cell_type": "code",
      "metadata": {
        "id": "njNUTDUJsAKw",
        "colab_type": "code",
        "colab": {}
      },
      "source": [
        "cat_cols=[0,2,3,6,7,8,10,11,13,15]\n",
        "oversample = over_sampling.SMOTENC(categorical_features=cat_cols,sampling_strategy=0.12)\n",
        "X_over, y_over = oversample.fit_resample(X_under, y_under)\n",
        "X_over_df_smote = pd.DataFrame(data=X_over,columns=feat)\n",
        "y_over_df_smote = pd.DataFrame(data=y_over,columns=['is_canceled'])"
      ],
      "execution_count": null,
      "outputs": []
    },
    {
      "cell_type": "code",
      "metadata": {
        "id": "QyqvBeZ-tolr",
        "colab_type": "code",
        "colab": {
          "base_uri": "https://localhost:8080/",
          "height": 134
        },
        "outputId": "aa93c585-2cf4-462a-e679-f521957d2158"
      },
      "source": [
        "print('Before oversampling')\n",
        "print('Class 1 samples --> ',y_under[y_under==1].shape[0])\n",
        "print('Class 0 samples --> ', y_under[y_under==0].shape[0])\n",
        "\n",
        "print('\\nAfter oversampling')\n",
        "print('Class 1 samples --> ',y_over[y_over==1].shape[0])\n",
        "print('Class 0 samples --> ', y_over[y_over==0].shape[0])"
      ],
      "execution_count": null,
      "outputs": [
        {
          "output_type": "stream",
          "text": [
            "Before oversampling\n",
            "Class 1 samples -->  3095\n",
            "Class 0 samples -->  30950\n",
            "\n",
            "After oversampling\n",
            "Class 1 samples -->  3714\n",
            "Class 0 samples -->  30950\n"
          ],
          "name": "stdout"
        }
      ]
    },
    {
      "cell_type": "code",
      "metadata": {
        "id": "d5ffeSwDwSSd",
        "colab_type": "code",
        "colab": {}
      },
      "source": [
        "cat_cols=['hotel','arrival_date_month','arrival_date_year','meal','market_segment','distribution_channel','reserved_room_type', 'assigned_room_type',\\\n",
        "        'deposit_type','customer_type']\n",
        "X_train_enc = pd.get_dummies(data=X_over_df_smote,columns=cat_cols,drop_first=True)\n",
        "X_test_enc = pd.get_dummies(data=X_test,columns=cat_cols,drop_first=True)\n",
        "X_train_enc,X_test_enc =X_train_enc.align(X_test_enc, join='left', axis=1)\n",
        "X_test_enc=X_test_enc.fillna(0)"
      ],
      "execution_count": null,
      "outputs": []
    },
    {
      "cell_type": "code",
      "metadata": {
        "id": "oZGcYagbwVu_",
        "colab_type": "code",
        "colab": {
          "base_uri": "https://localhost:8080/",
          "height": 50
        },
        "outputId": "25a2d229-c1a6-46ae-9191-ea9bf2025e76"
      },
      "source": [
        "rf5=RandomForestClassifier(max_depth=12,n_estimators=20,random_state=24)\n",
        "rf5.fit(X_train_enc,y_over_df_smote)\n",
        "y_pred_rf5_train=rf5.predict(X_train_enc)\n",
        "print(\"Train data f1 score: \", f1_score(y_over_df_smote,y_pred_rf5_train))\n",
        "y_pred_rf5=rf5.predict(X_test_enc)\n",
        "print(\"Test data f1 score: \", f1_score(y_test,y_pred_rf5))"
      ],
      "execution_count": null,
      "outputs": [
        {
          "output_type": "stream",
          "text": [
            "Train data f1 score:  0.5503512880562061\n",
            "Test data f1 score:  0.510662177328844\n"
          ],
          "name": "stdout"
        }
      ]
    },
    {
      "cell_type": "code",
      "metadata": {
        "id": "-sEZZipqwezd",
        "colab_type": "code",
        "colab": {
          "base_uri": "https://localhost:8080/",
          "height": 580
        },
        "outputId": "6a2be253-8685-442a-8661-07e393d568d7"
      },
      "source": [
        "y_prob_rf5 = rf5.predict_proba(X_test_enc)\n",
        "precision_rf, recall_rf, thresholds = precision_recall_curve(y_test, y_prob_rf5[:,1])\n",
        "pr_aucRF = auc(recall_rf, precision_rf)\n",
        "plt.figure(figsize = (8,8))\n",
        "plt.title('Precision Recall Curve')\n",
        "plt.plot(recall_rf, precision_rf, color = 'red', label = 'PR AUC = %0.2f' % pr_aucRF)\n",
        "plt.legend(loc = 'lower right')\n",
        "\n",
        "# no_skill = Count of P / Total count\n",
        "no_skill = len(y_test[y_test==1]) / len(y_test)\n",
        "plt.plot([0, 1],  [no_skill, no_skill], linestyle = '--')\n",
        "\n",
        "# Get best threshold\n",
        "# convert to f score\n",
        "fscore = (2 * precision_rf * recall_rf) / (precision_rf + recall_rf)\n",
        "# locate the index of the largest f score\n",
        "ix = argmax(fscore)\n",
        "print('Best Threshold=%f, F-Score=%.3f' % (thresholds[ix], fscore[ix]))\n",
        "print('\\n')\n",
        "plt.plot(recall_rf[ix], precision_rf[ix], marker='o', color='black', label='Best')\n",
        "\n",
        "plt.axis('tight')\n",
        "plt.ylabel('Precision')\n",
        "plt.xlabel('Recall')"
      ],
      "execution_count": null,
      "outputs": [
        {
          "output_type": "stream",
          "text": [
            "Best Threshold=0.273619, F-Score=0.551\n",
            "\n",
            "\n"
          ],
          "name": "stdout"
        },
        {
          "output_type": "execute_result",
          "data": {
            "text/plain": [
              "Text(0.5, 0, 'Recall')"
            ]
          },
          "metadata": {
            "tags": []
          },
          "execution_count": 438
        },
        {
          "output_type": "display_data",
          "data": {
            "image/png": "[encoded data removed]",
            "text/plain": [
              "<Figure size 576x576 with 1 Axes>"
            ]
          },
          "metadata": {
            "tags": [],
            "needs_background": "light"
          }
        }
      ]
    },
    {
      "cell_type": "markdown",
      "metadata": {
        "id": "3OqXB7giuuAe",
        "colab_type": "text"
      },
      "source": [
        "# Regression"
      ]
    },
    {
      "cell_type": "code",
      "metadata": {
        "id": "JuO7q2gAETNP",
        "colab_type": "code",
        "colab": {
          "base_uri": "https://localhost:8080/",
          "height": 67
        },
        "outputId": "578eb217-87e8-47f0-f535-faedf09062be"
      },
      "source": [
        "boston_raw = datasets.load_boston()\n",
        "#boston_raw is of sklearn internal datatype. Converting it to pandas dataframe so we can analyze the data easier\n",
        "boston = pd.DataFrame(boston_raw.data, columns=boston_raw.feature_names)\n",
        "#target is the predict_to column, in this case it is medv and numerical in nature.\n",
        "boston['MEDV'] = boston_raw.target\n",
        "boston.columns"
      ],
      "execution_count": 2,
      "outputs": [
        {
          "output_type": "execute_result",
          "data": {
            "text/plain": [
              "Index(['CRIM', 'ZN', 'INDUS', 'CHAS', 'NOX', 'RM', 'AGE', 'DIS', 'RAD', 'TAX',\n",
              "       'PTRATIO', 'B', 'LSTAT', 'MEDV'],\n",
              "      dtype='object')"
            ]
          },
          "metadata": {
            "tags": []
          },
          "execution_count": 2
        }
      ]
    },
    {
      "cell_type": "code",
      "metadata": {
        "id": "ergUQdPI-_oV",
        "colab_type": "code",
        "colab": {
          "base_uri": "https://localhost:8080/",
          "height": 894
        },
        "outputId": "66f5ba85-526d-4381-a0e7-884c8785cb20"
      },
      "source": [
        "print(boston_raw.DESCR)"
      ],
      "execution_count": 3,
      "outputs": [
        {
          "output_type": "stream",
          "text": [
            ".. _boston_dataset:\n",
            "\n",
            "Boston house prices dataset\n",
            "---------------------------\n",
            "\n",
            "**Data Set Characteristics:**  \n",
            "\n",
            "    :Number of Instances: 506 \n",
            "\n",
            "    :Number of Attributes: 13 numeric/categorical predictive. Median Value (attribute 14) is usually the target.\n",
            "\n",
            "    :Attribute Information (in order):\n",
            "        - CRIM     per capita crime rate by town\n",
            "        - ZN       proportion of residential land zoned for lots over 25,000 sq.ft.\n",
            "        - INDUS    proportion of non-retail business acres per town\n",
            "        - CHAS     Charles River dummy variable (= 1 if tract bounds river; 0 otherwise)\n",
            "        - NOX      nitric oxides concentration (parts per 10 million)\n",
            "        - RM       average number of rooms per dwelling\n",
            "        - AGE      proportion of owner-occupied units built prior to 1940\n",
            "        - DIS      weighted distances to five Boston employment centres\n",
            "        - RAD      index of accessibility to radial highways\n",
            "        - TAX      full-value property-tax rate per $10,000\n",
            "        - PTRATIO  pupil-teacher ratio by town\n",
            "        - B        1000(Bk - 0.63)^2 where Bk is the proportion of blacks by town\n",
            "        - LSTAT    % lower status of the population\n",
            "        - MEDV     Median value of owner-occupied homes in $1000's\n",
            "\n",
            "    :Missing Attribute Values: None\n",
            "\n",
            "    :Creator: Harrison, D. and Rubinfeld, D.L.\n",
            "\n",
            "This is a copy of UCI ML housing dataset.\n",
            "https://archive.ics.uci.edu/ml/machine-learning-databases/housing/\n",
            "\n",
            "\n",
            "This dataset was taken from the StatLib library which is maintained at Carnegie Mellon University.\n",
            "\n",
            "The Boston house-price data of Harrison, D. and Rubinfeld, D.L. 'Hedonic\n",
            "prices and the demand for clean air', J. Environ. Economics & Management,\n",
            "vol.5, 81-102, 1978.   Used in Belsley, Kuh & Welsch, 'Regression diagnostics\n",
            "...', Wiley, 1980.   N.B. Various transformations are used in the table on\n",
            "pages 244-261 of the latter.\n",
            "\n",
            "The Boston house-price data has been used in many machine learning papers that address regression\n",
            "problems.   \n",
            "     \n",
            ".. topic:: References\n",
            "\n",
            "   - Belsley, Kuh & Welsch, 'Regression diagnostics: Identifying Influential Data and Sources of Collinearity', Wiley, 1980. 244-261.\n",
            "   - Quinlan,R. (1993). Combining Instance-Based and Model-Based Learning. In Proceedings on the Tenth International Conference of Machine Learning, 236-243, University of Massachusetts, Amherst. Morgan Kaufmann.\n",
            "\n"
          ],
          "name": "stdout"
        }
      ]
    },
    {
      "cell_type": "code",
      "metadata": {
        "id": "5sOchO6-HsMr",
        "colab_type": "code",
        "colab": {
          "base_uri": "https://localhost:8080/",
          "height": 168
        },
        "outputId": "bce00107-5642-49ef-9416-5e8e70047b49"
      },
      "source": [
        "boston['MEDV'].describe()"
      ],
      "execution_count": null,
      "outputs": [
        {
          "output_type": "execute_result",
          "data": {
            "text/plain": [
              "count    506.000000\n",
              "mean      22.532806\n",
              "std        9.197104\n",
              "min        5.000000\n",
              "25%       17.025000\n",
              "50%       21.200000\n",
              "75%       25.000000\n",
              "max       50.000000\n",
              "Name: MEDV, dtype: float64"
            ]
          },
          "metadata": {
            "tags": []
          },
          "execution_count": 114
        }
      ]
    },
    {
      "cell_type": "markdown",
      "metadata": {
        "id": "QBtRXfX9MIur",
        "colab_type": "text"
      },
      "source": [
        "Adding artificial outliers to see difference in Loss functions "
      ]
    },
    {
      "cell_type": "code",
      "metadata": {
        "id": "J5O2e8kJHZlV",
        "colab_type": "code",
        "colab": {}
      },
      "source": [
        "s = boston[boston['MEDV']==50].shape[0]\n",
        "boston.loc[(boston['MEDV']==50),'MEDV'] = np.random.randint(50,70, size=s)"
      ],
      "execution_count": null,
      "outputs": []
    },
    {
      "cell_type": "code",
      "metadata": {
        "id": "mj9to2KXLy2Y",
        "colab_type": "code",
        "colab": {
          "base_uri": "https://localhost:8080/",
          "height": 34
        },
        "outputId": "edd14b34-2435-403c-9d87-662f7c271217"
      },
      "source": [
        "boston[boston['MEDV']>50].shape"
      ],
      "execution_count": null,
      "outputs": [
        {
          "output_type": "execute_result",
          "data": {
            "text/plain": [
              "(16, 14)"
            ]
          },
          "metadata": {
            "tags": []
          },
          "execution_count": 118
        }
      ]
    },
    {
      "cell_type": "markdown",
      "metadata": {
        "id": "UmGJ5SBZW1gG",
        "colab_type": "text"
      },
      "source": [
        "<b> Feature Engineering"
      ]
    },
    {
      "cell_type": "code",
      "metadata": {
        "id": "NcbtRU1rEhOX",
        "colab_type": "code",
        "colab": {}
      },
      "source": [
        "y = boston[\"MEDV\"]\n",
        "X = boston.drop([\"MEDV\"], axis=1)\n",
        "X_train, X_test, y_train, y_test = train_test_split(X, y, test_size = 0.30, random_state = 42)"
      ],
      "execution_count": 5,
      "outputs": []
    },
    {
      "cell_type": "code",
      "metadata": {
        "id": "r0kHzHEz_n_g",
        "colab_type": "code",
        "colab": {
          "base_uri": "https://localhost:8080/",
          "height": 284
        },
        "outputId": "a8aa809f-63eb-47b2-b8b6-95ff61d8295f"
      },
      "source": [
        "X_train.describe()"
      ],
      "execution_count": 8,
      "outputs": [
        {
          "output_type": "execute_result",
          "data": {
            "text/html": [
              "<div>\n",
              "<style scoped>\n",
              "    .dataframe tbody tr th:only-of-type {\n",
              "        vertical-align: middle;\n",
              "    }\n",
              "\n",
              "    .dataframe tbody tr th {\n",
              "        vertical-align: top;\n",
              "    }\n",
              "\n",
              "    .dataframe thead th {\n",
              "        text-align: right;\n",
              "    }\n",
              "</style>\n",
              "<table border=\"1\" class=\"dataframe\">\n",
              "  <thead>\n",
              "    <tr style=\"text-align: right;\">\n",
              "      <th></th>\n",
              "      <th>CRIM</th>\n",
              "      <th>ZN</th>\n",
              "      <th>INDUS</th>\n",
              "      <th>CHAS</th>\n",
              "      <th>NOX</th>\n",
              "      <th>RM</th>\n",
              "      <th>AGE</th>\n",
              "      <th>DIS</th>\n",
              "      <th>RAD</th>\n",
              "      <th>TAX</th>\n",
              "      <th>PTRATIO</th>\n",
              "      <th>B</th>\n",
              "      <th>LSTAT</th>\n",
              "    </tr>\n",
              "  </thead>\n",
              "  <tbody>\n",
              "    <tr>\n",
              "      <th>count</th>\n",
              "      <td>354.000000</td>\n",
              "      <td>354.000000</td>\n",
              "      <td>354.000000</td>\n",
              "      <td>354.000000</td>\n",
              "      <td>354.000000</td>\n",
              "      <td>354.000000</td>\n",
              "      <td>354.000000</td>\n",
              "      <td>354.000000</td>\n",
              "      <td>354.000000</td>\n",
              "      <td>354.000000</td>\n",
              "      <td>354.000000</td>\n",
              "      <td>354.000000</td>\n",
              "      <td>354.000000</td>\n",
              "    </tr>\n",
              "    <tr>\n",
              "      <th>mean</th>\n",
              "      <td>3.469887</td>\n",
              "      <td>11.403955</td>\n",
              "      <td>11.133051</td>\n",
              "      <td>0.073446</td>\n",
              "      <td>0.557259</td>\n",
              "      <td>6.325672</td>\n",
              "      <td>68.799718</td>\n",
              "      <td>3.765874</td>\n",
              "      <td>9.437853</td>\n",
              "      <td>407.042373</td>\n",
              "      <td>18.277966</td>\n",
              "      <td>359.701808</td>\n",
              "      <td>12.421130</td>\n",
              "    </tr>\n",
              "    <tr>\n",
              "      <th>std</th>\n",
              "      <td>8.315831</td>\n",
              "      <td>22.608457</td>\n",
              "      <td>6.938651</td>\n",
              "      <td>0.261237</td>\n",
              "      <td>0.116792</td>\n",
              "      <td>0.719211</td>\n",
              "      <td>27.665360</td>\n",
              "      <td>2.126032</td>\n",
              "      <td>8.639971</td>\n",
              "      <td>166.522237</td>\n",
              "      <td>2.256792</td>\n",
              "      <td>86.924779</td>\n",
              "      <td>7.112402</td>\n",
              "    </tr>\n",
              "    <tr>\n",
              "      <th>min</th>\n",
              "      <td>0.009060</td>\n",
              "      <td>0.000000</td>\n",
              "      <td>1.210000</td>\n",
              "      <td>0.000000</td>\n",
              "      <td>0.385000</td>\n",
              "      <td>3.863000</td>\n",
              "      <td>2.900000</td>\n",
              "      <td>1.129600</td>\n",
              "      <td>1.000000</td>\n",
              "      <td>187.000000</td>\n",
              "      <td>12.600000</td>\n",
              "      <td>0.320000</td>\n",
              "      <td>1.730000</td>\n",
              "    </tr>\n",
              "    <tr>\n",
              "      <th>25%</th>\n",
              "      <td>0.082320</td>\n",
              "      <td>0.000000</td>\n",
              "      <td>5.130000</td>\n",
              "      <td>0.000000</td>\n",
              "      <td>0.450000</td>\n",
              "      <td>5.889500</td>\n",
              "      <td>46.025000</td>\n",
              "      <td>2.073700</td>\n",
              "      <td>4.000000</td>\n",
              "      <td>279.000000</td>\n",
              "      <td>16.650000</td>\n",
              "      <td>376.782500</td>\n",
              "      <td>6.862500</td>\n",
              "    </tr>\n",
              "    <tr>\n",
              "      <th>50%</th>\n",
              "      <td>0.256510</td>\n",
              "      <td>0.000000</td>\n",
              "      <td>9.690000</td>\n",
              "      <td>0.000000</td>\n",
              "      <td>0.538000</td>\n",
              "      <td>6.227500</td>\n",
              "      <td>77.350000</td>\n",
              "      <td>3.107300</td>\n",
              "      <td>5.000000</td>\n",
              "      <td>330.000000</td>\n",
              "      <td>18.600000</td>\n",
              "      <td>391.600000</td>\n",
              "      <td>10.925000</td>\n",
              "    </tr>\n",
              "    <tr>\n",
              "      <th>75%</th>\n",
              "      <td>3.281688</td>\n",
              "      <td>20.000000</td>\n",
              "      <td>18.100000</td>\n",
              "      <td>0.000000</td>\n",
              "      <td>0.631000</td>\n",
              "      <td>6.681750</td>\n",
              "      <td>93.475000</td>\n",
              "      <td>5.400700</td>\n",
              "      <td>24.000000</td>\n",
              "      <td>666.000000</td>\n",
              "      <td>20.200000</td>\n",
              "      <td>396.172500</td>\n",
              "      <td>16.225000</td>\n",
              "    </tr>\n",
              "    <tr>\n",
              "      <th>max</th>\n",
              "      <td>88.976200</td>\n",
              "      <td>95.000000</td>\n",
              "      <td>27.740000</td>\n",
              "      <td>1.000000</td>\n",
              "      <td>0.871000</td>\n",
              "      <td>8.780000</td>\n",
              "      <td>100.000000</td>\n",
              "      <td>12.126500</td>\n",
              "      <td>24.000000</td>\n",
              "      <td>711.000000</td>\n",
              "      <td>22.000000</td>\n",
              "      <td>396.900000</td>\n",
              "      <td>37.970000</td>\n",
              "    </tr>\n",
              "  </tbody>\n",
              "</table>\n",
              "</div>"
            ],
            "text/plain": [
              "             CRIM          ZN       INDUS  ...     PTRATIO           B       LSTAT\n",
              "count  354.000000  354.000000  354.000000  ...  354.000000  354.000000  354.000000\n",
              "mean     3.469887   11.403955   11.133051  ...   18.277966  359.701808   12.421130\n",
              "std      8.315831   22.608457    6.938651  ...    2.256792   86.924779    7.112402\n",
              "min      0.009060    0.000000    1.210000  ...   12.600000    0.320000    1.730000\n",
              "25%      0.082320    0.000000    5.130000  ...   16.650000  376.782500    6.862500\n",
              "50%      0.256510    0.000000    9.690000  ...   18.600000  391.600000   10.925000\n",
              "75%      3.281688   20.000000   18.100000  ...   20.200000  396.172500   16.225000\n",
              "max     88.976200   95.000000   27.740000  ...   22.000000  396.900000   37.970000\n",
              "\n",
              "[8 rows x 13 columns]"
            ]
          },
          "metadata": {
            "tags": []
          },
          "execution_count": 8
        }
      ]
    },
    {
      "cell_type": "markdown",
      "metadata": {
        "id": "9_PEvFzgAEYj",
        "colab_type": "text"
      },
      "source": [
        "### Min-Max scaler\n",
        "$x_{scaled} = \\frac{(x – min)}{(max – min)}$\n"
      ]
    },
    {
      "cell_type": "code",
      "metadata": {
        "id": "-EjADyhiFVb8",
        "colab_type": "code",
        "colab": {}
      },
      "source": [
        "min_max_scaler = MinMaxScaler()\n",
        "boston_train_norm = pd.DataFrame(min_max_scaler.fit_transform(X_train), columns=X_train.columns)\n",
        "\n",
        "boston_test_norm = pd.DataFrame(min_max_scaler.transform(X_test), columns=X_test.columns)"
      ],
      "execution_count": null,
      "outputs": []
    },
    {
      "cell_type": "markdown",
      "metadata": {
        "id": "1QbL_4m3Zcy1",
        "colab_type": "text"
      },
      "source": [
        "### Building Linear Regression"
      ]
    },
    {
      "cell_type": "markdown",
      "metadata": {
        "id": "WIFsl43cLGGO",
        "colab_type": "text"
      },
      "source": [
        "Model 1"
      ]
    },
    {
      "cell_type": "code",
      "metadata": {
        "id": "vaUm4r3jHEXr",
        "colab_type": "code",
        "colab": {}
      },
      "source": [
        "linreg1 = LinearRegression()\n",
        "linreg1.fit(X_train, y_train)\n",
        "y_pred_L2 = linreg1.predict(X_test)"
      ],
      "execution_count": null,
      "outputs": []
    },
    {
      "cell_type": "markdown",
      "metadata": {
        "id": "kJW3G3d8aNSk",
        "colab_type": "text"
      },
      "source": [
        "### Loss function"
      ]
    },
    {
      "cell_type": "markdown",
      "metadata": {
        "id": "0Vafac-0aUyI",
        "colab_type": "text"
      },
      "source": [
        "<b>Mean Absolute Error (MAE) --  $MAE = \\frac{1}{N} \\sum_{j=1}^{N}|y_j-\\hat{y_j}|$<br><br>\n",
        "<b>Root Mean SQuared Error (RMSE) --  $RMSE = \\sqrt {\\frac{\\sum_{j=1}^{N}(y_j-\\hat{y_j})^2}{N}}$<br>\n"
      ]
    },
    {
      "cell_type": "code",
      "metadata": {
        "id": "8GmRaV82HJmn",
        "colab_type": "code",
        "colab": {
          "base_uri": "https://localhost:8080/",
          "height": 50
        },
        "outputId": "240404f8-c1e2-4bc0-a96b-ac0304c95802"
      },
      "source": [
        "print('Mean Absolute Error:', metrics.mean_absolute_error(y_test, y_pred_L2))\n",
        "print('Root Mean Squared Error:', np.sqrt(metrics.mean_squared_error(y_test, y_pred_L2)))"
      ],
      "execution_count": null,
      "outputs": [
        {
          "output_type": "stream",
          "text": [
            "Mean Absolute Error: 3.558273155310644\n",
            "Root Mean Squared Error: 5.440578713331204\n"
          ],
          "name": "stdout"
        }
      ]
    },
    {
      "cell_type": "markdown",
      "metadata": {
        "id": "ZiZ7TQX_Voa0",
        "colab_type": "text"
      },
      "source": [
        "<b>R-squared -- $R^2 = 1 - \\frac{SS_{res}}{SS_{tot}}$ <br><br>\n",
        "Adjusted R-squared </b> -- $ R^2_{adj} = 1- \\frac{( 1-R^2 )( n-1 )}{n-k-1}$"
      ]
    },
    {
      "cell_type": "code",
      "metadata": {
        "id": "uAwMqKRuVnhh",
        "colab_type": "code",
        "colab": {
          "base_uri": "https://localhost:8080/",
          "height": 34
        },
        "outputId": "adbae4a4-9081-4082-9b32-6608e6b8f4ed"
      },
      "source": [
        "r2 = metrics.r2_score(y_test,y_pred_L2)\n",
        "print('R-squared: ',r2 )"
      ],
      "execution_count": null,
      "outputs": [
        {
          "output_type": "stream",
          "text": [
            "R-squared:  0.6599718561838986\n"
          ],
          "name": "stdout"
        }
      ]
    },
    {
      "cell_type": "code",
      "metadata": {
        "id": "N3y4Dhm7XneZ",
        "colab_type": "code",
        "colab": {
          "base_uri": "https://localhost:8080/",
          "height": 34
        },
        "outputId": "1e5d9986-2d17-4025-d4ff-7dd415bf3998"
      },
      "source": [
        "n = X_train.shape[0]\n",
        "k = X_train.shape[1]\n",
        "adj_r2 = 1 - (((1-r2)*(n-1))/(n-k-1))\n",
        "print('Adjusted R-squared',adj_r2)"
      ],
      "execution_count": null,
      "outputs": [
        {
          "output_type": "stream",
          "text": [
            "Adjusted R-squared 0.6469707800968124\n"
          ],
          "name": "stdout"
        }
      ]
    },
    {
      "cell_type": "markdown",
      "metadata": {
        "id": "XO_pJ_OyMB4y",
        "colab_type": "text"
      },
      "source": [
        "<b> K fold cross validation"
      ]
    },
    {
      "cell_type": "code",
      "metadata": {
        "id": "2Dw6xSSRgj3L",
        "colab_type": "code",
        "colab": {
          "base_uri": "https://localhost:8080/",
          "height": 202
        },
        "outputId": "cadb1163-9b2f-4115-cdc9-c41e087475db"
      },
      "source": [
        "print('MAE')\n",
        "scores = cross_val_score(linreg1, X, y, cv = 5, scoring='neg_mean_absolute_error')\n",
        "print(scores)\n",
        "print(np.mean(scores))\n",
        "\n",
        "print('\\nRMSE')\n",
        "scores = cross_val_score(linreg1, X, y, cv = 5, scoring='neg_root_mean_squared_error')\n",
        "print(scores)\n",
        "print(np.mean(scores))\n",
        "\n",
        "print('\\n R2')\n",
        "scores = cross_val_score(linreg1, X, y, cv = 5, scoring='r2')\n",
        "print(scores)\n",
        "print(np.mean(scores))"
      ],
      "execution_count": null,
      "outputs": [
        {
          "output_type": "stream",
          "text": [
            "MAE\n",
            "[-2.90384761 -4.57628984 -4.96339894 -6.26688493 -5.41613252]\n",
            "-4.825310770617206\n",
            "\n",
            "RMSE\n",
            "[ -3.85977353  -6.67115752  -6.94165475 -10.88127025  -6.4981679 ]\n",
            "-6.970404788830733\n",
            "\n",
            " R2\n",
            "[ 0.56861829  0.63983696  0.54845279 -0.01774978 -0.58814815]\n",
            "0.23020202088132194\n"
          ],
          "name": "stdout"
        }
      ]
    },
    {
      "cell_type": "markdown",
      "metadata": {
        "id": "IkwwBsrwLJ9q",
        "colab_type": "text"
      },
      "source": [
        "### Model 2 - Remove outliers"
      ]
    },
    {
      "cell_type": "code",
      "metadata": {
        "id": "VegYbODKLRWV",
        "colab_type": "code",
        "colab": {}
      },
      "source": [
        "boston = boston[boston['MEDV']<50]"
      ],
      "execution_count": null,
      "outputs": []
    },
    {
      "cell_type": "code",
      "metadata": {
        "id": "LLBfYPTuNola",
        "colab_type": "code",
        "colab": {
          "base_uri": "https://localhost:8080/",
          "height": 168
        },
        "outputId": "5037392c-42b9-44f5-a2e3-41da0922e648"
      },
      "source": [
        "boston['MEDV'].describe()"
      ],
      "execution_count": null,
      "outputs": [
        {
          "output_type": "execute_result",
          "data": {
            "text/plain": [
              "count    490.000000\n",
              "mean      21.635918\n",
              "std        7.865301\n",
              "min        5.000000\n",
              "25%       16.700000\n",
              "50%       20.900000\n",
              "75%       24.675000\n",
              "max       48.800000\n",
              "Name: MEDV, dtype: float64"
            ]
          },
          "metadata": {
            "tags": []
          },
          "execution_count": 94
        }
      ]
    },
    {
      "cell_type": "code",
      "metadata": {
        "id": "FGffJMcIMCul",
        "colab_type": "code",
        "colab": {}
      },
      "source": [
        "y = boston[\"MEDV\"]\n",
        "X = boston.drop([\"MEDV\"], axis=1)\n",
        "X_train2, X_test2, y_train2, y_test2 = train_test_split(X, y, test_size = 0.30, random_state = 42)"
      ],
      "execution_count": null,
      "outputs": []
    },
    {
      "cell_type": "code",
      "metadata": {
        "id": "jFEdic0cMJMb",
        "colab_type": "code",
        "colab": {}
      },
      "source": [
        "min_max_scaler = MinMaxScaler()\n",
        "boston_train_norm2 = pd.DataFrame(min_max_scaler.fit_transform(X_train2), columns=X_train2.columns)\n",
        "\n",
        "boston_test_norm2 = pd.DataFrame(min_max_scaler.transform(X_test2), columns=X_test2.columns)"
      ],
      "execution_count": null,
      "outputs": []
    },
    {
      "cell_type": "code",
      "metadata": {
        "id": "OqdHD8JEK6mw",
        "colab_type": "code",
        "colab": {}
      },
      "source": [
        "linreg2 = LinearRegression()\n",
        "linreg2.fit(X_train2, y_train2)\n",
        "y_pred_L2_2 = linreg2.predict(X_test2)"
      ],
      "execution_count": null,
      "outputs": []
    },
    {
      "cell_type": "code",
      "metadata": {
        "id": "J_PySo9Phq14",
        "colab_type": "code",
        "colab": {
          "base_uri": "https://localhost:8080/",
          "height": 202
        },
        "outputId": "08ad42fa-69a6-4e80-98cf-5abfa150b498"
      },
      "source": [
        "print('MAE')\n",
        "scores = cross_val_score(linreg2, X, y, cv = 5, scoring='neg_mean_absolute_error')\n",
        "print(scores)\n",
        "print(np.mean(scores))\n",
        "\n",
        "print('\\nRMSE')\n",
        "scores = cross_val_score(linreg2, X, y, cv = 5, scoring='neg_root_mean_squared_error')\n",
        "print(scores)\n",
        "print(np.mean(scores))\n",
        "\n",
        "print('\\n R2')\n",
        "scores = cross_val_score(linreg2, X, y, cv = 5, scoring='r2')\n",
        "print(scores)\n",
        "print(np.mean(scores))"
      ],
      "execution_count": null,
      "outputs": [
        {
          "output_type": "stream",
          "text": [
            "MAE\n",
            "[-2.42612842 -2.58481317 -3.93996484 -4.54571332 -3.78682099]\n",
            "-3.4566881469885815\n",
            "\n",
            "RMSE\n",
            "[-3.11256487 -3.47210032 -5.42757235 -6.46566865 -4.65087812]\n",
            "-4.625756862858151\n",
            "\n",
            " R2\n",
            "[0.67122329 0.77373836 0.53130089 0.00834599 0.11865916]\n",
            "0.420653536616782\n"
          ],
          "name": "stdout"
        }
      ]
    },
    {
      "cell_type": "code",
      "metadata": {
        "id": "V38NthjrfPN3",
        "colab_type": "code",
        "colab": {}
      },
      "source": [
        ""
      ],
      "execution_count": null,
      "outputs": []
    }
  ]
}